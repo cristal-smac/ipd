{
 "cells": [
  {
   "cell_type": "markdown",
   "metadata": {
    "collapsed": true
   },
   "source": [
    "# La théorie des jeux\n",
    "\n",
    "Auteur : Philippe Mathieu, [CRISTAL Lab](http://www.cristal.univ-lille.fr), [SMAC team](https://www.cristal.univ-lille.fr/?rubrique27&eid=17), [Lille University](http://www.univ-lille.fr), email : philippe.mathieu@univ-lille.fr\n",
    "\n",
    "Contributeurs : Louisa Fodil (CRISTAL/SMAC), Céline Petitpré (CRISTAL/SMAC)\n",
    "\n",
    "Creation : 18/01/2018\n",
    "\n",
    "\n",
    "## Introduction\n",
    "\n",
    "La théorie des jeux est la discipline qui étudie de manière formelle les interactions que peuvent avoir plusieurs individus dans une situation stratégique. Le terme \"jeu\" n'a a priori rien de ludique, Von Neumann l'ayant développée pour la modélisation des interactions conflictuelles. Elle a notamment été utilisée pour modéliser et simplifier de nombreux problèmes allant des relations commerciales aux conflits armés. La théorie des jeux décompose les jeux en fonction du nombre de joueurs (généralement 2), puis principalement en deux grandes familles : les jeux simultanés, dans lesquels les joueurs jouent simultanément et donc ne savent pas en jouant ce que joue l'adversaire (pierre-feuile-ciseaux par exemple) et les jeux non simultanés où chacun joue tour à tour (les échecs par exemple). \n",
    "\n",
    "Nous nous plaçons ici dans le cadre des **jeux à deux joueurs, simultanés**. On représente en général ce type de jeu par une matrice de gains. Les coups d'un des deux joueurs se trouvent en abscisse et ceux de l'autre en ordonnée. L'intersection de chaque case caractérise une situation de jeu. On y note les points qui seront distribués à chacun des deux joueurs. Pour information, la théorie des jeux décompose encore ces jeux en deux autres familles, les jeux à somme nulle dans lesquels tout ce que perd l'un est gagné par l'autre, et les jeux à somme non nulle dans lesquels le gagnant peut gagner plus de points que ce qui est perdu par le perdant.\n",
    "\n",
    "Cette feuille a pour objectif de montrer comment représenter et générer des jeux, puis comment calculer les différents équilibres d'un jeu.\n",
    "\n",
    "## Une matrice de gains\n",
    "\n",
    "Tout d'abord, il est nécessaire de pouvoir coder une matrice de gains. Une classe `Game` va nous\n",
    "permettre de stocker les gains des deux joueurs pour une situation donnée. \n",
    "Un objet Game prend en paramètre un tableau de couples d'entiers correspondant aux scores de chaque issue du jeu, ainsi qu'un tableau des noms des actions correspondantes.\n",
    "En interne, le package *numpy* offre un objet `Array` idéal pour stocker et manipuler cela. Pour un jeu à `n` possibilités de choix pour chaque joueur, nous créons un Array `n*n` de couples de valeurs `(x,y)` avec `x` le gain du joueur 1 et `y` le gain du joueur 2."
   ]
  },
  {
   "cell_type": "code",
   "execution_count": null,
   "metadata": {},
   "outputs": [],
   "source": [
    "import numpy as np\n",
    "import math\n",
    "import pandas as pd\n",
    "\n",
    "\n",
    "class Game:\n",
    "    def __init__(self, tab, actions):\n",
    "        self.actions = actions\n",
    "        m = np.array(tab, dtype=[(\"x\", object), (\"y\", object)])\n",
    "        self.size = int(math.sqrt(len(tab)))\n",
    "        self.scores = m.reshape(self.size, self.size)\n",
    "\n",
    "    def prettyPrint(self):\n",
    "        game = pd.DataFrame(np.nan, self.actions, self.actions, dtype=object)\n",
    "        for i in range(self.size):\n",
    "            for j in range(self.size):\n",
    "                game.iat[i, j] = self.scores[i][j]\n",
    "        print(game)\n",
    "\n",
    "\n",
    "print(\"All is ok\")"
   ]
  },
  {
   "cell_type": "code",
   "execution_count": null,
   "metadata": {},
   "outputs": [],
   "source": [
    "# Quelques jeux célèbres\n",
    "\n",
    "# guerre des sexes (battle of the sexes)\n",
    "gs = [(3, 2), (1, 1), (0, 0), (2, 3)]\n",
    "\n",
    "# poule-mouillée (chicken game)\n",
    "cg = [(-100, -100), (2, -2), (-2, 2), (0, 0)]\n",
    "\n",
    "# matching pennies\n",
    "mp = [(1, -1), (-1, 1), (-1, 1), (1, -1)]\n",
    "\n",
    "# pierre-feuille-ciseaux (rock-paper-scissors)\n",
    "rpc = [(0, 0), (-1, 1), (1, -1), (1, -1), (0, 0), (-1, 1), (-1, 1), (1, -1), (0, 0)]\n",
    "\n",
    "# Dilemme du prisonnier (prisoner's dilemma)\n",
    "dp = [(3, 3), (0, 5), (5, 0), (1, 1)]\n",
    "g = Game(dp, [\"C\", \"D\"])\n",
    "g.prettyPrint()"
   ]
  },
  {
   "cell_type": "markdown",
   "metadata": {},
   "source": [
    "# La notion d'équilibre\n",
    "\n",
    "Les économistes se sont très vite emparés de ces modèles pour étudier différents problèmes économiques. Afin d'identifier la meilleure manière de jouer à un jeu fixé, ils se sont basés sur la notion abstraite de rationalité du joueur. Partant du principe que, dans le pire des cas, l'adversaire est aussi rationnel, le raisonnement que je m'applique doit donc aussi être appliqué à mon adversaire. Très vite, plusieurs définitions de la rationalité sont apparues, définissant ainsi un (ou éventuellement plusieurs) point fixe d'un jeu, point vers lequel rationnellement, si tout le monde réfléchis de manière identique, on parviendra à :\n",
    "1. *L'équilibre de Nash*, du nom de son inventeur, [John Forbes Nash](https://fr.wikipedia.org/wiki/John_Forbes_Nash). L'équilibre de Nash est une situation de non regret de chacun des joueurs. *\"nous avons joué simultanément, mais maintenant que je sais ce que l'autre a joué, je n'ai aucun regret\"*\n",
    "2. *L'optimum de Pareto*, du nom de son inventeur, [Vilfredo Pareto](https://fr.wikipedia.org/wiki/Vilfredo_Pareto). l'optimum de Pareto est une situation où aucune situation n'est supérieure pour les deux joueurs, et donc ils n'ont aucun interêt collectivement à changer.\n",
    "3. *L'équilibre en stratégies dominantes*. Un joueur \"rationnel\" ne jouera jamais une de ses stratégies si elle est dominée par une autre de ses stratégies. On peut donc \"simplifier\" un jeu en éliminant itérativement les stratégies dominées.\n",
    "\n"
   ]
  },
  {
   "cell_type": "markdown",
   "metadata": {},
   "source": [
    "## L'équilibre de Nash\n",
    "\n",
    "Pour calculer la situation de \"non regret\" correspondant à l'équilibre de Nash il suffit de noter les réponses du joueur 1 les plus adaptées aux choix possibles du joueur 2 (donc calculer les max(x) dans chaque colonne), puis calculer les meilleures réponses du joueur 2 aux choix possibles du joueur 1 (donc calculer les max(y) dans chaque ligne). Si une issue possède 2 max, c'est un équilibre de Nash. Selon les jeux, il peut bien sûr y en avoir 1, plusieurs ou pas du tout. \n",
    "L'usage d'un `np.Array` facilite énormément les choses puisqu'il est possible d'avoir les vecteurs de valeurs max en ligne ou en colonne. Il suffit donc de fabriquer des matrices booléennes dans chaque cas et d'en faire un `ou` logique."
   ]
  },
  {
   "cell_type": "code",
   "execution_count": null,
   "metadata": {},
   "outputs": [],
   "source": [
    "def getNash(self):\n",
    "    max_x = np.matrix(self.scores[\"x\"].max(0)).repeat(self.size, axis=0)\n",
    "    bool_x = self.scores[\"x\"] == max_x\n",
    "    max_y = np.matrix(self.scores[\"y\"].max(1)).transpose().repeat(self.size, axis=1)\n",
    "    bool_y = self.scores[\"y\"] == max_y\n",
    "    bool_x_y = bool_x & bool_y\n",
    "    result = np.where(bool_x_y == True)\n",
    "    listOfCoordinates = list(zip(result[0], result[1]))\n",
    "    return listOfCoordinates\n",
    "\n",
    "\n",
    "print(\"All is ok\")"
   ]
  },
  {
   "cell_type": "markdown",
   "metadata": {},
   "source": [
    "#### Application à la guerre des sexes \n",
    "Dans [la guerre des sexes](https://en.wikipedia.org/wiki/Battle_of_the_sexes_(game_theory)) un couple s'est donné rendez-vous pour la soirée, mais aucun ne parvient à se souvenir si c'est pour assister à un match de foot ou aller à l'opéra. \n",
    "Le mari préférerait aller voir le foot, la femme aimerait aller à l'opéra. \n",
    "Tous deux préfèrent cependant aller au même endroit plutôt que d'être seuls.\n",
    "Si l'homme va au stade et que sa femme s'y trouve, il obtient 3.\n",
    "Si il est seul au stade, il obtient 1.\n",
    "Si il va à l'opéra et que sa femme est au stade, il obtient 0.\n",
    "Si il va à l'opéra et que sa femme est aussi à l'opéra, il obtient 2.\n",
    "(Même chose pour la femme en inversant opéra et stade)\n",
    "On obtient donc la matrice `gs` suivante sur laquelle on peut tester l'équilibre de Nash."
   ]
  },
  {
   "cell_type": "code",
   "execution_count": null,
   "metadata": {},
   "outputs": [],
   "source": [
    "gs = [(3, 2), (1, 1), (0, 0), (2, 3)]\n",
    "g = Game(gs, [\"Opera\", \"Stade\"])\n",
    "\n",
    "# On récupére les indices du/des équilibres de Nash\n",
    "listOfCoordinates = getNash(g)\n",
    "print(\"Les coordonnées des équilibres de Nash : \")\n",
    "print(listOfCoordinates)\n",
    "\n",
    "# On imprime les coups correspondants à ces équilibres\n",
    "print(\"Les coups correspondants : \")\n",
    "for cor in listOfCoordinates:\n",
    "    print(g.actions[cor[0]], g.actions[cor[1]])\n",
    "\n",
    "# On imprime les scores correspondants\n",
    "print(\"Les scores correspondants : \")\n",
    "for cor in listOfCoordinates:\n",
    "    print(g.scores[cor[0]][cor[1]])"
   ]
  },
  {
   "cell_type": "markdown",
   "metadata": {},
   "source": [
    "On remarque ici que le jeu possède deux équilibres de Nash qui correspondent aux situations où le couple est ensemble."
   ]
  },
  {
   "cell_type": "markdown",
   "metadata": {},
   "source": [
    "## Exercice 1"
   ]
  },
  {
   "cell_type": "code",
   "execution_count": null,
   "metadata": {},
   "outputs": [],
   "source": [
    "# Trouvez le/les équilibres de Nash (s'ils existent) pour le jeu Pierre Feuille Ciseaux\n",
    "\n",
    "rpc = [(0, 0), (-1, 1), (1, -1), (1, -1), (0, 0), (-1, 1), (-1, 1), (1, -1), (0, 0)]\n",
    "g = Game(rpc, [\"R\", \"P\", \"C\"])\n",
    "\n",
    "# Idem pour le Dilemme du Prisonnier"
   ]
  },
  {
   "cell_type": "markdown",
   "metadata": {},
   "source": [
    "## L'optimum de Pareto\n",
    "L'optimimum de Pareto correspond aux issues où les deux joueurs n'ont aucun interêt collectivement à changer. Pour chacune des issues du jeu on s'assure qu'aucune autre issue ne fait augmenter à la fois le score du joueur 1 et celui du joueur 2."
   ]
  },
  {
   "cell_type": "code",
   "execution_count": null,
   "metadata": {},
   "outputs": [],
   "source": [
    "def isPareto(self, t, s):\n",
    "    return (\n",
    "        True\n",
    "        if (len(s) == 0)\n",
    "        else (s[0][0] <= t[0] or s[0][1] <= t[1]) and isPareto(self, t, s[1:])\n",
    "    )\n",
    "\n",
    "\n",
    "def getPareto(self):\n",
    "    x = 0\n",
    "    y = 0\n",
    "    res = list()\n",
    "    liste = self.scores.flatten()\n",
    "    for s in liste:\n",
    "        if x == self.size:\n",
    "            x = 0\n",
    "            y = y + 1\n",
    "        if isPareto(self, s, liste):\n",
    "            res.append((x, y))\n",
    "        x = x + 1\n",
    "    return res\n",
    "\n",
    "\n",
    "print(\"All is ok\")"
   ]
  },
  {
   "cell_type": "markdown",
   "metadata": {},
   "source": [
    "#### Reprenons le jeu de la guerre des sexes"
   ]
  },
  {
   "cell_type": "code",
   "execution_count": null,
   "metadata": {},
   "outputs": [],
   "source": [
    "gs = [(3, 2), (1, 1), (0, 0), (2, 3)]\n",
    "g = Game(gs, [\"Opera\", \"Stade\"])\n",
    "\n",
    "# On récupére les indices du/des équilibres de Pareto\n",
    "listOfCoordinates = getPareto(g)\n",
    "print(\"Les coordonnées des équilibres de Pareto : \")\n",
    "print(listOfCoordinates)\n",
    "\n",
    "# On imprime les coups correspondants à ces équilibres\n",
    "print(\"Les coups correspondants : \")\n",
    "for cor in listOfCoordinates:\n",
    "    print(g.actions[cor[0]], g.actions[cor[1]])\n",
    "\n",
    "# On imprimes les scores correspondants\n",
    "print(\"Les scores correspondants : \")\n",
    "for cor in listOfCoordinates:\n",
    "    print(g.scores[cor[0]][cor[1]])"
   ]
  },
  {
   "cell_type": "markdown",
   "metadata": {},
   "source": [
    "On remarque qu'il y a deux optima de Pareto pour la guerre des sexes qui sont les mêmes que pour les équilibres de Nash."
   ]
  },
  {
   "cell_type": "markdown",
   "metadata": {},
   "source": [
    "## Exercice 2"
   ]
  },
  {
   "cell_type": "code",
   "execution_count": null,
   "metadata": {},
   "outputs": [],
   "source": [
    "# Trouver les équilibres de Pareto (s'il existent) pour le jeu Pierre Feuille Ciseaux\n",
    "\n",
    "rpc = [(0, 0), (-1, 1), (1, -1), (1, -1), (0, 0), (-1, 1), (-1, 1), (1, -1), (0, 0)]\n",
    "g = Game(rpc, [\"R\", \"P\", \"C\"])\n",
    "\n",
    "\n",
    "# idem pour le dilemme du prisonnier"
   ]
  },
  {
   "cell_type": "markdown",
   "metadata": {},
   "source": [
    "## L'équilibre en stratégie dominante\n",
    "\n",
    "Pour un joueur rationnel, si une de ses stratégies est dominée par une autre pour toutes les répliques de l'adversaire, alors elle n'a pas d'intérêt. On peut donc simplifier le jeu en éliminant tour à tour ces différentes stratégies (EISD). S'il ne reste qu'une seule issue après ce processus on appelle cette issue l''équilibre en stratégie dominante. Un équilibre en stratégies dominantes est toujours un équilibre de Nash mais l'inverse n'est pas vrai.\n",
    "Si on a éliminé les stratégies *faiblement* dominées et qu'il ne reste qu'une stratégie pour chaque joueur, alors c'est un équilibre de Nash, mais il peut y en avoir d'autres (et selon l'ordre d'élimination on tombe sur l'un ou l'autre)"
   ]
  },
  {
   "cell_type": "code",
   "execution_count": null,
   "metadata": {},
   "outputs": [],
   "source": [
    "def getDominantStrategies(self, strict=\"True\"):\n",
    "    dominatedLines = []\n",
    "    dominatedColumns = []\n",
    "    findDominated = True\n",
    "    while (\n",
    "        findDominated\n",
    "        and (len(dominatedLines) != self.size - 1)\n",
    "        and (len(dominatedColumns) != self.size - 1)\n",
    "    ):\n",
    "        findDominated = False\n",
    "        # on regarde les lignes dominées\n",
    "        for i in range(self.size - 1):\n",
    "            line1 = self.scores[\"x\"][i]\n",
    "            line2 = self.scores[\"x\"][i + 1]\n",
    "            if compare(self, line1, line2, dominatedColumns, strict):\n",
    "                if i not in dominatedLines:\n",
    "                    dominatedLines += [i]\n",
    "                    findDominated = True\n",
    "            if compare(self, line2, line1, dominatedColumns, strict):\n",
    "                if i + 1 not in dominatedLines:\n",
    "                    dominatedLines += [i + 1]\n",
    "                    findDominated = True\n",
    "        # on regarde les colonnes dominées\n",
    "        for i in range(self.size - 1):\n",
    "            c1 = self.scores[\"y\"].transpose()[i]\n",
    "            c2 = self.scores[\"y\"].transpose()[i + 1]\n",
    "            if compare(self, c1, c2, dominatedLines, strict):\n",
    "                if i not in dominatedColumns:\n",
    "                    dominatedColumns += [i]\n",
    "                    findDominated = True\n",
    "            if compare(self, c2, c1, dominatedLines, strict):\n",
    "                if i + 1 not in dominatedColumns:\n",
    "                    dominatedColumns += [i + 1]\n",
    "                    findDominated = True\n",
    "    return result(self, dominatedLines, dominatedColumns)\n",
    "\n",
    "\n",
    "def compare(self, l1, l2, tab, strict):\n",
    "    dominated = True\n",
    "    for i in range(self.size):\n",
    "        if strict:\n",
    "            if (l1[i] < l2[i] and i not in tab) or i in tab:\n",
    "                dominated = dominated and True\n",
    "            else:\n",
    "                dominated = dominated and False\n",
    "        else:\n",
    "            if (l1[i] <= l2[i] and i not in tab) or i in tab:\n",
    "                dominated = dominated and True\n",
    "            else:\n",
    "                dominated = dominated and False\n",
    "    return dominated\n",
    "\n",
    "\n",
    "def result(self, dominatedLines, dominatedColumns):\n",
    "    x = list()\n",
    "    y = list()\n",
    "    res = list()\n",
    "\n",
    "    for i in range(self.size):\n",
    "        if i not in dominatedLines:\n",
    "            x.append(i)\n",
    "        if i not in dominatedColumns:\n",
    "            y.append(i)\n",
    "\n",
    "    for indX in x:\n",
    "        for indY in y:\n",
    "            res.append((indX, indY))\n",
    "\n",
    "    return res\n",
    "\n",
    "\n",
    "print(\"All is ok\")"
   ]
  },
  {
   "cell_type": "markdown",
   "metadata": {},
   "source": [
    "#### Prenons le jeu de la guerre des sexes. \n",
    "On teste les stratégies dominées strictement et faiblement."
   ]
  },
  {
   "cell_type": "code",
   "execution_count": null,
   "metadata": {},
   "outputs": [],
   "source": [
    "gs = [(3, 2), (1, 1), (0, 0), (2, 3)]\n",
    "g = Game(gs, [\"Opera\", \"Foot\"])\n",
    "\n",
    "\n",
    "# On récupére les indices des/de la stratégie(s) non dominée(s):\n",
    "print(\"Avec l'élimination des stratégies strictement dominées : \")\n",
    "listOfCoordinates = getDominantStrategies(g)\n",
    "print(\"Les coordonnées des stratégies non dominées : \")\n",
    "print(listOfCoordinates)\n",
    "\n",
    "# On imprime les coups correspondants à ces équilibres\n",
    "print(\"Les coups correspondants : \")\n",
    "for cor in listOfCoordinates:\n",
    "    print(g.actions[cor[0]], g.actions[cor[1]])\n",
    "\n",
    "# On imprimes les scores correspondants\n",
    "print(\"Les scores correspondants : \")\n",
    "for cor in listOfCoordinates:\n",
    "    print(g.scores[cor[0]][cor[1]])\n",
    "\n",
    "print(\" \")\n",
    "\n",
    "# On récupére les indices des/de la stratégie(s) non dominée(s):\n",
    "print(\"Avec l'élimination des stratégies faiblement dominées : \")\n",
    "listOfCoordinates = getDominantStrategies(g, strict=\"False\")\n",
    "print(\"Les coordonnées des stratégies non dominées : \")\n",
    "print(listOfCoordinates)\n",
    "\n",
    "# On imprime les coups correspondants à ces équilibres\n",
    "print(\"Les coups correspondants : \")\n",
    "for cor in listOfCoordinates:\n",
    "    print(g.actions[cor[0]], g.actions[cor[1]])\n",
    "\n",
    "# On imprimes les scores correspondants\n",
    "print(\"Les scores correspondants : \")\n",
    "for cor in listOfCoordinates:\n",
    "    print(g.scores[cor[0]][cor[1]])"
   ]
  },
  {
   "cell_type": "markdown",
   "metadata": {},
   "source": [
    "## Exercice 3"
   ]
  },
  {
   "cell_type": "code",
   "execution_count": null,
   "metadata": {},
   "outputs": [],
   "source": [
    "# Simplifier le jeu abstrait suivant. Y-a t-il un équilibre en stratégie dominante ?\n",
    "exo=[(3,6),(7,1),(4,8),(5,1),(8,2),(6,1),(6,0),(6,2),(3,2)]\n",
    "g = Game(exo,['A','B','C'])\n",
    "\n",
    "# la reponse doit etre une seule case (B,B)->(8,2)\n",
    "listOfCoordinates = getDominantStrategies(g)\n",
    "print(listOfCoordinates)\n"
   ]
  },
  {
   "cell_type": "markdown",
   "metadata": {},
   "source": [
    "## Intégration dans la classe Game\n",
    "Toutes ces méthodes peuvent bien sûr être intégrées dans la classe Game.\n",
    "\n",
    "\n",
    "### Game(tab, actions)\n",
    "- `tab` : la liste des couples de scores\n",
    "- `actions` : la liste des choix possibles\n",
    "\n",
    "\n",
    "#### Methodes\n",
    "\n",
    "- `getDominantStrategies(self, strict='True')` qui imprime une liste d'indices des choix non dominées et qui renvoie un nouveau Game avec cette nouvelle matrice\n",
    "- `getNash(self)` qui renvoie une liste d'indices des équilibres de Nash\n",
    "- `getPareto(self)` qui renvoie une liste d'indices des équilibres de Pareto\n",
    "\n"
   ]
  },
  {
   "cell_type": "code",
   "execution_count": null,
   "metadata": {},
   "outputs": [],
   "source": [
    "%run ../src/game.py\n",
    "\n",
    "print(\"All is ok\")"
   ]
  },
  {
   "cell_type": "markdown",
   "metadata": {},
   "source": [
    "### Le dilemme du prisonnier\n",
    "\n",
    "Le Dilemme du prisonnier, identifié par M. Flood and M. Dresher de la Rand Corporation en 1950, est un modèle de théorie des jeux spécialement créé pour montrer que l'équilibre de Nash n'est pas toujours une bonne idée.\n",
    "\n",
    "\n",
    "#### Testons les équilibres de Nash, Pareto et les éliminations de stratégies strictements dominées pour ce jeu.\n"
   ]
  },
  {
   "cell_type": "code",
   "execution_count": null,
   "metadata": {},
   "outputs": [],
   "source": [
    "g = Game(dp,['C','D'])\n",
    "\n",
    "\n",
    "print(\"Il existe un équilibre de Nash pour le dilemme du prisonner\")\n",
    "listOfCoordinates = g.getNash()\n",
    "for cor in listOfCoordinates : \n",
    "    print(g.actions[cor[0]], g.actions[cor[1]])\n",
    "print(\" \")\n",
    "\n",
    "print(\"Il existe trois optima de Pareto pour le dilemme du prisonnier\")\n",
    "listOfCoordinates = g.getPareto()\n",
    "for cor in listOfCoordinates : \n",
    "    print(g.actions[cor[0]], g.actions[cor[1]])\n",
    "print(\" \")\n",
    "\n",
    "print(\"La stratégie strictement dominante pour le dilemme du prisonnier est la stratégie où les deux joueurs choisissent de trahir.\")\n",
    "listOfCoordinates = getDominantStrategies(g)\n",
    "for cor in listOfCoordinates : \n",
    "    print(g.actions[cor[0]], g.actions[cor[1]])\n",
    "print(\" \")\n"
   ]
  },
  {
   "cell_type": "markdown",
   "metadata": {},
   "source": [
    "## Amusons nous\n",
    "\n",
    "### Créer une matrice de jeu au hasard"
   ]
  },
  {
   "cell_type": "code",
   "execution_count": null,
   "metadata": {},
   "outputs": [],
   "source": [
    "x = np.random.randint(0, 5, (3,3))\n",
    "y = np.random.randint(0, 5, (3,3))\n",
    "couples = [(a,b) for a,b in zip(x.flatten(),y.flatten())]\n",
    "g = Game(couples, None)\n",
    "print(g.scores)"
   ]
  },
  {
   "cell_type": "markdown",
   "metadata": {},
   "source": [
    "## Exercice 4"
   ]
  },
  {
   "cell_type": "code",
   "execution_count": null,
   "metadata": {},
   "outputs": [],
   "source": [
    "# Trouver les équilibre de Nash, Pareto et l'élimination des stratégies dominées pour ce jeu\n"
   ]
  },
  {
   "cell_type": "markdown",
   "metadata": {},
   "source": [
    "### Générer toutes les matrices\n",
    "\n",
    "En Python il est facile d'énumérer tous les jeux à 2 coups à partir de valeurs fixées. Par exemple tous les jeux que l'on peut construire avec les valeurs 1 et 2.\n",
    "La Librairie `itertools` fournit de nombreux itérateurs efficaces, notamment pour les combinaisons, permutations et produits cartésiens. Ici c'est le produit cartésien des valeurs qui nous interesse.\n",
    "On peut ensuite par exemple compter combien de jeux ont 0,1 ou plusieurs équilibres de Nash.\n"
   ]
  },
  {
   "cell_type": "code",
   "execution_count": null,
   "metadata": {},
   "outputs": [],
   "source": [
    "import itertools\n",
    "import random\n",
    "\n",
    "\n",
    "def numberOfGames(valeurs, nbCoups):\n",
    "    return len(valeurs) ** ((nbCoups ** 2) * 2)\n",
    "\n",
    "\n",
    "print(\"Nombre de jeux : \", numberOfGames([1, 2], 2))\n",
    "\n",
    "\n",
    "def enumAllGames(valeurs, nbCoups):\n",
    "    res = [\n",
    "        q\n",
    "        for q in itertools.product(\n",
    "            [p for p in itertools.product(list(valeurs), repeat=2)], repeat=nbCoups ** 2\n",
    "        )\n",
    "    ]\n",
    "    return [[res[j][k] for k in range(nbCoups ** 2)] for j in range(len(res))]\n",
    "\n",
    "\n",
    "n = enumAllGames([1, 2], 2)\n",
    "print(\"Impression de 10 jeux aléatoires trouvés dans cet ensemble\")\n",
    "for i in range(10):\n",
    "    print(random.choice(n))"
   ]
  },
  {
   "cell_type": "markdown",
   "metadata": {},
   "source": [
    "# Trouver des jeux avec des contraintes particulières\n",
    "Il est maintenant facile de chercher des jeux qui possèdent des contraintes particulières. Par exemple, Combien de jeux à 2 coups batis sur (1,2) possèdent x equilibres de Nash ?"
   ]
  },
  {
   "cell_type": "code",
   "execution_count": null,
   "metadata": {},
   "outputs": [],
   "source": [
    "def countNashEquilibria(valeurs, coups):\n",
    "    results = [len(Game(i, None).getNash()) for i in enumAllGames(valeurs, coups)]\n",
    "    return dict((i, results.count(i)) for i in set(results))\n",
    "\n",
    "\n",
    "# Combien de jeux à 2 coups batis sur (1,2) possèdent x equilibres de Nash\n",
    "countNashEquilibria([1, 2], 2)"
   ]
  },
  {
   "cell_type": "markdown",
   "metadata": {},
   "source": [
    "Quels sont les jeux à deux coups dont les valeurs sont prises dans (1,2) et qui ont exactement les mêmes equilibres nash et pareto ?"
   ]
  },
  {
   "cell_type": "code",
   "execution_count": null,
   "metadata": {},
   "outputs": [],
   "source": [
    "nbCoups = 2\n",
    "res = [\n",
    "    q\n",
    "    for q in itertools.combinations(\n",
    "        [p for p in itertools.product([0, 1, 3, 5], repeat=2)], nbCoups ** 2\n",
    "    )\n",
    "]\n",
    "games = [[res[j][k] for k in range(nbCoups ** 2)] for j in range(len(res))]\n",
    "print(str(len(games)) + \" jeux étudiés.\")\n",
    "r = []\n",
    "for g in games:\n",
    "    if (sorted(Game(g, None).getPareto()) == sorted(Game(g, None).getNash())) and (\n",
    "        len(set(g)) == len(g)\n",
    "    ):\n",
    "        r.append(g)\n",
    "r"
   ]
  },
  {
   "cell_type": "markdown",
   "metadata": {},
   "source": [
    "## Exercice 5"
   ]
  },
  {
   "cell_type": "code",
   "execution_count": null,
   "metadata": {},
   "outputs": [],
   "source": [
    "# Identifier un jeu qui a un seul optimum de pareto, 2 equilibres de Nash, \n",
    "# mais pas d'équilibre en stratégie dominante\n",
    "\n"
   ]
  },
  {
   "cell_type": "markdown",
   "metadata": {},
   "source": [
    "# Bibliographie\n",
    "\n",
    "- John Von Neumann and Oscar Mogenstern. *Theory of Games and Economic Behavior*. Princeton Classic Editions\n",
    "- Ken Binmore. *La Théorie des jeux, Une introduction.* Les éditions Arkhé\n",
    "- Bernard Guerrien. *La théorie des jeux*. Economica\n",
    "- Jean-Louis Boursin. *Initiation à la théorie des jeux*.  MontChretien\n",
    "- [Wikipedia:Theorie des jeux](https://fr.wikipedia.org/wiki/Th%C3%A9orie_des_jeux)"
   ]
  }
 ],
 "metadata": {
  "kernelspec": {
   "display_name": "Python 3 (ipykernel)",
   "language": "python",
   "name": "python3"
  },
  "language_info": {
   "codemirror_mode": {
    "name": "ipython",
    "version": 3
   },
   "file_extension": ".py",
   "mimetype": "text/x-python",
   "name": "python",
   "nbconvert_exporter": "python",
   "pygments_lexer": "ipython3",
   "version": "3.9.18"
  }
 },
 "nbformat": 4,
 "nbformat_minor": 2
}
