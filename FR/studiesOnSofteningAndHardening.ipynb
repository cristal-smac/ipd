{
 "cells": [
  {
   "cell_type": "markdown",
   "metadata": {},
   "source": [
    "# Studies on Softening and Hardening\n",
    "\n",
    "This notebook illustrates researches presented in the following papers. It is best to read one of these articles before running this notebook.\n",
    "- Jean-Paul Delahaye et Philippe Mathieu. Méta-Stratégies pour le Dilemme Itéré du Prisonnier. [JFSMA 2016, Cepadues eds](https://www.cepadues.com/livres/sciences/donnees-informatique-ia-ihm/1099-jfsma-2016-systemes-multi-agents-et-simulation-9782364935594.html), ISBN 978-2-36493-559-4. pp 13-22 [(download)](https://hal.inria.fr/hal-01378567/document)\n",
    "- Jean-Paul Delahaye et Philippe Mathieu. Adoucir son comportement ou le durcir. 23 mars 2016, [POUR LA SCIENCE n 462](https://www.pourlascience.fr/sd/cosmologie/pour-la-science-n0462-750.php). pp 80-85 [(download)](https://www.cristal.univ-lille.fr/~jdelahay/pls/2016/269.pdf)\n",
    "- Softening and Hardening in the Iterated Prisoner’s Dilemma. [System Man and Cybernetics](https://ieeexplore.ieee.org/xpl/RecentIssue.jsp?punumber=6221021) - Systems. SMC 2022 (ToAppear)\n",
    "\n",
    "\n",
    "We present here two methods to evaluate and differentiate the general behaviors of cooperation and aggressiveness of strategies in the iterated prisoner’s dilemma (IPD). \n",
    "- The first method involves taking classes of strategies, grouping strategies into subclasses based on their cooperative or aggressive “temperament” and then comprehensively assessing these subclasses. Four kinds of behaviors are confronted and compared. \n",
    "- The second method is to operate transformations that “soften” or “harden” strategies of a given set and compare them with the results obtained with the initial set. \n",
    "\n",
    "What we establish conforms to the classical analyses of the IPD. But what it shows is more precise and subtle and furthermore is established with new methods that can be considered as experimental evidence. Our method for conducting comparisons between general strategies behaviors is a new tool that can have multiple applications regarding the prisoner’s dilemma of other games.\n",
    "\n",
    "## Init and recalls"
   ]
  },
  {
   "cell_type": "code",
   "execution_count": null,
   "metadata": {},
   "outputs": [],
   "source": [
    "# Load the classical modules for IPD\n",
    "# Game about game theory, ipd about Iterated prisoner's dilemma, Strategies for a set of strategies\n",
    "\n",
    "%run ../src/game.py\n",
    "%run ../src/ipd.py\n",
    "%run ../src/strategies.py\n",
    "\n",
    "g.prettyPrint()   # prisoner's dilemma"
   ]
  },
  {
   "cell_type": "code",
   "execution_count": null,
   "metadata": {},
   "outputs": [],
   "source": [
    "# example of meeting\n",
    "m = Meeting(g, Periodic('ccd'), Tft() , length=10)\n",
    "m.run()\n",
    "m.prettyPrint()"
   ]
  },
  {
   "cell_type": "code",
   "execution_count": null,
   "metadata": {},
   "outputs": [],
   "source": [
    "# Most strategies are generic and have specific constructors. See strategies.py\n",
    "# Some available strategies\n",
    "bag = getClassicals()  # getMem(1,1)\n",
    "for s in bag :\n",
    "    print(s.name , end=', ')"
   ]
  },
  {
   "cell_type": "code",
   "execution_count": null,
   "metadata": {},
   "outputs": [],
   "source": [
    "# example of a classical tournament\n",
    "bag = [Periodic('C','allC'), Periodic('D','allD'), Tft(), Periodic('CCD','perCCD')]\n",
    "t = Tournament(g,bag,length=10)\n",
    "t.run()\n",
    "t.matrix"
   ]
  },
  {
   "cell_type": "code",
   "execution_count": null,
   "metadata": {},
   "outputs": [],
   "source": [
    "e = Ecological(t,pop=100, max_iter=1000)\n",
    "e.run()\n",
    "e.drawPlot()"
   ]
  },
  {
   "cell_type": "markdown",
   "metadata": {},
   "source": [
    "## Classification of strategies\n",
    "\n",
    "When we look at a set of strategies we see that they have general characteristics that allow them to be classified into large families. The four families we consider are\n",
    "\n",
    "\n",
    "- IC. a strategy is “initially cooperative” (IC) if it never takes the initiative of defection\n",
    "- SA. we call “spontaneously aggressive” the complementary set to IC\n",
    "- IA. a strategy is “initially aggressive” if it never takes the initiative of cooperation\n",
    "- SC. we call “spontaneously cooperative” the complementary set to IA\n",
    "\n",
    "Note that each IA strategy is also SA and that each IC strategy is also SC.\n",
    "On the other hand, it is possible to be IC and SC at the same time.\n",
    "\n",
    "The `getAgressivityClass` method takes a set of strategies as a parameter and breaks these strategies down into a 4 entry dictionary; one for each of these classes"
   ]
  },
  {
   "cell_type": "code",
   "execution_count": null,
   "metadata": {},
   "outputs": [],
   "source": [
    "def getAgressivityClasses(bag):\n",
    "    aggressivity = {'IC':[], 'SC':[],'IA':[],'SA':[]}\n",
    "    for strat in bag : \n",
    "        m1 = Meeting(g, strat, Periodic('C'), 100)\n",
    "        m1.run()\n",
    "        m2 = Meeting(g, strat, Periodic('D'), 100)\n",
    "        m2.run()\n",
    "        if m1.s1_score == 300:\n",
    "             aggressivity['IC'] += [strat]\n",
    "        if m1.s1_score > 300:\n",
    "             aggressivity['SA'] += [strat]\n",
    "        if m2.s1_score == 100:\n",
    "             aggressivity['IA'] += [strat]\n",
    "        if m2.s1_score < 100:\n",
    "             aggressivity['SC'] += [strat]\n",
    "    return aggressivity\n",
    "        \n",
    "\n",
    "ac = getAgressivityClasses(getMem11()) #getClassicals()[0:17])\n",
    "for cle,valeur in ac.items():\n",
    "    print (cle, len(valeur) , [s.name for s in valeur])\n",
    "\n",
    "# Take care that the 17th is SpitefulCC, contrary to the Simpat paper in which \n",
    "# it's mem2s"
   ]
  },
  {
   "cell_type": "markdown",
   "metadata": {},
   "source": [
    "## List of strategies in a family, with their categories"
   ]
  },
  {
   "cell_type": "code",
   "execution_count": null,
   "metadata": {},
   "outputs": [],
   "source": [
    "import pandas as pd\n",
    "bag = getClassicals()[0:17]\n",
    "ac = getAgressivityClasses(bag)\n",
    "result=[]\n",
    "for s in bag :\n",
    "    lig=[\n",
    "    'IA' if s in ac['IA'] else '' ,\n",
    "    'IC' if s in ac['IC'] else '' ,\n",
    "    'SA' if s in ac['SA'] else '' ,\n",
    "    'SC' if s in ac['SC'] else ''\n",
    "    ]\n",
    "    result.append(lig)\n",
    "df = pd.DataFrame(result, index=[s.name for s in bag])\n",
    "df"
   ]
  },
  {
   "cell_type": "markdown",
   "metadata": {},
   "source": [
    "## Size of each class for each of the main families"
   ]
  },
  {
   "cell_type": "code",
   "execution_count": null,
   "metadata": {},
   "outputs": [],
   "source": [
    "import pandas as pd\n",
    "result=[]\n",
    "for bag in [getClassicals()[0:17],getMem(1,1),getMem(1,2),getAllProba(5)] :\n",
    "    ac = getAgressivityClasses(bag)\n",
    "    lig=[]\n",
    "    for key,value in ac.items():\n",
    "        lig.append(len(value))\n",
    "    result.append(lig)\n",
    "df = pd.DataFrame(result, columns=list(ac.keys()), index=['classicals','mem11','mem12','mem21'])\n",
    "df\n",
    "\n"
   ]
  },
  {
   "cell_type": "markdown",
   "metadata": {},
   "source": [
    "Aggressiveness of strategies before and after simplification"
   ]
  },
  {
   "cell_type": "code",
   "execution_count": null,
   "metadata": {},
   "outputs": [],
   "source": [
    "# import tools to simplify a set of strategies\n",
    "%run ../src/tools.py\n",
    "\n",
    "def createTab(bag):\n",
    "    print('Initially :\\t',len(bag))\n",
    "    agr = getAgressivityClasses(bag)\n",
    "    simplified = simplifyWithTournament(bag, [Periodic('CDCCDDC'), Periodic('DDCDCDD')], 10)\n",
    "    print('After simplification :\\t',len(simplified))\n",
    "    agrS = getAgressivityClasses(simplified)\n",
    "    tab = pd.DataFrame(\n",
    "            np.nan, [\"IC\",\"SC\",\"IA\", \"SA\"], [\"Before simplify\",\"After simplify\"]\n",
    "        )\n",
    "    for key in agr :\n",
    "        tab.at[key,\"Before simplify\" ] = len(agr[key])\n",
    "    for key in agrS :\n",
    "        tab.at[key, \"After simplify\"] = len(agrS[key])\n",
    "    pd.options.display.float_format = '{:,.0f}'.format\n",
    "    return tab\n",
    "\n",
    "createTab(getMem(1,1))\n"
   ]
  },
  {
   "cell_type": "markdown",
   "metadata": {},
   "source": [
    "# Performance of the strategies in each class?"
   ]
  },
  {
   "cell_type": "code",
   "execution_count": null,
   "metadata": {},
   "outputs": [],
   "source": [
    "bag = getMem(1,1) # getClassicals()[0:17]\n",
    "t = Tournament(g,bag,100)\n",
    "e = Ecological(t, 100)\n",
    "e.run()\n",
    "ranking = e.historic.iloc[e.generation].rank(0, method=\"min\", ascending=False)\n",
    "score = e.historic.iloc[e.generation]\n",
    "agr = getAgressivityClasses(bag)\n",
    "\n",
    "# Generate the data with mean of ranks and scores\n",
    "tab = pd.DataFrame(\n",
    "            np.nan, [\"IC\",\"SC\",\"IA\", \"SA\"], [\"Mean of ranks\",\"Mean of scores\"]\n",
    "        )\n",
    "for key in agr:\n",
    "    ranks = []\n",
    "    scores = []\n",
    "    for strat in agr[key]:\n",
    "        ranks += [ranking[strat.name]]\n",
    "        scores += [score[strat.name]]\n",
    "\n",
    "    tab.at[key, \"Mean of ranks\"] = np.mean(ranks)\n",
    "    tab.at[key, \"Mean of scores\"] = np.mean(scores)\n",
    "pd.options.display.float_format = '{:,.0f}'.format   \n",
    "print(tab)\n",
    "\n",
    "# Generate the graph with mean of scores \n",
    "ranksIC, ranksSC, ranksIA, ranksSA = [], [], [], []\n",
    "for i in range(e.generation):\n",
    "    rIC = 0\n",
    "    rSC = 0\n",
    "    rIA = 0\n",
    "    rSA = 0\n",
    "    for key in agr:\n",
    "        for strat in agr[key]:\n",
    "            if key == \"IC\":\n",
    "                rIC += e.historic.iloc[i][strat.name]\n",
    "            if key == \"SC\":\n",
    "                rSC += e.historic.iloc[i][strat.name]\n",
    "            if key == \"IA\":\n",
    "                rIA += e.historic.iloc[i][strat.name]\n",
    "            if key == \"SA\":\n",
    "                rSA += e.historic.iloc[i][strat.name]\n",
    "    ranksIC += [np.sum(rIC)/len(agr['IC'])]\n",
    "    ranksSC += [np.sum(rSC)/len(agr['SC'])]\n",
    "    ranksIA += [np.sum(rIA)/len(agr['IA'])]\n",
    "    ranksSA += [np.sum(rSA)/len(agr['SA'])]\n",
    "\n",
    "\n",
    "fig, ax = plt.subplots()\n",
    "ax.plot(ranksIC, label='IC')\n",
    "ax.plot(ranksSC, label= 'SC')\n",
    "ax.plot(ranksSA, label='SA')\n",
    "ax.plot(ranksIA, label='IA')\n",
    "ax.set_ylabel('Scores')\n",
    "ax.set_xlabel('Generation')\n",
    "ax.set_facecolor('#F0F0F0')\n",
    "ax.grid()\n",
    "ax.legend(loc='best')\n",
    "# fig.savefig('toto.png', dpi=500)\n",
    "plt.show()\n",
    " "
   ]
  },
  {
   "cell_type": "markdown",
   "metadata": {},
   "source": [
    "# Transformation methods"
   ]
  },
  {
   "cell_type": "code",
   "execution_count": null,
   "metadata": {},
   "outputs": [],
   "source": [
    "# Soften : less than k defections since the beginning then I Cooperate, else S\n",
    "class Method1 (Strategy):\n",
    "    def __init__(self,type,k,strat):\n",
    "        self.type=type.upper()\n",
    "        self.k = k\n",
    "        self.strat = strat\n",
    "        self.hasDefected=0\n",
    "        self.hasCooperated=0\n",
    "        self.name=self.type+'1_K'+str(k)+'_'+self.strat.name\n",
    "        \n",
    "    def getAction(self,tick):\n",
    "        c = self.strat.getAction(tick)\n",
    "\n",
    "        if self.type=='SOFTEN' and self.hasDefected<self.k :\n",
    "            #print(\"softer at\",self.k)          \n",
    "            return 'C';\n",
    "        if self.type=='HARDEN' and self.hasCooperated<self.k :\n",
    "            #print(\"harder at\",self.k)\n",
    "            return 'D';\n",
    "            \n",
    "        return c;\n",
    "    \n",
    "    def clone(self):\n",
    "        object = Method1(self.type,self.k, self.strat.clone())\n",
    "        return object\n",
    "    \n",
    "    def update(self,my,his):\n",
    "        if his=='D' : self.hasDefected+=1\n",
    "        if his=='C' : self.hasCooperated+=1\n",
    "        self.strat.update(my,his)\n"
   ]
  },
  {
   "cell_type": "code",
   "execution_count": null,
   "metadata": {},
   "outputs": [],
   "source": [
    "#   TESTS\n",
    "\n",
    "# Softening AllD        \n",
    "s1 = Method1('soften',2, Periodic('D'))\n",
    "s2 = Periodic('CCD')\n",
    "m=Meeting(g,s1,s2,20)\n",
    "m.run()\n",
    "m.prettyPrint()\n",
    "print()\n",
    "\n",
    "# Softening AllD        \n",
    "s1 = Method1('soften',3, Periodic('D'))\n",
    "s2 = Periodic('CCD')\n",
    "m=Meeting(g,s1,s2,20)\n",
    "m.run()\n",
    "m.prettyPrint()\n",
    "print()\n",
    "\n",
    "# Hardening AllC   \n",
    "s1 = Method1('harden',2, Periodic('C'))\n",
    "s2 = Periodic('CCD')\n",
    "m=Meeting(g,s1,s2,20)\n",
    "m.run()\n",
    "m.prettyPrint()\n",
    "print()\n",
    "\n",
    "# Hardening AllC   \n",
    "s1 = Method1('harden',3, Periodic('C'))\n",
    "s2 = Periodic('CCD')\n",
    "m=Meeting(g,s1,s2,20)\n",
    "m.run()\n",
    "m.prettyPrint()"
   ]
  },
  {
   "cell_type": "code",
   "execution_count": null,
   "metadata": {},
   "outputs": [],
   "source": [
    "# Soften : OR operator :  one Cooperation during the k last rounds then I Cooperate, else S\n",
    "class Method2 (Strategy):\n",
    "    def __init__(self,type,k,strat):\n",
    "        self.type=type.upper()\n",
    "        self.k = k\n",
    "        self.strat = strat\n",
    "        self.hasDefected=0\n",
    "        self.hasCooperated=0\n",
    "        self.name=self.type+'2_K'+str(k)+'_'+self.strat.name\n",
    "        self.his=''\n",
    "        \n",
    "    def getAction(self,tick):\n",
    "        c = self.strat.getAction(tick)\n",
    "\n",
    "        if (tick > 0) : #self.k - 1) :\n",
    "            if self.type=='SOFTEN' and 'C' in self.his[-self.k:] :\n",
    "                # print(\"softer at\",self.k)\n",
    "                return 'C';\n",
    "            if self.type=='HARDEN' and 'D' in self.his[-self.k:] :\n",
    "                # print(\"harder at\",self.k)\n",
    "                return 'D';\n",
    "            \n",
    "        return c;\n",
    "    \n",
    "    def clone(self):\n",
    "        object = Method2(self.type,self.k, self.strat.clone())\n",
    "        return object\n",
    "    \n",
    "    def update(self,my,his):\n",
    "        self.his+=his\n",
    "        self.strat.update(my,his)\n"
   ]
  },
  {
   "cell_type": "code",
   "execution_count": null,
   "metadata": {},
   "outputs": [],
   "source": [
    "#    TESTS\n",
    "\n",
    "# Softening AllD        \n",
    "s1 = Method2('soften',2, Periodic('D'))\n",
    "s2 = Periodic('CCD')\n",
    "m=Meeting(g,s1,s2,20)\n",
    "m.run()\n",
    "m.prettyPrint()\n",
    "print()\n",
    "\n",
    "# Softening AllD        \n",
    "s1 = Method2('soften',3, Periodic('D'))\n",
    "s2 = Periodic('CCD')\n",
    "m=Meeting(g,s1,s2,20)\n",
    "m.run()\n",
    "m.prettyPrint()\n",
    "print()\n",
    "\n",
    "# Hardening AllC   \n",
    "s1 = Method2('harden',2, Periodic('C'))\n",
    "s2 = Periodic('CCD')\n",
    "m=Meeting(g,s1,s2,20)\n",
    "m.run()\n",
    "m.prettyPrint()\n",
    "print()\n",
    "\n",
    "# Hardening AllC   \n",
    "s1 = Method2('harden',3, Periodic('C'))\n",
    "s2 = Periodic('CCD')\n",
    "m=Meeting(g,s1,s2,20)\n",
    "m.run()\n",
    "m.prettyPrint()\n"
   ]
  },
  {
   "cell_type": "code",
   "execution_count": null,
   "metadata": {},
   "outputs": [],
   "source": [
    "# Soften : AND operator :  k Cooperations during the k last rounds then I Cooperate, else S\n",
    "\n",
    "class Method3 (Strategy):\n",
    "    def __init__(self,type,k,strat):\n",
    "        self.type=type.upper()\n",
    "        self.k = k\n",
    "        self.strat = strat\n",
    "        self.name=self.type+'3_K'+str(k)+'_'+self.strat.name\n",
    "        self.his=''\n",
    "        \n",
    "    def getAction(self,tick):\n",
    "        c = self.strat.getAction(tick)\n",
    "        if (tick > self.k - 1) :\n",
    "            if (self.type=='SOFTEN' and self.his[-self.k : ]=='C'*self.k) :\n",
    "                # Il a coopere k fois consecutives\n",
    "                # print(\"softer at\",self.k)\n",
    "                return 'C';\n",
    "            if (self.type=='HARDEN' and self.his[-self.k : ]=='D'*self.k) :\n",
    "                # Il a trahi k fois consecutives\n",
    "                # print(\"harder at\",self.k)\n",
    "                return 'D';\n",
    "            \n",
    "        return c;\n",
    "    \n",
    "    def clone(self):\n",
    "        object = Method3(self.type,self.k, self.strat.clone())\n",
    "        return object\n",
    "    \n",
    "    def update(self,my,his):\n",
    "        self.his+=his\n",
    "        self.strat.update(my,his)"
   ]
  },
  {
   "cell_type": "code",
   "execution_count": null,
   "metadata": {},
   "outputs": [],
   "source": [
    "#   TEST   \n",
    "\n",
    "# Softening AllD        \n",
    "s1 = Method3('soften',2, Periodic('D'))\n",
    "s2 = Periodic('CCD')\n",
    "m=Meeting(g,s1,s2,20)\n",
    "m.run()\n",
    "m.prettyPrint()\n",
    "print()\n",
    "\n",
    "# Softening AllD        \n",
    "s1 = Method3('soften',3, Periodic('D'))\n",
    "s2 = Periodic('CCD')\n",
    "m=Meeting(g,s1,s2,20)\n",
    "m.run()\n",
    "m.prettyPrint()\n",
    "print()\n",
    "\n",
    "# Hardening AllC   \n",
    "s1 = Method3('harden',2, Periodic('C'))\n",
    "s2 = Periodic('CCD')\n",
    "m=Meeting(g,s1,s2,20)\n",
    "m.run()\n",
    "m.prettyPrint()\n",
    "print()\n",
    "\n",
    "# Hardening AllC   \n",
    "s1 = Method3('harden',3, Periodic('C'))\n",
    "s2 = Periodic('CCD')\n",
    "m=Meeting(g,s1,s2,20)\n",
    "m.run()\n",
    "m.prettyPrint()"
   ]
  },
  {
   "cell_type": "markdown",
   "metadata": {},
   "source": [
    "Note that with k=1, Method2 and Method3 are equivalent"
   ]
  },
  {
   "cell_type": "markdown",
   "metadata": {},
   "source": [
    "# Competition between all variations on a given bag"
   ]
  },
  {
   "cell_type": "code",
   "execution_count": null,
   "metadata": {},
   "outputs": [],
   "source": [
    "%%time\n",
    "bag=getClassicals()[0:17] # getMem(1,1)\n",
    "bagM1SoftenK1=[Method1(\"soften\",1,s) for s in bag]\n",
    "bagM1HardenK1=[Method1(\"harden\",1,s) for s in bag]\n",
    "bagM2SoftenK1=[Method2(\"soften\",1,s) for s in bag]\n",
    "bagM2HardenK1=[Method2(\"harden\",1,s) for s in bag]\n",
    "bagM3SoftenK1=[Method3(\"soften\",1,s) for s in bag]\n",
    "bagM3HardenK1=[Method3(\"harden\",1,s) for s in bag]\n",
    "# To help grouping, we add 'Normal____' (10 chars) as prefix \n",
    "for s in bag:\n",
    "    s.name='Normal____'+s.name\n",
    "    \n",
    "allbags=bag+bagM1SoftenK1+bagM1HardenK1+bagM2SoftenK1+bagM2HardenK1 # +bagM3SoftenK1+bagM3HardenK1\n",
    "\n",
    "t = Tournament(g,allbags,100)\n",
    "t.run()\n",
    "e = Ecological(t,100)\n",
    "e.run()\n",
    "# e.drawPlot()"
   ]
  },
  {
   "cell_type": "markdown",
   "metadata": {},
   "source": [
    "## Then we group the results by family\n",
    "\n",
    "We add to the 17 initial strategies, their versions softened and hardened by the 4 corresponding transformations, which gives 85 strategies, then we cumulate the results of each of the 5 classes (1+4) which allows to classify them.\n",
    "\n",
    "see Fig4, part A , SMC2022\n",
    "\n",
    "One can see that softening improve the classical strategies. \n",
    "\n",
    "The ranking is here SOFTEN1 > SOFTEN2 > NORMAL > HARDEN2 > HARDEN1   "
   ]
  },
  {
   "cell_type": "code",
   "execution_count": null,
   "metadata": {},
   "outputs": [],
   "source": [
    "x=e.historic.copy()\n",
    "new_columns=[n[0:10] for n in x.columns]\n",
    "x.columns=new_columns\n",
    "result = x.groupby(by=x.columns , axis=1).sum()\n",
    "result.plot()\n",
    "plt.grid()\n",
    "# plt.savefig('fig4_smc.png', dpi=500)\n",
    "\n",
    "#x.groupby(by=x.columns , axis=1).agg({'mean':[np.mean] , 'std':[np.std]})"
   ]
  },
  {
   "cell_type": "code",
   "execution_count": null,
   "metadata": {},
   "outputs": [],
   "source": [
    "# Nevertheless, sometimes hardening also improves a classic strategy\n",
    "\n",
    "# Try the same experience with getMem(1,1)"
   ]
  },
  {
   "cell_type": "markdown",
   "metadata": {},
   "source": [
    "# Variations with \"Improved AllD\"\n",
    "\n",
    "see Table5 smc2021\n"
   ]
  },
  {
   "cell_type": "code",
   "execution_count": null,
   "metadata": {},
   "outputs": [],
   "source": [
    "for k in range(0,10):\n",
    "    # Competition with SOFTEN_allD\n",
    "    bag=getMem(1,1) + getClassicals()[0:17] # + getAllProba(1)\n",
    "    # print(len(bag), 'stategies involved')\n",
    "    bag = bag + [ Method1('soften',k, Periodic('D','allD')) ]\n",
    "    t = Tournament(g,bag,100)\n",
    "    t.run()\n",
    "    e = Ecological(t,100)\n",
    "    e.run()\n",
    "    # rank of SOFTEN_allD\n",
    "    df=pd.DataFrame(e.historic[-1:].transpose()) # .sort_values(by='m2',ascending=False)\n",
    "    df.columns=['score']\n",
    "    df['rank'] = df['score'].rank(axis=0, ascending=False, method='min')  # average,min,max,first,dense\n",
    "    df\n",
    "    print(k,df.loc['SOFTEN1_K'+str(k)+'_allD']['rank'])\n",
    "    "
   ]
  },
  {
   "cell_type": "markdown",
   "metadata": {},
   "source": [
    "see Fig6 SMC2022 "
   ]
  },
  {
   "cell_type": "code",
   "execution_count": null,
   "metadata": {
    "scrolled": true
   },
   "outputs": [],
   "source": [
    "# If length=1000 the 3 soften are equal. If length=100 soften1_k2 is the lead\n",
    "\n",
    "bag=getMem(1,1) # getClassicals()[0:17] # \n",
    "bag = bag + [ Method1('soften',2, Periodic('D','allD')) ]\n",
    "bag = bag + [ Method1('soften',3, Periodic('D','allD')) ]\n",
    "bag = bag + [ Method1('soften',4, Periodic('D','allD')) ]\n",
    "\n",
    "t = Tournament(g,bag,1000)\n",
    "e = Ecological(t,100)\n",
    "e.run()\n",
    "e.drawPlot(nbLegends=10) #, file='fig6_allD_soften_Classicals.png')\n",
    "# e.historic"
   ]
  }
 ],
 "metadata": {
  "kernelspec": {
   "display_name": "Python 3.9.12 ('base')",
   "language": "python",
   "name": "python3"
  },
  "language_info": {
   "codemirror_mode": {
    "name": "ipython",
    "version": 3
   },
   "file_extension": ".py",
   "mimetype": "text/x-python",
   "name": "python",
   "nbconvert_exporter": "python",
   "pygments_lexer": "ipython3",
   "version": "3.9.12"
  },
  "vscode": {
   "interpreter": {
    "hash": "40d3a090f54c6569ab1632332b64b2c03c39dcf918b08424e98f38b5ae0af88f"
   }
  }
 },
 "nbformat": 4,
 "nbformat_minor": 2
}
