{
 "cells": [
  {
   "cell_type": "markdown",
   "metadata": {},
   "source": [
    "# Studies on Softening and Hardening"
   ]
  },
  {
   "cell_type": "code",
   "execution_count": 235,
   "metadata": {},
   "outputs": [
    {
     "name": "stdout",
     "output_type": "stream",
     "text": [
      "        C       D\n",
      "C  [3, 3]  [0, 5]\n",
      "D  [5, 0]  [1, 1]\n"
     ]
    }
   ],
   "source": [
    "%run ../src/game.py\n",
    "%run ../src/ipd.py\n",
    "%run ../src/strategies.py\n",
    "\n",
    "g.prettyPrint()   # prisoner's dilemma"
   ]
  },
  {
   "cell_type": "code",
   "execution_count": 2,
   "metadata": {},
   "outputs": [
    {
     "name": "stdout",
     "output_type": "stream",
     "text": [
      "per_ccd \tC C D C C D C C D C = 27\n",
      "tft     \tC C C D C C D C C D = 27\n"
     ]
    }
   ],
   "source": [
    "# example of meeting\n",
    "m = Meeting(g, Periodic('ccd'), Tft() , length=10)\n",
    "m.run()\n",
    "m.prettyPrint()"
   ]
  },
  {
   "cell_type": "code",
   "execution_count": 3,
   "metadata": {},
   "outputs": [
    {
     "data": {
      "text/html": [
       "<div>\n",
       "<style scoped>\n",
       "    .dataframe tbody tr th:only-of-type {\n",
       "        vertical-align: middle;\n",
       "    }\n",
       "\n",
       "    .dataframe tbody tr th {\n",
       "        vertical-align: top;\n",
       "    }\n",
       "\n",
       "    .dataframe thead th {\n",
       "        text-align: right;\n",
       "    }\n",
       "</style>\n",
       "<table border=\"1\" class=\"dataframe\">\n",
       "  <thead>\n",
       "    <tr style=\"text-align: right;\">\n",
       "      <th></th>\n",
       "      <th>allD</th>\n",
       "      <th>tft</th>\n",
       "      <th>perCCD</th>\n",
       "      <th>allC</th>\n",
       "      <th>Total</th>\n",
       "    </tr>\n",
       "  </thead>\n",
       "  <tbody>\n",
       "    <tr>\n",
       "      <th>allD</th>\n",
       "      <td>10</td>\n",
       "      <td>14</td>\n",
       "      <td>38</td>\n",
       "      <td>50</td>\n",
       "      <td>112</td>\n",
       "    </tr>\n",
       "    <tr>\n",
       "      <th>tft</th>\n",
       "      <td>9</td>\n",
       "      <td>30</td>\n",
       "      <td>27</td>\n",
       "      <td>30</td>\n",
       "      <td>96</td>\n",
       "    </tr>\n",
       "    <tr>\n",
       "      <th>perCCD</th>\n",
       "      <td>3</td>\n",
       "      <td>27</td>\n",
       "      <td>24</td>\n",
       "      <td>36</td>\n",
       "      <td>90</td>\n",
       "    </tr>\n",
       "    <tr>\n",
       "      <th>allC</th>\n",
       "      <td>0</td>\n",
       "      <td>30</td>\n",
       "      <td>21</td>\n",
       "      <td>30</td>\n",
       "      <td>81</td>\n",
       "    </tr>\n",
       "  </tbody>\n",
       "</table>\n",
       "</div>"
      ],
      "text/plain": [
       "        allD  tft  perCCD  allC  Total\n",
       "allD      10   14      38    50    112\n",
       "tft        9   30      27    30     96\n",
       "perCCD     3   27      24    36     90\n",
       "allC       0   30      21    30     81"
      ]
     },
     "execution_count": 3,
     "metadata": {},
     "output_type": "execute_result"
    }
   ],
   "source": [
    "# example of a classical tournament\n",
    "bag = [Periodic('C','allC'), Periodic('D','allD'), Tft(), Periodic('CCD','perCCD') ]\n",
    "t = Tournament(g,bag,length=10)\n",
    "t.run()\n",
    "t.matrix"
   ]
  },
  {
   "cell_type": "code",
   "execution_count": 6,
   "metadata": {},
   "outputs": [
    {
     "data": {
      "image/png": "[encoded data removed]",
      "text/plain": [
       "<Figure size 432x288 with 1 Axes>"
      ]
     },
     "metadata": {
      "needs_background": "light"
     },
     "output_type": "display_data"
    }
   ],
   "source": [
    "e = Ecological(t,pop=100, max_iter=1000)\n",
    "e.run()\n",
    "e.drawPlot()"
   ]
  },
  {
   "cell_type": "markdown",
   "metadata": {},
   "source": [
    "## Classification of strategies\n",
    "\n",
    "When we look at a set of strategies we see that they have general characteristics that allow them to be classified into large families. The four families we consider are\n",
    "\n",
    "\n",
    "- IC. a strategy is “initially cooperative” (IC) if it never takes the initiative of defection\n",
    "- SA. we call “spontaneously aggressive” the complementary set to IC\n",
    "- IA. a strategy is “initially aggressive” if it never takes the initiative of cooperation\n",
    "- SC. we call “spontaneously cooperative” the complementary set to IA\n",
    "\n",
    "Note that each IA strategy is also SA and that each IC strategy is also SC.\n",
    "On the other hand, it is possible to be IC and SC at the same time.\n",
    "\n",
    "The `getAgressivityClass` method takes a set of strategies as a parameter and breaks these strategies down into a 4 entry dictionary; one for each of these cl"
   ]
  },
  {
   "cell_type": "code",
   "execution_count": 8,
   "metadata": {},
   "outputs": [
    {
     "name": "stdout",
     "output_type": "stream",
     "text": [
      "IC 8 ['mem11_cCCCC-allc', 'mem11_cCCCD-allc', 'mem11_cCCDC-allc', 'mem11_cCCDD-allc', 'mem11_cCDCC', 'mem11_cCDCD-tft', 'mem11_cCDDC-pavlov', 'mem11_cCDDD-spite']\n",
      "SC 24 ['mem11_cCCCC-allc', 'mem11_cCCCD-allc', 'mem11_cCCDC-allc', 'mem11_cCCDD-allc', 'mem11_cCDCC', 'mem11_cCDCD-tft', 'mem11_cCDDC-pavlov', 'mem11_cCDDD-spite', 'mem11_cDCCC', 'mem11_cDCCD', 'mem11_cDCDC', 'mem11_cDCDD', 'mem11_cDDCC-perCD', 'mem11_cDDCD', 'mem11_cDDDC', 'mem11_cDDDD', 'mem11_dCCCC', 'mem11_dCCDC', 'mem11_dCDCC', 'mem11_dCDDC', 'mem11_dDCCC', 'mem11_dDCDC', 'mem11_dDDCC-perDC', 'mem11_dDDDC']\n",
      "IA 8 ['mem11_dCCCD', 'mem11_dCCDD-alld', 'mem11_dCDCD-mistrust', 'mem11_dCDDD-alld', 'mem11_dDCCD', 'mem11_dDCDD-alld', 'mem11_dDDCD', 'mem11_dDDDD-alld']\n",
      "SA 24 ['mem11_cDCCC', 'mem11_cDCCD', 'mem11_cDCDC', 'mem11_cDCDD', 'mem11_cDDCC-perCD', 'mem11_cDDCD', 'mem11_cDDDC', 'mem11_cDDDD', 'mem11_dCCCC', 'mem11_dCCCD', 'mem11_dCCDC', 'mem11_dCCDD-alld', 'mem11_dCDCC', 'mem11_dCDCD-mistrust', 'mem11_dCDDC', 'mem11_dCDDD-alld', 'mem11_dDCCC', 'mem11_dDCCD', 'mem11_dDCDC', 'mem11_dDCDD-alld', 'mem11_dDDCC-perDC', 'mem11_dDDCD', 'mem11_dDDDC', 'mem11_dDDDD-alld']\n"
     ]
    }
   ],
   "source": [
    "def getAgressivityClasses(bag):\n",
    "    aggressivity = {'IC':[], 'SC':[],'IA':[],'SA':[]}\n",
    "    for strat in bag : \n",
    "        m1 = Meeting(g, strat, Periodic('C'), 100)\n",
    "        m1.run()\n",
    "        m2 = Meeting(g, strat, Periodic('D'), 100)\n",
    "        m2.run()\n",
    "        if m1.s1_score == 300:\n",
    "             aggressivity['IC'] += [strat]\n",
    "        if m1.s1_score > 300:\n",
    "             aggressivity['SA'] += [strat]\n",
    "        if m2.s1_score == 100:\n",
    "             aggressivity['IA'] += [strat]\n",
    "        if m2.s1_score < 100:\n",
    "             aggressivity['SC'] += [strat]\n",
    "    return aggressivity\n",
    "        \n",
    "\n",
    "ac = getAgressivityClasses(getMem11()) #getClassicals()[0:17])\n",
    "for cle,valeur in ac.items():\n",
    "    print (cle, len(valeur) , [s.name for s in valeur])\n",
    "\n",
    "# Take care that the 17th is SpitefulCC, contrary to the Simpat paper in which \n",
    "# it's mem2"
   ]
  },
  {
   "cell_type": "markdown",
   "metadata": {},
   "source": [
    "## List of strategies in a family, with their categories"
   ]
  },
  {
   "cell_type": "code",
   "execution_count": 9,
   "metadata": {},
   "outputs": [
    {
     "data": {
      "text/html": [
       "<div>\n",
       "<style scoped>\n",
       "    .dataframe tbody tr th:only-of-type {\n",
       "        vertical-align: middle;\n",
       "    }\n",
       "\n",
       "    .dataframe tbody tr th {\n",
       "        vertical-align: top;\n",
       "    }\n",
       "\n",
       "    .dataframe thead th {\n",
       "        text-align: right;\n",
       "    }\n",
       "</style>\n",
       "<table border=\"1\" class=\"dataframe\">\n",
       "  <thead>\n",
       "    <tr style=\"text-align: right;\">\n",
       "      <th></th>\n",
       "      <th>0</th>\n",
       "      <th>1</th>\n",
       "      <th>2</th>\n",
       "      <th>3</th>\n",
       "    </tr>\n",
       "  </thead>\n",
       "  <tbody>\n",
       "    <tr>\n",
       "      <th>allC</th>\n",
       "      <td></td>\n",
       "      <td>IC</td>\n",
       "      <td></td>\n",
       "      <td>SC</td>\n",
       "    </tr>\n",
       "    <tr>\n",
       "      <th>allD</th>\n",
       "      <td>IA</td>\n",
       "      <td></td>\n",
       "      <td>SA</td>\n",
       "      <td></td>\n",
       "    </tr>\n",
       "    <tr>\n",
       "      <th>tft</th>\n",
       "      <td></td>\n",
       "      <td>IC</td>\n",
       "      <td></td>\n",
       "      <td>SC</td>\n",
       "    </tr>\n",
       "    <tr>\n",
       "      <th>spiteful</th>\n",
       "      <td></td>\n",
       "      <td>IC</td>\n",
       "      <td></td>\n",
       "      <td>SC</td>\n",
       "    </tr>\n",
       "    <tr>\n",
       "      <th>softmajo</th>\n",
       "      <td></td>\n",
       "      <td>IC</td>\n",
       "      <td></td>\n",
       "      <td>SC</td>\n",
       "    </tr>\n",
       "    <tr>\n",
       "      <th>hardmajo</th>\n",
       "      <td>IA</td>\n",
       "      <td></td>\n",
       "      <td>SA</td>\n",
       "      <td></td>\n",
       "    </tr>\n",
       "    <tr>\n",
       "      <th>per_DDC</th>\n",
       "      <td></td>\n",
       "      <td></td>\n",
       "      <td>SA</td>\n",
       "      <td>SC</td>\n",
       "    </tr>\n",
       "    <tr>\n",
       "      <th>per_CCD</th>\n",
       "      <td></td>\n",
       "      <td></td>\n",
       "      <td>SA</td>\n",
       "      <td>SC</td>\n",
       "    </tr>\n",
       "    <tr>\n",
       "      <th>mistrust</th>\n",
       "      <td>IA</td>\n",
       "      <td></td>\n",
       "      <td>SA</td>\n",
       "      <td></td>\n",
       "    </tr>\n",
       "    <tr>\n",
       "      <th>per_CD</th>\n",
       "      <td></td>\n",
       "      <td></td>\n",
       "      <td>SA</td>\n",
       "      <td>SC</td>\n",
       "    </tr>\n",
       "    <tr>\n",
       "      <th>pavlov</th>\n",
       "      <td></td>\n",
       "      <td>IC</td>\n",
       "      <td></td>\n",
       "      <td>SC</td>\n",
       "    </tr>\n",
       "    <tr>\n",
       "      <th>tf2t</th>\n",
       "      <td></td>\n",
       "      <td>IC</td>\n",
       "      <td></td>\n",
       "      <td>SC</td>\n",
       "    </tr>\n",
       "    <tr>\n",
       "      <th>hardtft</th>\n",
       "      <td></td>\n",
       "      <td>IC</td>\n",
       "      <td></td>\n",
       "      <td>SC</td>\n",
       "    </tr>\n",
       "    <tr>\n",
       "      <th>slowtft</th>\n",
       "      <td></td>\n",
       "      <td>IC</td>\n",
       "      <td></td>\n",
       "      <td>SC</td>\n",
       "    </tr>\n",
       "    <tr>\n",
       "      <th>gradual</th>\n",
       "      <td></td>\n",
       "      <td>IC</td>\n",
       "      <td></td>\n",
       "      <td>SC</td>\n",
       "    </tr>\n",
       "    <tr>\n",
       "      <th>prober</th>\n",
       "      <td></td>\n",
       "      <td></td>\n",
       "      <td>SA</td>\n",
       "      <td>SC</td>\n",
       "    </tr>\n",
       "    <tr>\n",
       "      <th>spitefulCC</th>\n",
       "      <td></td>\n",
       "      <td>IC</td>\n",
       "      <td></td>\n",
       "      <td>SC</td>\n",
       "    </tr>\n",
       "  </tbody>\n",
       "</table>\n",
       "</div>"
      ],
      "text/plain": [
       "             0   1   2   3\n",
       "allC            IC      SC\n",
       "allD        IA      SA    \n",
       "tft             IC      SC\n",
       "spiteful        IC      SC\n",
       "softmajo        IC      SC\n",
       "hardmajo    IA      SA    \n",
       "per_DDC             SA  SC\n",
       "per_CCD             SA  SC\n",
       "mistrust    IA      SA    \n",
       "per_CD              SA  SC\n",
       "pavlov          IC      SC\n",
       "tf2t            IC      SC\n",
       "hardtft         IC      SC\n",
       "slowtft         IC      SC\n",
       "gradual         IC      SC\n",
       "prober              SA  SC\n",
       "spitefulCC      IC      SC"
      ]
     },
     "execution_count": 9,
     "metadata": {},
     "output_type": "execute_result"
    }
   ],
   "source": [
    "import pandas as pd\n",
    "bag = getClassicals()[0:17]\n",
    "ac = getAgressivityClasses(bag)\n",
    "result=[]\n",
    "for s in bag :\n",
    "    lig=[\n",
    "    'IA' if s in ac['IA'] else '' ,\n",
    "    'IC' if s in ac['IC'] else '' ,\n",
    "    'SA' if s in ac['SA'] else '' ,\n",
    "    'SC' if s in ac['SC'] else ''\n",
    "    ]\n",
    "    result.append(lig)\n",
    "df = pd.DataFrame(result, index=[s.name for s in bag])\n",
    "df"
   ]
  },
  {
   "cell_type": "markdown",
   "metadata": {},
   "source": [
    "## Size of each class for each of the main families"
   ]
  },
  {
   "cell_type": "code",
   "execution_count": 10,
   "metadata": {},
   "outputs": [
    {
     "data": {
      "text/html": [
       "<div>\n",
       "<style scoped>\n",
       "    .dataframe tbody tr th:only-of-type {\n",
       "        vertical-align: middle;\n",
       "    }\n",
       "\n",
       "    .dataframe tbody tr th {\n",
       "        vertical-align: top;\n",
       "    }\n",
       "\n",
       "    .dataframe thead th {\n",
       "        text-align: right;\n",
       "    }\n",
       "</style>\n",
       "<table border=\"1\" class=\"dataframe\">\n",
       "  <thead>\n",
       "    <tr style=\"text-align: right;\">\n",
       "      <th></th>\n",
       "      <th>IC</th>\n",
       "      <th>SC</th>\n",
       "      <th>IA</th>\n",
       "      <th>SA</th>\n",
       "    </tr>\n",
       "  </thead>\n",
       "  <tbody>\n",
       "    <tr>\n",
       "      <th>classicals</th>\n",
       "      <td>10</td>\n",
       "      <td>14</td>\n",
       "      <td>3</td>\n",
       "      <td>7</td>\n",
       "    </tr>\n",
       "    <tr>\n",
       "      <th>mem11</th>\n",
       "      <td>8</td>\n",
       "      <td>24</td>\n",
       "      <td>8</td>\n",
       "      <td>24</td>\n",
       "    </tr>\n",
       "    <tr>\n",
       "      <th>mem12</th>\n",
       "      <td>128</td>\n",
       "      <td>896</td>\n",
       "      <td>128</td>\n",
       "      <td>896</td>\n",
       "    </tr>\n",
       "    <tr>\n",
       "      <th>mem21</th>\n",
       "      <td>216</td>\n",
       "      <td>2376</td>\n",
       "      <td>216</td>\n",
       "      <td>2376</td>\n",
       "    </tr>\n",
       "  </tbody>\n",
       "</table>\n",
       "</div>"
      ],
      "text/plain": [
       "             IC    SC   IA    SA\n",
       "classicals   10    14    3     7\n",
       "mem11         8    24    8    24\n",
       "mem12       128   896  128   896\n",
       "mem21       216  2376  216  2376"
      ]
     },
     "execution_count": 10,
     "metadata": {},
     "output_type": "execute_result"
    }
   ],
   "source": [
    "import pandas as pd\n",
    "result=[]\n",
    "for bag in [getClassicals()[0:17],getMem(1,1),getMem(1,2),getAllProba(5)] :\n",
    "    ac = getAgressivityClasses(bag)\n",
    "    lig=[]\n",
    "    for cle,valeur in ac.items():\n",
    "        lig.append(len(valeur))\n",
    "    result.append(lig)\n",
    "df = pd.DataFrame(result, columns=list(ac.keys()), index=['classicals','mem11','mem12','mem21'])\n",
    "df\n",
    "\n"
   ]
  },
  {
   "cell_type": "markdown",
   "metadata": {},
   "source": [
    "L'aggressivité des stratégies avant et après simplification"
   ]
  },
  {
   "cell_type": "code",
   "execution_count": 11,
   "metadata": {},
   "outputs": [
    {
     "ename": "NameError",
     "evalue": "name 'simplifyWithTournament' is not defined",
     "output_type": "error",
     "traceback": [
      "\u001b[0;31m---------------------------------------------------------------------------\u001b[0m",
      "\u001b[0;31mNameError\u001b[0m                                 Traceback (most recent call last)",
      "\u001b[0;32m<ipython-input-11-ea0f87ce90e8>\u001b[0m in \u001b[0;36m<module>\u001b[0;34m\u001b[0m\n\u001b[1;32m     13\u001b[0m     \u001b[0;32mreturn\u001b[0m \u001b[0mtab\u001b[0m\u001b[0;34m\u001b[0m\u001b[0;34m\u001b[0m\u001b[0m\n\u001b[1;32m     14\u001b[0m \u001b[0;34m\u001b[0m\u001b[0m\n\u001b[0;32m---> 15\u001b[0;31m \u001b[0mcreateTab\u001b[0m\u001b[0;34m(\u001b[0m\u001b[0mgetMem\u001b[0m\u001b[0;34m(\u001b[0m\u001b[0;36m1\u001b[0m\u001b[0;34m,\u001b[0m\u001b[0;36m1\u001b[0m\u001b[0;34m)\u001b[0m\u001b[0;34m)\u001b[0m\u001b[0;34m\u001b[0m\u001b[0;34m\u001b[0m\u001b[0m\n\u001b[0m",
      "\u001b[0;32m<ipython-input-11-ea0f87ce90e8>\u001b[0m in \u001b[0;36mcreateTab\u001b[0;34m(bag)\u001b[0m\n\u001b[1;32m      1\u001b[0m \u001b[0;32mdef\u001b[0m \u001b[0mcreateTab\u001b[0m\u001b[0;34m(\u001b[0m\u001b[0mbag\u001b[0m\u001b[0;34m)\u001b[0m\u001b[0;34m:\u001b[0m\u001b[0;34m\u001b[0m\u001b[0;34m\u001b[0m\u001b[0m\n\u001b[1;32m      2\u001b[0m     \u001b[0magr\u001b[0m \u001b[0;34m=\u001b[0m \u001b[0mgetAgressivityClasses\u001b[0m\u001b[0;34m(\u001b[0m\u001b[0mbag\u001b[0m\u001b[0;34m)\u001b[0m\u001b[0;34m\u001b[0m\u001b[0;34m\u001b[0m\u001b[0m\n\u001b[0;32m----> 3\u001b[0;31m     \u001b[0msimplified\u001b[0m \u001b[0;34m=\u001b[0m \u001b[0msimplifyWithTournament\u001b[0m\u001b[0;34m(\u001b[0m\u001b[0mbag\u001b[0m\u001b[0;34m,\u001b[0m \u001b[0;34m[\u001b[0m\u001b[0mPeriodic\u001b[0m\u001b[0;34m(\u001b[0m\u001b[0;34m'CDCCDDC'\u001b[0m\u001b[0;34m)\u001b[0m\u001b[0;34m,\u001b[0m \u001b[0mPeriodic\u001b[0m\u001b[0;34m(\u001b[0m\u001b[0;34m'DDCDCDD'\u001b[0m\u001b[0;34m)\u001b[0m\u001b[0;34m]\u001b[0m\u001b[0;34m,\u001b[0m \u001b[0;36m10\u001b[0m\u001b[0;34m)\u001b[0m\u001b[0;34m\u001b[0m\u001b[0;34m\u001b[0m\u001b[0m\n\u001b[0m\u001b[1;32m      4\u001b[0m     \u001b[0magrS\u001b[0m \u001b[0;34m=\u001b[0m \u001b[0mgetAgressivityClasses\u001b[0m\u001b[0;34m(\u001b[0m\u001b[0msimplified\u001b[0m\u001b[0;34m)\u001b[0m\u001b[0;34m\u001b[0m\u001b[0;34m\u001b[0m\u001b[0m\n\u001b[1;32m      5\u001b[0m     tab = pd.DataFrame(\n",
      "\u001b[0;31mNameError\u001b[0m: name 'simplifyWithTournament' is not defined"
     ]
    }
   ],
   "source": [
    "def createTab(bag):\n",
    "    agr = getAgressivityClasses(bag)\n",
    "    simplified = simplifyWithTournament(bag, [Periodic('CDCCDDC'), Periodic('DDCDCDD')], 10)\n",
    "    agrS = getAgressivityClasses(simplified)\n",
    "    tab = pd.DataFrame(\n",
    "            np.nan, [\"IC\",\"SC\",\"IA\", \"SA\"], [\"Before simplify\",\"After simplify\"]\n",
    "        )\n",
    "    for key in agr :\n",
    "        tab.at[key,\"Before simplify\" ] = len(agr[key])\n",
    "    for key in agrS :\n",
    "        tab.at[key, \"After simplify\"] = len(agrS[key])\n",
    "    pd.options.display.float_format = '{:,.0f}'.format\n",
    "    return tab\n",
    "\n",
    "createTab(getMem(1,1))\n"
   ]
  },
  {
   "cell_type": "markdown",
   "metadata": {},
   "source": [
    "# Performance of the strategies in each class ?"
   ]
  },
  {
   "cell_type": "code",
   "execution_count": 13,
   "metadata": {},
   "outputs": [
    {
     "name": "stdout",
     "output_type": "stream",
     "text": [
      "warning: running passed Tournament. This step may take a while.\n",
      "    Mean of ranks  Mean of scores\n",
      "IC              6             169\n",
      "SC              7             121\n",
      "IA             11               0\n",
      "SA             11               0\n"
     ]
    },
    {
     "data": {
      "image/png": "[encoded data removed]",
      "text/plain": [
       "<Figure size 432x288 with 1 Axes>"
      ]
     },
     "metadata": {
      "needs_background": "light"
     },
     "output_type": "display_data"
    }
   ],
   "source": [
    "bag = getMem(1,1) # getClassicals()[0:17]\n",
    "t = Tournament(g,bag,100)\n",
    "e = Ecological(t, 100)\n",
    "e.run()\n",
    "ranking = e.historic.iloc[e.generation].rank(0, method=\"min\", ascending=False)\n",
    "score = e.historic.iloc[e.generation]\n",
    "agr = getAgressivityClasses(bag)\n",
    "\n",
    "# Generate the data with mean of ranks and scores\n",
    "tab = pd.DataFrame(\n",
    "            np.nan, [\"IC\",\"SC\",\"IA\", \"SA\"], [\"Mean of ranks\",\"Mean of scores\"]\n",
    "        )\n",
    "for key in agr:\n",
    "    ranks = []\n",
    "    scores = []\n",
    "    for strat in agr[key]:\n",
    "        ranks += [ranking[strat.name]]\n",
    "        scores += [score[strat.name]]\n",
    "        \n",
    "    tab.at[key, \"Mean of ranks\"] = np.mean(ranks)\n",
    "    tab.at[key, \"Mean of scores\"] = np.mean(scores)\n",
    "pd.options.display.float_format = '{:,.0f}'.format   \n",
    "print(tab)\n",
    "\n",
    "# Generate the graph with mean of scores \n",
    "ranksIC, ranksSC, ranksIA, ranksSA = [], [], [], []\n",
    "for i in range(e.generation):\n",
    "    rIC = 0\n",
    "    rSC = 0\n",
    "    rIA = 0\n",
    "    rSA = 0\n",
    "    for key in agr:\n",
    "        for strat in agr[key]:\n",
    "            if key == \"IC\":\n",
    "                rIC += e.historic.iloc[i][strat.name]\n",
    "            if key == \"SC\":\n",
    "                rSC += e.historic.iloc[i][strat.name]\n",
    "            if key == \"IA\":\n",
    "                rIA += e.historic.iloc[i][strat.name]\n",
    "            if key == \"SA\":\n",
    "                rSA += e.historic.iloc[i][strat.name]\n",
    "    ranksIC += [np.sum(rIC)/len(agr['IC'])]\n",
    "    ranksSC += [np.sum(rSC)/len(agr['SC'])]\n",
    "    ranksIA += [np.sum(rIA)/len(agr['IA'])]\n",
    "    ranksSA += [np.sum(rSA)/len(agr['SA'])]\n",
    "                \n",
    "        \n",
    "fig, ax = plt.subplots()\n",
    "ax.plot(ranksIC, label='IC')\n",
    "ax.plot(ranksSC, label= 'SC')\n",
    "ax.plot(ranksSA, label='SA')\n",
    "ax.plot(ranksIA, label='IA')\n",
    "ax.set_ylabel('Scores')\n",
    "ax.set_xlabel('Generation')\n",
    "ax.set_facecolor('#F0F0F0')\n",
    "ax.grid()\n",
    "ax.legend(loc='best')\n",
    "fig.savefig('toto.png', dpi=500)\n",
    "plt.show()\n",
    "        "
   ]
  },
  {
   "cell_type": "markdown",
   "metadata": {},
   "source": [
    "# Transformation methods"
   ]
  },
  {
   "cell_type": "code",
   "execution_count": 200,
   "metadata": {},
   "outputs": [],
   "source": [
    "class Method1 (Strategy):\n",
    "    def __init__(self,type,k,strat):\n",
    "        self.type=type.upper()\n",
    "        self.k = k\n",
    "        self.strat = strat\n",
    "        self.hasDefected=0\n",
    "        self.hasCooperated=0\n",
    "        self.name='M1'+self.type+'K'+str(k)+'_'+self.strat.name\n",
    "        \n",
    "    def getAction(self,tick):\n",
    "        c = self.strat.getAction(tick)\n",
    "\n",
    "        if self.type=='SOFTEN' and self.hasDefected<self.k :\n",
    "            #print(\"softer at\",self.k)          \n",
    "            return 'C';\n",
    "        if self.type=='HARDEN' and self.hasCooperated<self.k :\n",
    "            #print(\"harder at\",self.k)\n",
    "            return 'D';\n",
    "            \n",
    "        return c;\n",
    "    \n",
    "    def clone(self):\n",
    "        object = Method1(self.type,self.k, self.strat.clone())\n",
    "        return object\n",
    "    \n",
    "    def update(self,my,his):\n",
    "        if his=='D' : self.hasDefected+=1\n",
    "        if his=='C' : self.hasCooperated+=1\n",
    "        self.strat.update(my,his)\n",
    "        \n"
   ]
  },
  {
   "cell_type": "code",
   "execution_count": 201,
   "metadata": {},
   "outputs": [
    {
     "name": "stdout",
     "output_type": "stream",
     "text": [
      "M1SOFTENK2_per_D\tC C C C C C D D D D D D D D D D D D D D = 66\n",
      "per_CCD \tC C D C C D C C D C C D C C D C C D C C = 26\n",
      "\n",
      "M1SOFTENK3_per_D\tC C C C C C C C C D D D D D D D D D D D = 61\n",
      "per_CCD \tC C D C C D C C D C C D C C D C C D C C = 36\n",
      "\n",
      "M1HARDENK2_per_C\tD D C C C C C C C C C C C C C C C C C C = 46\n",
      "per_CCD \tC C D C C D C C D C C D C C D C C D C C = 66\n",
      "\n",
      "M1HARDENK3_per_C\tD D D D C C C C C C C C C C C C C C C C = 49\n",
      "per_CCD \tC C D C C D C C D C C D C C D C C D C C = 59\n"
     ]
    }
   ],
   "source": [
    "#   TESTS\n",
    "\n",
    "# Softening AllD        \n",
    "s1 = Method1('soften',2, Periodic('D'))\n",
    "s2 = Periodic('CCD')\n",
    "m=Meeting(g,s1,s2,20)\n",
    "m.run()\n",
    "m.prettyPrint()\n",
    "print()\n",
    "\n",
    "# Softening AllD        \n",
    "s1 = Method1('soften',3, Periodic('D'))\n",
    "s2 = Periodic('CCD')\n",
    "m=Meeting(g,s1,s2,20)\n",
    "m.run()\n",
    "m.prettyPrint()\n",
    "print()\n",
    "\n",
    "# Hardening AllC   \n",
    "s1 = Method1('harden',2, Periodic('C'))\n",
    "s2 = Periodic('CCD')\n",
    "m=Meeting(g,s1,s2,20)\n",
    "m.run()\n",
    "m.prettyPrint()\n",
    "print()\n",
    "\n",
    "# Hardening AllC   \n",
    "s1 = Method1('harden',3, Periodic('C'))\n",
    "s2 = Periodic('CCD')\n",
    "m=Meeting(g,s1,s2,20)\n",
    "m.run()\n",
    "m.prettyPrint()"
   ]
  },
  {
   "cell_type": "code",
   "execution_count": 202,
   "metadata": {},
   "outputs": [],
   "source": [
    "class Method2 (Strategy):\n",
    "    def __init__(self,type,k,strat):\n",
    "        self.type=type.upper()\n",
    "        self.k = k\n",
    "        self.strat = strat\n",
    "        self.hasDefected=0\n",
    "        self.hasCooperated=0\n",
    "        self.name='M2'+self.type+'K'+str(k)+'_'+self.strat.name\n",
    "        self.his=''\n",
    "        \n",
    "    def getAction(self,tick):\n",
    "        c = self.strat.getAction(tick)\n",
    "\n",
    "        if (tick > self.k - 1) :\n",
    "            if self.type=='SOFTEN' and 'C' in self.his[-self.k:] :\n",
    "                #print(\"softer at\",self.k)\n",
    "                return 'C';\n",
    "            if self.type=='HARDEN' and 'D' in self.his[-self.k:] :\n",
    "                #print(\"harder at\",self.k)\n",
    "                return 'D';\n",
    "            \n",
    "        return c;\n",
    "    \n",
    "    def clone(self):\n",
    "        object = Method2(self.type,self.k, self.strat.clone())\n",
    "        return object\n",
    "    \n",
    "    def update(self,my,his):\n",
    "        self.his+=his\n",
    "        self.strat.update(my,his)\n"
   ]
  },
  {
   "cell_type": "code",
   "execution_count": 203,
   "metadata": {},
   "outputs": [
    {
     "name": "stdout",
     "output_type": "stream",
     "text": [
      "M2SOFTENK2_per_D\tD D C C C C C C C C C C C C C C C C C C = 46\n",
      "per_CCD \tC C D C C D C C D C C D C C D C C D C C = 66\n",
      "\n",
      "M2SOFTENK3_per_D\tD D D C C C C C C C C C C C C C C C C C = 47\n",
      "per_CCD \tC C D C C D C C D C C D C C D C C D C C = 62\n",
      "\n",
      "M2HARDENK2_per_C\tC C C D D C D D C D D C D D C D D C D D = 66\n",
      "per_CCD \tC C D C C D C C D C C D C C D C C D C C = 36\n",
      "\n",
      "M2HARDENK3_per_C\tC C C D D D D D D D D D D D D D D D D D = 71\n",
      "per_CCD \tC C D C C D C C D C C D C C D C C D C C = 16\n"
     ]
    }
   ],
   "source": [
    "#    TESTS\n",
    "\n",
    "\n",
    "# Softening AllD        \n",
    "s1 = Method2('soften',2, Periodic('D'))\n",
    "s2 = Periodic('CCD')\n",
    "m=Meeting(g,s1,s2,20)\n",
    "m.run()\n",
    "m.prettyPrint()\n",
    "print()\n",
    "\n",
    "# Softening AllD        \n",
    "s1 = Method2('soften',3, Periodic('D'))\n",
    "s2 = Periodic('CCD')\n",
    "m=Meeting(g,s1,s2,20)\n",
    "m.run()\n",
    "m.prettyPrint()\n",
    "print()\n",
    "\n",
    "# Hardening AllC   \n",
    "s1 = Method2('harden',2, Periodic('C'))\n",
    "s2 = Periodic('CCD')\n",
    "m=Meeting(g,s1,s2,20)\n",
    "m.run()\n",
    "m.prettyPrint()\n",
    "print()\n",
    "\n",
    "# Hardening AllC   \n",
    "s1 = Method2('harden',3, Periodic('C'))\n",
    "s2 = Periodic('CCD')\n",
    "m=Meeting(g,s1,s2,20)\n",
    "m.run()\n",
    "m.prettyPrint()\n"
   ]
  },
  {
   "cell_type": "code",
   "execution_count": 204,
   "metadata": {},
   "outputs": [],
   "source": [
    "class Method3 (Strategy):\n",
    "    def __init__(self,type,k,strat):\n",
    "        self.type=type.upper()\n",
    "        self.k = k\n",
    "        self.strat = strat\n",
    "        self.name='M3'+self.type+'K'+str(k)+'_'+self.strat.name\n",
    "        self.his=''\n",
    "        \n",
    "    def getAction(self,tick):\n",
    "        c = self.strat.getAction(tick)\n",
    "        if (tick > self.k - 1) :\n",
    "            if (self.type=='SOFTEN' and self.his[-self.k : ]=='C'*self.k) :\n",
    "                # Il a coopere k fois consecutives\n",
    "                # print(\"softer at\",self.k)\n",
    "                return 'C';\n",
    "            if (self.type=='HARDEN' and self.his[-self.k : ]=='D'*self.k) :\n",
    "                # Il a trahi k fois consecutives\n",
    "                # print(\"harder at\",self.k)\n",
    "                return 'D';\n",
    "            \n",
    "        return c;\n",
    "    \n",
    "    def clone(self):\n",
    "        object = Method3(self.type,self.k, self.strat.clone())\n",
    "        return object\n",
    "    \n",
    "    def update(self,my,his):\n",
    "        self.his+=his\n",
    "        self.strat.update(my,his)"
   ]
  },
  {
   "cell_type": "code",
   "execution_count": 205,
   "metadata": {},
   "outputs": [
    {
     "name": "stdout",
     "output_type": "stream",
     "text": [
      "M3SOFTENK2_per_D\tD D C D D C D D C D D C D D C D D C D D = 70\n",
      "per_CCD \tC C D C C D C C D C C D C C D C C D C C = 30\n",
      "\n",
      "M3SOFTENK3_per_D\tD D D D D D D D D D D D D D D D D D D D = 76\n",
      "per_CCD \tC C D C C D C C D C C D C C D C C D C C = 6\n",
      "\n",
      "M3HARDENK2_per_C\tC C C C C C C C C C C C C C C C C C C C = 42\n",
      "per_CCD \tC C D C C D C C D C C D C C D C C D C C = 72\n",
      "\n",
      "M3HARDENK3_per_C\tC C C C C C C C C C C C C C C C C C C C = 42\n",
      "per_CCD \tC C D C C D C C D C C D C C D C C D C C = 72\n"
     ]
    }
   ],
   "source": [
    "#   TEST   \n",
    "\n",
    "# Softening AllD        \n",
    "s1 = Method3('soften',2, Periodic('D'))\n",
    "s2 = Periodic('CCD')\n",
    "m=Meeting(g,s1,s2,20)\n",
    "m.run()\n",
    "m.prettyPrint()\n",
    "print()\n",
    "\n",
    "# Softening AllD        \n",
    "s1 = Method3('soften',3, Periodic('D'))\n",
    "s2 = Periodic('CCD')\n",
    "m=Meeting(g,s1,s2,20)\n",
    "m.run()\n",
    "m.prettyPrint()\n",
    "print()\n",
    "\n",
    "# Hardening AllC   \n",
    "s1 = Method3('harden',2, Periodic('C'))\n",
    "s2 = Periodic('CCD')\n",
    "m=Meeting(g,s1,s2,20)\n",
    "m.run()\n",
    "m.prettyPrint()\n",
    "print()\n",
    "\n",
    "# Hardening AllC   \n",
    "s1 = Method3('harden',3, Periodic('C'))\n",
    "s2 = Periodic('CCD')\n",
    "m=Meeting(g,s1,s2,20)\n",
    "m.run()\n",
    "m.prettyPrint()"
   ]
  },
  {
   "cell_type": "code",
   "execution_count": 220,
   "metadata": {},
   "outputs": [
    {
     "name": "stdout",
     "output_type": "stream",
     "text": [
      "warning: running passed Tournament. This step may take a while.\n"
     ]
    }
   ],
   "source": [
    "bag=getClassicals()[0:17] # getMem(1,1)\n",
    "bagM1SoftenK1=[Method1(\"soften\",1,s) for s in bag]\n",
    "bagM1HardenK1=[Method1(\"harden\",1,s) for s in bag]\n",
    "bagM2SoftenK1=[Method2(\"soften\",1,s) for s in bag]\n",
    "bagM2HardenK1=[Method2(\"harden\",1,s) for s in bag]\n",
    "bagM3SoftenK1=[Method3(\"soften\",1,s) for s in bag]\n",
    "bagM3HardenK1=[Method3(\"harden\",1,s) for s in bag]\n",
    "# To help grouping, we add 'Normal' as prefix (on 10 chars)\n",
    "for s in bag:\n",
    "    s.name='Normal____'+s.name\n",
    "    \n",
    "allbags=bag+bagM1SoftenK1+bagM1HardenK1+bagM2SoftenK1+bagM2HardenK1 #+bagM3SoftenK1+bagM3HardenK1\n",
    "\n",
    "t = Tournament(g,allbags,100)\n",
    "e = Ecological(t,100)\n",
    "e.run()\n"
   ]
  },
  {
   "cell_type": "code",
   "execution_count": 221,
   "metadata": {},
   "outputs": [
    {
     "data": {
      "image/png": "[encoded data removed]",
      "text/plain": [
       "<Figure size 432x288 with 1 Axes>"
      ]
     },
     "metadata": {
      "needs_background": "light"
     },
     "output_type": "display_data"
    }
   ],
   "source": [
    "# Grouper par nom de famille (fig4 simpat2021)\n",
    "\n",
    "x=e.historic.copy()\n",
    "new_columns=[n[0:10] for n in x.columns]\n",
    "x.columns=new_columns\n",
    "result = x.groupby(by=x.columns , axis=1).sum()\n",
    "result.plot()\n",
    "plt.savefig('titi.png', dpi=500)\n",
    "\n",
    "#x.groupby(by=x.columns , axis=1).agg({'mean':[np.mean] , 'std':[np.std]})"
   ]
  },
  {
   "cell_type": "markdown",
   "metadata": {},
   "source": [
    "# Variations with \"Improved AllD\""
   ]
  },
  {
   "cell_type": "code",
   "execution_count": 236,
   "metadata": {},
   "outputs": [
    {
     "name": "stdout",
     "output_type": "stream",
     "text": [
      "warning: running passed Tournament. This step may take a while.\n"
     ]
    },
    {
     "data": {
      "image/png": "[encoded data removed]",
      "text/plain": [
       "<Figure size 432x288 with 1 Axes>"
      ]
     },
     "metadata": {
      "needs_background": "light"
     },
     "output_type": "display_data"
    }
   ],
   "source": [
    "# (fig6 simpat2021)\n",
    "\n",
    "bag=getClassicals()[0:17] # getMem(1,1)\n",
    "bag = bag + [ Method1('soften',2, Periodic('D','allD')) ]\n",
    "bag = bag + [ Method1('soften',3, Periodic('D','allD')) ]\n",
    "bag = bag + [ Method1('soften',4, Periodic('D','allD')) ]\n",
    "\n",
    "t = Tournament(g,bag,100)\n",
    "e = Ecological(t,100)\n",
    "e.run()\n",
    "e.drawPlot(nbLegends=10) #, file='allD_soften_Classicals.png')\n"
   ]
  },
  {
   "cell_type": "markdown",
   "metadata": {},
   "source": [
    "# Speed tests\n",
    "`Ecological` and `EcolDeterInt` compute exactly the same thing. The first one uses an iterative method, the second a matrix computation.\n",
    "Let's look at the efficiency of each."
   ]
  },
  {
   "cell_type": "code",
   "execution_count": 78,
   "metadata": {},
   "outputs": [
    {
     "name": "stdout",
     "output_type": "stream",
     "text": [
      "54\n",
      "CPU times: user 553 ms, sys: 2.78 ms, total: 556 ms\n",
      "Wall time: 554 ms\n"
     ]
    }
   ],
   "source": [
    "%%time\n",
    "# Tests de rapidite\n",
    "t = Tournament(g,getMem(1,1)+getClassicals() , length=100)\n",
    "t.run()\n",
    "print(len(t.strategies))"
   ]
  },
  {
   "cell_type": "code",
   "execution_count": 79,
   "metadata": {},
   "outputs": [
    {
     "name": "stdout",
     "output_type": "stream",
     "text": [
      "44\n",
      "CPU times: user 1.15 s, sys: 2.75 ms, total: 1.16 s\n",
      "Wall time: 1.15 s\n"
     ]
    }
   ],
   "source": [
    "%%time\n",
    "e = Ecological(t,100)\n",
    "e.run()\n",
    "print(len(e.historic))"
   ]
  },
  {
   "cell_type": "code",
   "execution_count": null,
   "metadata": {},
   "outputs": [],
   "source": [
    "%run ../src/evolutions.py\n"
   ]
  },
  {
   "cell_type": "code",
   "execution_count": null,
   "metadata": {},
   "outputs": [],
   "source": [
    "%%time\n",
    "di = EvolDeterInt('ind',t,100,1000)\n",
    "di.run()\n",
    "print(len(di.historic))"
   ]
  },
  {
   "cell_type": "code",
   "execution_count": null,
   "metadata": {},
   "outputs": [],
   "source": [
    "%%time\n",
    "# NE FONCTIONNE PAS DANS JUPYTER\n",
    "t = TournamentRepeat(g,getClassicals()[0:8])\n",
    "t.run()"
   ]
  }
 ],
 "metadata": {
  "kernelspec": {
   "display_name": "Python 3",
   "language": "python",
   "name": "python3"
  },
  "language_info": {
   "codemirror_mode": {
    "name": "ipython",
    "version": 3
   },
   "file_extension": ".py",
   "mimetype": "text/x-python",
   "name": "python",
   "nbconvert_exporter": "python",
   "pygments_lexer": "ipython3",
   "version": "3.8.5"
  }
 },
 "nbformat": 4,
 "nbformat_minor": 2
}
