{
 "cells": [
  {
   "cell_type": "markdown",
   "metadata": {},
   "source": [
    "# Adoucir ou Endurcir ?"
   ]
  },
  {
   "cell_type": "code",
   "execution_count": null,
   "metadata": {},
   "outputs": [],
   "source": [
    "%run ../src/game.py\n",
    "%run ../src/ipd.py\n",
    "%run ../src/strategies.py\n",
    "%run ../src/tools.py\n",
    "g.prettyPrint()   # prisoner's dilemma"
   ]
  },
  {
   "cell_type": "markdown",
   "metadata": {},
   "source": [
    "## Des meta-classes de stratégies\n",
    "\n",
    "Quand on regarde un ensemble de stratégies on constate qu'il possède des caractéristiques générales qui permettent de les ranger en grandes familles. Les quatre familles que nous considérons sont la classe des stratégies initialement coopératives IC (elles ne prennent jamais l’initiative de trahir); la classe complémentaire à IC qui est celle des stratégies \"spontanément agressives\", SA (toute stratégie est donc soit IC soit SA); la classe des stratégies initialement agressives IA (elles ne prennent jamais l’initiative de coopérer); la classe complémentaire à IA qui est celle des stratégies \"spontanément coopératives\" SC (toute stratégie est donc soit IA soit SC). On note que toute stratégie IA est SA et que toute strategie IC est SC."
   ]
  },
  {
   "cell_type": "code",
   "execution_count": null,
   "metadata": {},
   "outputs": [],
   "source": [
    "def getAgressivityClasses(bag):\n",
    "    aggressivity = {'IC':[], 'SC':[],'IA':[],'SA':[]}\n",
    "    for strat in bag : \n",
    "        m1 = Meeting(g, strat, Periodic('C'), 100)\n",
    "        m1.run()\n",
    "        m2 = Meeting(g, strat, Periodic('D'), 100)\n",
    "        m2.run()\n",
    "        if m1.s1_score == 300:\n",
    "             aggressivity['IC'] += [strat]\n",
    "        if m1.s1_score > 300:\n",
    "             aggressivity['SA'] += [strat]\n",
    "        if m2.s1_score == 100:\n",
    "             aggressivity['IA'] += [strat]\n",
    "        if m2.s1_score < 100:\n",
    "             aggressivity['SC'] += [strat]\n",
    "    return aggressivity\n",
    "        \n",
    "\n",
    "ac = getAgressivityClasses(getClassicals()[0:17])\n",
    "for cle,valeur in ac.items():\n",
    "    print (cle, len(valeur) , [s.name for s in valeur])\n",
    "        \n",
    "        "
   ]
  },
  {
   "cell_type": "markdown",
   "metadata": {},
   "source": [
    "## Taille de chaque catégorie pour chacune des grandes familles"
   ]
  },
  {
   "cell_type": "code",
   "execution_count": null,
   "metadata": {},
   "outputs": [],
   "source": [
    "import pandas as pd\n",
    "result=[]\n",
    "for bag in [getClassicals()[0:17],getMem(1,1),getMem(1,2),getMem(2,1)] :\n",
    "    ac = getAgressivityClasses(bag)\n",
    "    lig=[]\n",
    "    for cle,valeur in ac.items():\n",
    "        lig.append(len(valeur))\n",
    "    result.append(lig)\n",
    "df = pd.DataFrame(result, columns=list(ac.keys()), index=['classicals','mem11','mem12','mem21'])\n",
    "df\n",
    "\n"
   ]
  },
  {
   "cell_type": "markdown",
   "metadata": {},
   "source": [
    "## Liste des stratégies d'une famille, avec leurs catégories"
   ]
  },
  {
   "cell_type": "code",
   "execution_count": null,
   "metadata": {},
   "outputs": [],
   "source": [
    "import pandas as pd\n",
    "bag = getMem11() #getClassicals()[0:17]\n",
    "ac = getAgressivityClasses(bag)\n",
    "result=[]\n",
    "for s in bag :\n",
    "    lig=[\n",
    "    'IA' if s in ac['IA'] else '' ,\n",
    "    'IC' if s in ac['IC'] else '' ,\n",
    "    'SA' if s in ac['SA'] else '' ,\n",
    "    'SC' if s in ac['SC'] else ''\n",
    "    ]\n",
    "    result.append(lig)\n",
    "df = pd.DataFrame(result, index=[s.name for s in bag])\n",
    "df"
   ]
  },
  {
   "cell_type": "markdown",
   "metadata": {},
   "source": [
    "L'aggressivité des stratégies avant et après simplification"
   ]
  },
  {
   "cell_type": "code",
   "execution_count": null,
   "metadata": {},
   "outputs": [],
   "source": [
    "def createTab(bag):\n",
    "    agr = getAgressivityClasses(bag)\n",
    "    simplified = simplifyWithTournament(bag, [Periodic('CDCCDDC'), Periodic('DDCDCDD')], 10)\n",
    "    agrS = getAgressivityClasses(simplified)\n",
    "    tab = pd.DataFrame(\n",
    "            np.nan, [\"IC\",\"SC\",\"IA\", \"SA\"], [\"Before simplify\",\"After simplify\"]\n",
    "        )\n",
    "    for key in agr :\n",
    "        tab.at[key,\"Before simplify\" ] = len(agr[key])\n",
    "    for key in agrS :\n",
    "        tab.at[key, \"After simplify\"] = len(agrS[key])\n",
    "    pd.options.display.float_format = '{:,.0f}'.format\n",
    "    return tab\n",
    "\n",
    "createTab(getMem(1,1))\n"
   ]
  },
  {
   "cell_type": "markdown",
   "metadata": {},
   "source": [
    "Maintenant, regardons avec Mem(1,2)"
   ]
  },
  {
   "cell_type": "code",
   "execution_count": null,
   "metadata": {},
   "outputs": [],
   "source": [
    "createTab(getMem(1,2))"
   ]
  },
  {
   "cell_type": "markdown",
   "metadata": {},
   "source": [
    "Quel est le classement moyen des stratégies de chaque classe ?"
   ]
  },
  {
   "cell_type": "code",
   "execution_count": null,
   "metadata": {},
   "outputs": [],
   "source": [
    "bag = getMem(1,1)\n",
    "e = Ecological(g, bag, 100)\n",
    "e.run()\n",
    "ranking = e.historic.iloc[e.generation].rank(0, method=\"min\", ascending=False)\n",
    "score = e.historic.iloc[e.generation]\n",
    "agr = getAgressivityClasses(bag)\n",
    "\n",
    "# Generate the data with mean of ranks and scores\n",
    "tab = pd.DataFrame(\n",
    "            np.nan, [\"IC\",\"SC\",\"IA\", \"SA\"], [\"Mean of ranks\",\"Mean of scores\"]\n",
    "        )\n",
    "for key in agr:\n",
    "    ranks = []\n",
    "    scores = []\n",
    "    for strat in agr[key]:\n",
    "        ranks += [ranking[strat.name]]\n",
    "        scores += [score[strat.name]]\n",
    "        \n",
    "    tab.at[key, \"Mean of ranks\"] = np.mean(ranks)\n",
    "    tab.at[key, \"Mean of scores\"] = np.mean(scores)\n",
    "pd.options.display.float_format = '{:,.0f}'.format   \n",
    "print(tab)\n",
    "\n",
    "# Generate the graph with mean of scores \n",
    "ranksIC, ranksSC, ranksIA, ranksSA = [], [], [], []\n",
    "for i in range(e.generation):\n",
    "    rIC = 0\n",
    "    rSC = 0\n",
    "    rIA = 0\n",
    "    rSA = 0\n",
    "    for key in agr:\n",
    "        for strat in agr[key]:\n",
    "            if key == \"IC\":\n",
    "                rIC += e.historic.iloc[i][strat.name]\n",
    "            if key == \"SC\":\n",
    "                rSC += e.historic.iloc[i][strat.name]\n",
    "            if key == \"IA\":\n",
    "                rIA += e.historic.iloc[i][strat.name]\n",
    "            if key == \"SA\":\n",
    "                rSA += e.historic.iloc[i][strat.name]\n",
    "    ranksIC += [np.sum(rIC)/len(agr['IC'])]\n",
    "    ranksSC += [np.sum(rSC)/len(agr['SC'])]\n",
    "    ranksIA += [np.sum(rIA)/len(agr['IA'])]\n",
    "    ranksSA += [np.sum(rSA)/len(agr['SA'])]\n",
    "                \n",
    "        \n",
    "\n",
    "plt.plot(ranksIC, label='IC')\n",
    "plt.plot(ranksSC, label= 'SC')\n",
    "plt.plot(ranksSA, label='SA')\n",
    "plt.plot(ranksIA, label='IA')\n",
    "plt.ylabel('Scores')\n",
    "plt.xlabel('Generation')\n",
    "plt.legend()\n",
    "plt.show()\n",
    "        "
   ]
  }
 ],
 "metadata": {
  "kernelspec": {
   "display_name": "Python 3",
   "language": "python",
   "name": "python3"
  },
  "language_info": {
   "codemirror_mode": {
    "name": "ipython",
    "version": 3
   },
   "file_extension": ".py",
   "mimetype": "text/x-python",
   "name": "python",
   "nbconvert_exporter": "python",
   "pygments_lexer": "ipython3",
   "version": "3.8.5"
  }
 },
 "nbformat": 4,
 "nbformat_minor": 2
}
