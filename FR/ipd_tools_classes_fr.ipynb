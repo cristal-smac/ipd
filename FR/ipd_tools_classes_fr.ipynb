{
 "cells": [
  {
   "cell_type": "markdown",
   "metadata": {},
   "source": [
    "# Studies on Softening and Hardening"
   ]
  },
  {
   "cell_type": "code",
   "execution_count": 20,
   "metadata": {},
   "outputs": [
    {
     "name": "stdout",
     "output_type": "stream",
     "text": [
      "        C       D\n",
      "C  [3, 3]  [0, 5]\n",
      "D  [5, 0]  [1, 1]\n"
     ]
    }
   ],
   "source": [
    "%run ../src/game.py\n",
    "%run ../src/ipd.py\n",
    "%run ../src/strategies.py\n",
    "%run ../src/tools.py\n",
    "g.prettyPrint()   # prisoner's dilemma"
   ]
  },
  {
   "cell_type": "code",
   "execution_count": null,
   "metadata": {},
   "outputs": [],
   "source": [
    "# example of meeting\n",
    "m = Meeting(g, Periodic('ccd'), Tft() , length=10)\n",
    "m.run()\n",
    "m.prettyPrint()"
   ]
  },
  {
   "cell_type": "code",
   "execution_count": null,
   "metadata": {},
   "outputs": [],
   "source": [
    "# example of a classical tournament\n",
    "bag = [Periodic('C','allC'), Periodic('D','allD'), Tft(), Periodic('CCD','perCCD') ]\n",
    "t = Tournament(g,bag,length=10)\n",
    "t.run()\n",
    "t.matrix"
   ]
  },
  {
   "cell_type": "code",
   "execution_count": null,
   "metadata": {},
   "outputs": [],
   "source": [
    "e = Ecological(t,pop=100, max_iter=1000)\n",
    "e.run()\n",
    "e.drawPlot()"
   ]
  },
  {
   "cell_type": "markdown",
   "metadata": {},
   "source": [
    "## Classification of strategies\n",
    "\n",
    "When we look at a set of strategies we see that they have general characteristics that allow them to be classified into large families. The four families we consider are\n",
    "\n",
    "\n",
    "- IC. a strategy is “initially cooperative” (IC) if it never takes the initiative of defection\n",
    "- SA. we call “spontaneously aggressive” the complementary set to IC\n",
    "- IA. a strategy is “initially aggressive” if it never takes the initiative of cooperation\n",
    "- SC. we call “spontaneously cooperative” the complementary set to IA\n",
    "\n",
    "Note that each IA strategy is also SA and that each IC strategy is also SC.\n",
    "On the other hand, it is possible to be IC and SC at the same time.\n",
    "\n",
    "The `getAgressivityClass` method takes a set of strategies as a parameter and breaks these strategies down into a 4 entry dictionary; one for each of these cl"
   ]
  },
  {
   "cell_type": "code",
   "execution_count": 8,
   "metadata": {},
   "outputs": [
    {
     "name": "stdout",
     "output_type": "stream",
     "text": [
      "IC 10 ['allC', 'tft', 'spiteful', 'softmajo', 'pavlov', 'tf2t', 'hardtft', 'slowtft', 'gradual', 'spitefulCC']\n",
      "SC 14 ['allC', 'tft', 'spiteful', 'softmajo', 'per_DDC', 'per_CCD', 'per_CD', 'pavlov', 'tf2t', 'hardtft', 'slowtft', 'gradual', 'prober', 'spitefulCC']\n",
      "IA 3 ['allD', 'hardmajo', 'mistrust']\n",
      "SA 7 ['allD', 'hardmajo', 'per_DDC', 'per_CCD', 'mistrust', 'per_CD', 'prober']\n"
     ]
    }
   ],
   "source": [
    "def getAgressivityClasses(bag):\n",
    "    aggressivity = {'IC':[], 'SC':[],'IA':[],'SA':[]}\n",
    "    for strat in bag : \n",
    "        m1 = Meeting(g, strat, Periodic('C'), 100)\n",
    "        m1.run()\n",
    "        m2 = Meeting(g, strat, Periodic('D'), 100)\n",
    "        m2.run()\n",
    "        if m1.s1_score == 300:\n",
    "             aggressivity['IC'] += [strat]\n",
    "        if m1.s1_score > 300:\n",
    "             aggressivity['SA'] += [strat]\n",
    "        if m2.s1_score == 100:\n",
    "             aggressivity['IA'] += [strat]\n",
    "        if m2.s1_score < 100:\n",
    "             aggressivity['SC'] += [strat]\n",
    "    return aggressivity\n",
    "        \n",
    "\n",
    "ac = getAgressivityClasses(getClassicals()[0:17])\n",
    "for cle,valeur in ac.items():\n",
    "    print (cle, len(valeur) , [s.name for s in valeur])\n",
    "\n",
    "# Take care that the 17th is SpitefulCC, contrary to the Simpat paper in which \n",
    "# it's mem2"
   ]
  },
  {
   "cell_type": "markdown",
   "metadata": {},
   "source": [
    "## List of strategies in a family, with their categories"
   ]
  },
  {
   "cell_type": "code",
   "execution_count": 15,
   "metadata": {},
   "outputs": [
    {
     "data": {
      "text/html": [
       "<div>\n",
       "<style scoped>\n",
       "    .dataframe tbody tr th:only-of-type {\n",
       "        vertical-align: middle;\n",
       "    }\n",
       "\n",
       "    .dataframe tbody tr th {\n",
       "        vertical-align: top;\n",
       "    }\n",
       "\n",
       "    .dataframe thead th {\n",
       "        text-align: right;\n",
       "    }\n",
       "</style>\n",
       "<table border=\"1\" class=\"dataframe\">\n",
       "  <thead>\n",
       "    <tr style=\"text-align: right;\">\n",
       "      <th></th>\n",
       "      <th>0</th>\n",
       "      <th>1</th>\n",
       "      <th>2</th>\n",
       "      <th>3</th>\n",
       "    </tr>\n",
       "  </thead>\n",
       "  <tbody>\n",
       "    <tr>\n",
       "      <th>allC</th>\n",
       "      <td></td>\n",
       "      <td>IC</td>\n",
       "      <td></td>\n",
       "      <td>SC</td>\n",
       "    </tr>\n",
       "    <tr>\n",
       "      <th>allD</th>\n",
       "      <td>IA</td>\n",
       "      <td></td>\n",
       "      <td>SA</td>\n",
       "      <td></td>\n",
       "    </tr>\n",
       "    <tr>\n",
       "      <th>tft</th>\n",
       "      <td></td>\n",
       "      <td>IC</td>\n",
       "      <td></td>\n",
       "      <td>SC</td>\n",
       "    </tr>\n",
       "    <tr>\n",
       "      <th>spiteful</th>\n",
       "      <td></td>\n",
       "      <td>IC</td>\n",
       "      <td></td>\n",
       "      <td>SC</td>\n",
       "    </tr>\n",
       "    <tr>\n",
       "      <th>softmajo</th>\n",
       "      <td></td>\n",
       "      <td>IC</td>\n",
       "      <td></td>\n",
       "      <td>SC</td>\n",
       "    </tr>\n",
       "    <tr>\n",
       "      <th>hardmajo</th>\n",
       "      <td>IA</td>\n",
       "      <td></td>\n",
       "      <td>SA</td>\n",
       "      <td></td>\n",
       "    </tr>\n",
       "    <tr>\n",
       "      <th>per_DDC</th>\n",
       "      <td></td>\n",
       "      <td></td>\n",
       "      <td>SA</td>\n",
       "      <td>SC</td>\n",
       "    </tr>\n",
       "    <tr>\n",
       "      <th>per_CCD</th>\n",
       "      <td></td>\n",
       "      <td></td>\n",
       "      <td>SA</td>\n",
       "      <td>SC</td>\n",
       "    </tr>\n",
       "    <tr>\n",
       "      <th>mistrust</th>\n",
       "      <td>IA</td>\n",
       "      <td></td>\n",
       "      <td>SA</td>\n",
       "      <td></td>\n",
       "    </tr>\n",
       "    <tr>\n",
       "      <th>per_CD</th>\n",
       "      <td></td>\n",
       "      <td></td>\n",
       "      <td>SA</td>\n",
       "      <td>SC</td>\n",
       "    </tr>\n",
       "    <tr>\n",
       "      <th>pavlov</th>\n",
       "      <td></td>\n",
       "      <td>IC</td>\n",
       "      <td></td>\n",
       "      <td>SC</td>\n",
       "    </tr>\n",
       "    <tr>\n",
       "      <th>tf2t</th>\n",
       "      <td></td>\n",
       "      <td>IC</td>\n",
       "      <td></td>\n",
       "      <td>SC</td>\n",
       "    </tr>\n",
       "    <tr>\n",
       "      <th>hardtft</th>\n",
       "      <td></td>\n",
       "      <td>IC</td>\n",
       "      <td></td>\n",
       "      <td>SC</td>\n",
       "    </tr>\n",
       "    <tr>\n",
       "      <th>slowtft</th>\n",
       "      <td></td>\n",
       "      <td>IC</td>\n",
       "      <td></td>\n",
       "      <td>SC</td>\n",
       "    </tr>\n",
       "    <tr>\n",
       "      <th>gradual</th>\n",
       "      <td></td>\n",
       "      <td>IC</td>\n",
       "      <td></td>\n",
       "      <td>SC</td>\n",
       "    </tr>\n",
       "    <tr>\n",
       "      <th>prober</th>\n",
       "      <td></td>\n",
       "      <td></td>\n",
       "      <td>SA</td>\n",
       "      <td>SC</td>\n",
       "    </tr>\n",
       "    <tr>\n",
       "      <th>spitefulCC</th>\n",
       "      <td></td>\n",
       "      <td>IC</td>\n",
       "      <td></td>\n",
       "      <td>SC</td>\n",
       "    </tr>\n",
       "  </tbody>\n",
       "</table>\n",
       "</div>"
      ],
      "text/plain": [
       "             0   1   2   3\n",
       "allC            IC      SC\n",
       "allD        IA      SA    \n",
       "tft             IC      SC\n",
       "spiteful        IC      SC\n",
       "softmajo        IC      SC\n",
       "hardmajo    IA      SA    \n",
       "per_DDC             SA  SC\n",
       "per_CCD             SA  SC\n",
       "mistrust    IA      SA    \n",
       "per_CD              SA  SC\n",
       "pavlov          IC      SC\n",
       "tf2t            IC      SC\n",
       "hardtft         IC      SC\n",
       "slowtft         IC      SC\n",
       "gradual         IC      SC\n",
       "prober              SA  SC\n",
       "spitefulCC      IC      SC"
      ]
     },
     "execution_count": 15,
     "metadata": {},
     "output_type": "execute_result"
    }
   ],
   "source": [
    "import pandas as pd\n",
    "bag = getClassicals()[0:17]\n",
    "ac = getAgressivityClasses(bag)\n",
    "result=[]\n",
    "for s in bag :\n",
    "    lig=[\n",
    "    'IA' if s in ac['IA'] else '' ,\n",
    "    'IC' if s in ac['IC'] else '' ,\n",
    "    'SA' if s in ac['SA'] else '' ,\n",
    "    'SC' if s in ac['SC'] else ''\n",
    "    ]\n",
    "    result.append(lig)\n",
    "df = pd.DataFrame(result, index=[s.name for s in bag])\n",
    "df"
   ]
  },
  {
   "cell_type": "markdown",
   "metadata": {},
   "source": [
    "## Size of each class for each of the main families"
   ]
  },
  {
   "cell_type": "code",
   "execution_count": 12,
   "metadata": {},
   "outputs": [
    {
     "data": {
      "text/html": [
       "<div>\n",
       "<style scoped>\n",
       "    .dataframe tbody tr th:only-of-type {\n",
       "        vertical-align: middle;\n",
       "    }\n",
       "\n",
       "    .dataframe tbody tr th {\n",
       "        vertical-align: top;\n",
       "    }\n",
       "\n",
       "    .dataframe thead th {\n",
       "        text-align: right;\n",
       "    }\n",
       "</style>\n",
       "<table border=\"1\" class=\"dataframe\">\n",
       "  <thead>\n",
       "    <tr style=\"text-align: right;\">\n",
       "      <th></th>\n",
       "      <th>IC</th>\n",
       "      <th>SC</th>\n",
       "      <th>IA</th>\n",
       "      <th>SA</th>\n",
       "    </tr>\n",
       "  </thead>\n",
       "  <tbody>\n",
       "    <tr>\n",
       "      <th>classicals</th>\n",
       "      <td>10</td>\n",
       "      <td>14</td>\n",
       "      <td>3</td>\n",
       "      <td>7</td>\n",
       "    </tr>\n",
       "    <tr>\n",
       "      <th>mem11</th>\n",
       "      <td>8</td>\n",
       "      <td>24</td>\n",
       "      <td>8</td>\n",
       "      <td>24</td>\n",
       "    </tr>\n",
       "    <tr>\n",
       "      <th>mem12</th>\n",
       "      <td>128</td>\n",
       "      <td>896</td>\n",
       "      <td>128</td>\n",
       "      <td>896</td>\n",
       "    </tr>\n",
       "    <tr>\n",
       "      <th>mem21</th>\n",
       "      <td>216</td>\n",
       "      <td>2376</td>\n",
       "      <td>216</td>\n",
       "      <td>2376</td>\n",
       "    </tr>\n",
       "  </tbody>\n",
       "</table>\n",
       "</div>"
      ],
      "text/plain": [
       "             IC    SC   IA    SA\n",
       "classicals   10    14    3     7\n",
       "mem11         8    24    8    24\n",
       "mem12       128   896  128   896\n",
       "mem21       216  2376  216  2376"
      ]
     },
     "execution_count": 12,
     "metadata": {},
     "output_type": "execute_result"
    }
   ],
   "source": [
    "import pandas as pd\n",
    "result=[]\n",
    "for bag in [getClassicals()[0:17],getMem(1,1),getMem(1,2),getAllProba(5)] :\n",
    "    ac = getAgressivityClasses(bag)\n",
    "    lig=[]\n",
    "    for cle,valeur in ac.items():\n",
    "        lig.append(len(valeur))\n",
    "    result.append(lig)\n",
    "df = pd.DataFrame(result, columns=list(ac.keys()), index=['classicals','mem11','mem12','mem21'])\n",
    "df\n",
    "\n"
   ]
  },
  {
   "cell_type": "markdown",
   "metadata": {},
   "source": [
    "L'aggressivité des stratégies avant et après simplification"
   ]
  },
  {
   "cell_type": "code",
   "execution_count": 21,
   "metadata": {},
   "outputs": [
    {
     "ename": "NameError",
     "evalue": "name 'simplifyWithTournament' is not defined",
     "output_type": "error",
     "traceback": [
      "\u001b[0;31m---------------------------------------------------------------------------\u001b[0m",
      "\u001b[0;31mNameError\u001b[0m                                 Traceback (most recent call last)",
      "\u001b[0;32m<ipython-input-21-ea0f87ce90e8>\u001b[0m in \u001b[0;36m<module>\u001b[0;34m\u001b[0m\n\u001b[1;32m     13\u001b[0m     \u001b[0;32mreturn\u001b[0m \u001b[0mtab\u001b[0m\u001b[0;34m\u001b[0m\u001b[0;34m\u001b[0m\u001b[0m\n\u001b[1;32m     14\u001b[0m \u001b[0;34m\u001b[0m\u001b[0m\n\u001b[0;32m---> 15\u001b[0;31m \u001b[0mcreateTab\u001b[0m\u001b[0;34m(\u001b[0m\u001b[0mgetMem\u001b[0m\u001b[0;34m(\u001b[0m\u001b[0;36m1\u001b[0m\u001b[0;34m,\u001b[0m\u001b[0;36m1\u001b[0m\u001b[0;34m)\u001b[0m\u001b[0;34m)\u001b[0m\u001b[0;34m\u001b[0m\u001b[0;34m\u001b[0m\u001b[0m\n\u001b[0m",
      "\u001b[0;32m<ipython-input-21-ea0f87ce90e8>\u001b[0m in \u001b[0;36mcreateTab\u001b[0;34m(bag)\u001b[0m\n\u001b[1;32m      1\u001b[0m \u001b[0;32mdef\u001b[0m \u001b[0mcreateTab\u001b[0m\u001b[0;34m(\u001b[0m\u001b[0mbag\u001b[0m\u001b[0;34m)\u001b[0m\u001b[0;34m:\u001b[0m\u001b[0;34m\u001b[0m\u001b[0;34m\u001b[0m\u001b[0m\n\u001b[1;32m      2\u001b[0m     \u001b[0magr\u001b[0m \u001b[0;34m=\u001b[0m \u001b[0mgetAgressivityClasses\u001b[0m\u001b[0;34m(\u001b[0m\u001b[0mbag\u001b[0m\u001b[0;34m)\u001b[0m\u001b[0;34m\u001b[0m\u001b[0;34m\u001b[0m\u001b[0m\n\u001b[0;32m----> 3\u001b[0;31m     \u001b[0msimplified\u001b[0m \u001b[0;34m=\u001b[0m \u001b[0msimplifyWithTournament\u001b[0m\u001b[0;34m(\u001b[0m\u001b[0mbag\u001b[0m\u001b[0;34m,\u001b[0m \u001b[0;34m[\u001b[0m\u001b[0mPeriodic\u001b[0m\u001b[0;34m(\u001b[0m\u001b[0;34m'CDCCDDC'\u001b[0m\u001b[0;34m)\u001b[0m\u001b[0;34m,\u001b[0m \u001b[0mPeriodic\u001b[0m\u001b[0;34m(\u001b[0m\u001b[0;34m'DDCDCDD'\u001b[0m\u001b[0;34m)\u001b[0m\u001b[0;34m]\u001b[0m\u001b[0;34m,\u001b[0m \u001b[0;36m10\u001b[0m\u001b[0;34m)\u001b[0m\u001b[0;34m\u001b[0m\u001b[0;34m\u001b[0m\u001b[0m\n\u001b[0m\u001b[1;32m      4\u001b[0m     \u001b[0magrS\u001b[0m \u001b[0;34m=\u001b[0m \u001b[0mgetAgressivityClasses\u001b[0m\u001b[0;34m(\u001b[0m\u001b[0msimplified\u001b[0m\u001b[0;34m)\u001b[0m\u001b[0;34m\u001b[0m\u001b[0;34m\u001b[0m\u001b[0m\n\u001b[1;32m      5\u001b[0m     tab = pd.DataFrame(\n",
      "\u001b[0;31mNameError\u001b[0m: name 'simplifyWithTournament' is not defined"
     ]
    }
   ],
   "source": [
    "def createTab(bag):\n",
    "    agr = getAgressivityClasses(bag)\n",
    "    simplified = simplifyWithTournament(bag, [Periodic('CDCCDDC'), Periodic('DDCDCDD')], 10)\n",
    "    agrS = getAgressivityClasses(simplified)\n",
    "    tab = pd.DataFrame(\n",
    "            np.nan, [\"IC\",\"SC\",\"IA\", \"SA\"], [\"Before simplify\",\"After simplify\"]\n",
    "        )\n",
    "    for key in agr :\n",
    "        tab.at[key,\"Before simplify\" ] = len(agr[key])\n",
    "    for key in agrS :\n",
    "        tab.at[key, \"After simplify\"] = len(agrS[key])\n",
    "    pd.options.display.float_format = '{:,.0f}'.format\n",
    "    return tab\n",
    "\n",
    "createTab(getMem(1,1))\n"
   ]
  },
  {
   "cell_type": "markdown",
   "metadata": {},
   "source": [
    "# Performance of the strategies in each class ?"
   ]
  },
  {
   "cell_type": "code",
   "execution_count": 19,
   "metadata": {},
   "outputs": [
    {
     "name": "stdout",
     "output_type": "stream",
     "text": [
      "warning: running passed Tournament. This step may take a while.\n",
      "    Mean of ranks  Mean of scores\n",
      "IC              4             400\n",
      "SC              5             133\n",
      "IA              5               0\n",
      "SA              5               0\n"
     ]
    },
    {
     "data": {
      "image/png": "[encoded data removed]",
      "text/plain": [
       "<Figure size 432x288 with 1 Axes>"
      ]
     },
     "metadata": {
      "needs_background": "light"
     },
     "output_type": "display_data"
    }
   ],
   "source": [
    "bag = getMem(1,1)\n",
    "t = Tournament(g,bag,100)\n",
    "e = Ecological(t, 100)\n",
    "e.run()\n",
    "ranking = e.historic.iloc[e.generation].rank(0, method=\"min\", ascending=False)\n",
    "score = e.historic.iloc[e.generation]\n",
    "agr = getAgressivityClasses(bag)\n",
    "\n",
    "# Generate the data with mean of ranks and scores\n",
    "tab = pd.DataFrame(\n",
    "            np.nan, [\"IC\",\"SC\",\"IA\", \"SA\"], [\"Mean of ranks\",\"Mean of scores\"]\n",
    "        )\n",
    "for key in agr:\n",
    "    ranks = []\n",
    "    scores = []\n",
    "    for strat in agr[key]:\n",
    "        ranks += [ranking[strat.name]]\n",
    "        scores += [score[strat.name]]\n",
    "        \n",
    "    tab.at[key, \"Mean of ranks\"] = np.mean(ranks)\n",
    "    tab.at[key, \"Mean of scores\"] = np.mean(scores)\n",
    "pd.options.display.float_format = '{:,.0f}'.format   \n",
    "print(tab)\n",
    "\n",
    "# Generate the graph with mean of scores \n",
    "ranksIC, ranksSC, ranksIA, ranksSA = [], [], [], []\n",
    "for i in range(e.generation):\n",
    "    rIC = 0\n",
    "    rSC = 0\n",
    "    rIA = 0\n",
    "    rSA = 0\n",
    "    for key in agr:\n",
    "        for strat in agr[key]:\n",
    "            if key == \"IC\":\n",
    "                rIC += e.historic.iloc[i][strat.name]\n",
    "            if key == \"SC\":\n",
    "                rSC += e.historic.iloc[i][strat.name]\n",
    "            if key == \"IA\":\n",
    "                rIA += e.historic.iloc[i][strat.name]\n",
    "            if key == \"SA\":\n",
    "                rSA += e.historic.iloc[i][strat.name]\n",
    "    ranksIC += [np.sum(rIC)/len(agr['IC'])]\n",
    "    ranksSC += [np.sum(rSC)/len(agr['SC'])]\n",
    "    ranksIA += [np.sum(rIA)/len(agr['IA'])]\n",
    "    ranksSA += [np.sum(rSA)/len(agr['SA'])]\n",
    "                \n",
    "        \n",
    "\n",
    "plt.plot(ranksIC, label='IC')\n",
    "plt.plot(ranksSC, label= 'SC')\n",
    "plt.plot(ranksSA, label='SA')\n",
    "plt.plot(ranksIA, label='IA')\n",
    "plt.ylabel('Scores')\n",
    "plt.xlabel('Generation')\n",
    "plt.legend()\n",
    "plt.show()\n",
    "        "
   ]
  }
 ],
 "metadata": {
  "kernelspec": {
   "display_name": "Python 3",
   "language": "python",
   "name": "python3"
  },
  "language_info": {
   "codemirror_mode": {
    "name": "ipython",
    "version": 3
   },
   "file_extension": ".py",
   "mimetype": "text/x-python",
   "name": "python",
   "nbconvert_exporter": "python",
   "pygments_lexer": "ipython3",
   "version": "3.8.5"
  }
 },
 "nbformat": 4,
 "nbformat_minor": 2
}
