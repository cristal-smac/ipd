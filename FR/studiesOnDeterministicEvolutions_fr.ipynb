{
 "cells": [
  {
   "cell_type": "markdown",
   "metadata": {},
   "source": [
    "# Etude sur la competition écologique\n",
    "\n",
    "Ce fichier a pour objectif l'étude des subtilités liées à la réalisation des compétitions écologiques déterministes. Il contient à la fois du texte explicatif et du code Python pour illustrer les résultats.\n",
    "\n",
    "# Study on ecological competition\n",
    "This file aims at studying the subtleties related to the realization of deterministic ecological competitions. It contains both explanatory text and Python code to illustrate the results.\n"
   ]
  },
  {
   "cell_type": "code",
   "execution_count": 1,
   "metadata": {},
   "outputs": [
    {
     "data": {
      "text/html": [
       "<div>\n",
       "<style scoped>\n",
       "    .dataframe tbody tr th:only-of-type {\n",
       "        vertical-align: middle;\n",
       "    }\n",
       "\n",
       "    .dataframe tbody tr th {\n",
       "        vertical-align: top;\n",
       "    }\n",
       "\n",
       "    .dataframe thead th {\n",
       "        text-align: right;\n",
       "    }\n",
       "</style>\n",
       "<table border=\"1\" class=\"dataframe\">\n",
       "  <thead>\n",
       "    <tr style=\"text-align: right;\">\n",
       "      <th></th>\n",
       "      <th>prober</th>\n",
       "      <th>gradual</th>\n",
       "      <th>tft</th>\n",
       "      <th>mistrust</th>\n",
       "      <th>allC</th>\n",
       "      <th>allD</th>\n",
       "      <th>Total</th>\n",
       "    </tr>\n",
       "  </thead>\n",
       "  <tbody>\n",
       "    <tr>\n",
       "      <th>prober</th>\n",
       "      <td>104</td>\n",
       "      <td>299</td>\n",
       "      <td>299</td>\n",
       "      <td>295</td>\n",
       "      <td>496</td>\n",
       "      <td>98</td>\n",
       "      <td>1591</td>\n",
       "    </tr>\n",
       "    <tr>\n",
       "      <th>gradual</th>\n",
       "      <td>299</td>\n",
       "      <td>300</td>\n",
       "      <td>300</td>\n",
       "      <td>296</td>\n",
       "      <td>300</td>\n",
       "      <td>89</td>\n",
       "      <td>1584</td>\n",
       "    </tr>\n",
       "    <tr>\n",
       "      <th>tft</th>\n",
       "      <td>299</td>\n",
       "      <td>300</td>\n",
       "      <td>300</td>\n",
       "      <td>250</td>\n",
       "      <td>300</td>\n",
       "      <td>99</td>\n",
       "      <td>1548</td>\n",
       "    </tr>\n",
       "    <tr>\n",
       "      <th>mistrust</th>\n",
       "      <td>300</td>\n",
       "      <td>301</td>\n",
       "      <td>250</td>\n",
       "      <td>100</td>\n",
       "      <td>302</td>\n",
       "      <td>100</td>\n",
       "      <td>1353</td>\n",
       "    </tr>\n",
       "    <tr>\n",
       "      <th>allC</th>\n",
       "      <td>6</td>\n",
       "      <td>300</td>\n",
       "      <td>300</td>\n",
       "      <td>297</td>\n",
       "      <td>300</td>\n",
       "      <td>0</td>\n",
       "      <td>1203</td>\n",
       "    </tr>\n",
       "    <tr>\n",
       "      <th>allD</th>\n",
       "      <td>108</td>\n",
       "      <td>144</td>\n",
       "      <td>104</td>\n",
       "      <td>100</td>\n",
       "      <td>500</td>\n",
       "      <td>100</td>\n",
       "      <td>1056</td>\n",
       "    </tr>\n",
       "  </tbody>\n",
       "</table>\n",
       "</div>"
      ],
      "text/plain": [
       "          prober  gradual  tft  mistrust  allC  allD  Total\n",
       "prober       104      299  299       295   496    98   1591\n",
       "gradual      299      300  300       296   300    89   1584\n",
       "tft          299      300  300       250   300    99   1548\n",
       "mistrust     300      301  250       100   302   100   1353\n",
       "allC           6      300  300       297   300     0   1203\n",
       "allD         108      144  104       100   500   100   1056"
      ]
     },
     "execution_count": 1,
     "metadata": {},
     "output_type": "execute_result"
    }
   ],
   "source": [
    "%run ../src/ipd.py\n",
    "%run ../src/strategies.py\n",
    "%run ../src/evolutions.py\n",
    "\n",
    "import time\n",
    "import itertools as it\n",
    "\n",
    "# real formatting in numpy and pandas\n",
    "pd.set_option('display.float_format', lambda x: '%.3f' % x)\n",
    "np.set_printoptions(formatter={'float': lambda x: \"{0:0.3f}\".format(x)})\n",
    "\n",
    "# usual sets of strategies\n",
    "bag20 = getClassicals()[0:20]\n",
    "bag4 = [Periodic('CCD','per_ccd'), Periodic('DDC','per_ddc'), Prober(),Mistrust()]\n",
    "bag5 = [Periodic('CCD','per_ccd'), Periodic('DDC','per_ddc'), Prober(), SoftMajority(),HardMajority()]\n",
    "bag6 = [Prober(), Periodic('C','allC'), Mistrust(), Periodic('D','allD'), Tft(), Gradual()]\n",
    "bag11= getClassicals()[0:9]+[Prober(),Gradual()]\n",
    "bagDyson=[Proba('C',1.0,0.3,0.7,0.0) , Proba('C',0.9,0.7,0.2,0.1), Proba('C',0.9,0.5,0.5,0.3), Proba('C',0.8,0.1,0.6,0.0), Proba('C',0.85,0.075,0.7,0)] \n",
    "\n",
    "# example of a classical tournament\n",
    "bag = bag6\n",
    "m1 = m1 = Tournament(g,bag,length=100)\n",
    "m1.run()\n",
    "m1.matrix\n"
   ]
  },
  {
   "cell_type": "markdown",
   "metadata": {},
   "source": [
    "## Principe général\n",
    "\n",
    "## General principle\n",
    "\n",
    "Soit $S$ un vecteur de $n$ strategies.\n",
    "Soit $Scores$ la matrice (n x n) des scores des rencontres 2 à 2 telle que Scores($s_i$,$s_j$) = score obtenu par la stratégie $s_i$ quand elle rencontre $s_j$\n",
    "Soit $P$ un vecteur de taille $n$ de populations tel que P($s_i$) = population de la stratégie $s_i$  et tel que base=$\\Sigma(P)$ \n",
    "\n",
    "$Scores.dot(P)$ correspond au vecteur des scores obtenus par une stratégie $s_i$ contre toutes les autres, y compris elle-même. $P * Scores.dot(P)$ correspond au vecteur des scores obtenus par toute la population de $s_i$ contre toutes \n",
    "les autres familles, appelé vecteur de fitness\n",
    "\n",
    "Dans la forme générale , \n",
    "$$\n",
    "fitnessF = P_t \\times (Scores * P_t) \\\\\n",
    "P_{t+1} = (base . fitnessF) // sum(fitnessF)\n",
    "$$\n",
    "\n",
    "($*$ designe le produit d'une matrice par un vecteur. $\\times$ désigne le produit terme à terme de 2 vecteurs tandis que  '.' désigne le produit d'un scalaire avec chacune des composantes du vecteur et $//$ chacune des composantes d'un vecteur divisé ( division entiere) par un scalaire).\n",
    "\n",
    "La compétition écologique est donc une itération de ce processus.\n",
    "\n",
    "Attention au fait que les arrondis ne garantissent pas une population totale constante. Chaque $P_t$ ne fait donc pas exactement la même somme. Pour éviter une dérive des populations, la base est calculée une fois pour toutes sur le vecteur de départ et non pas sur la population à t-1.\n"
   ]
  },
  {
   "cell_type": "code",
   "execution_count": 2,
   "metadata": {
    "scrolled": true
   },
   "outputs": [
    {
     "name": "stdout",
     "output_type": "stream",
     "text": [
      "[100 100 100 100 100 100]\n",
      "[114 114 111  97  86  76]\n",
      "[125 129 123  94  73  53]\n",
      "[132 145 135  90  61  34]\n",
      "[134 160 146  86  51  20]\n",
      "[132 175 156  81  42  11]\n",
      "[128 189 165  76  35   5]\n",
      "[122 201 172  70  29   2]\n",
      "[116 213 179  65  24   0]\n",
      "[109 224 185  60  20   0]\n"
     ]
    }
   ],
   "source": [
    "nbstrats=len(bag)\n",
    "scores = m1.matrix.iloc[0:nbstrats,0:nbstrats].values\n",
    "population=np.array([100]*nbstrats)\n",
    "base=sum(population)\n",
    "for i in range(10) :\n",
    "    print(population)\n",
    "    fitness = population*np.dot(scores,population)\n",
    "    population = (base*fitness)//sum(fitness)"
   ]
  },
  {
   "cell_type": "markdown",
   "metadata": {},
   "source": [
    "Si on souhaite calculer l'évolution sur des pourcentages, on considère alors que $P$ est un vecteur de réels compris entre 0 et 1, et que $\\Sigma(P)=1$.\n",
    "$base$ étant égal à 1, la règle de 3 se simplifie, et la division devient cette fois une division sur les réels.\n",
    "\n",
    "$$ \n",
    "fitnessF = P_t \\times Scores * P_t\\\\\n",
    "P_{t+1} = fitnessF / sum(fitnessF)\n",
    "$$\n",
    "\n",
    "($/$ correspond cette fois à la division réelle)."
   ]
  },
  {
   "cell_type": "code",
   "execution_count": 3,
   "metadata": {},
   "outputs": [
    {
     "name": "stdout",
     "output_type": "stream",
     "text": [
      "[0.167 0.167 0.167 0.167 0.167 0.167]\n",
      "[0.191 0.190 0.186 0.162 0.144 0.127]\n",
      "[0.210 0.215 0.206 0.158 0.123 0.089]\n",
      "[0.221 0.241 0.225 0.152 0.104 0.057]\n",
      "[0.225 0.266 0.243 0.144 0.087 0.034]\n",
      "[0.222 0.291 0.259 0.136 0.073 0.019]\n",
      "[0.215 0.313 0.274 0.127 0.061 0.010]\n",
      "[0.206 0.334 0.286 0.119 0.051 0.005]\n",
      "[0.195 0.353 0.297 0.110 0.043 0.002]\n",
      "[0.184 0.370 0.307 0.102 0.036 0.001]\n"
     ]
    }
   ],
   "source": [
    "population=np.array([1/nbstrats]*nbstrats)\n",
    "\n",
    "for i in range(10) :\n",
    "    print(population)\n",
    "    fitness = population*np.dot(scores,population)\n",
    "    population = fitness/sum(fitness)"
   ]
  },
  {
   "cell_type": "markdown",
   "metadata": {},
   "source": [
    "## Deux variantes :\n",
    "## Two variants :\n",
    "\n",
    "### 1 - On ne joue pas contre soi-même : \n",
    "### 1 - You don't play against yourself: \n",
    "On note que dans le processus décrit précédemment, chaque stratégie joue contre elle-même, ce qui est une simplification sans doute abusive. Afin d'effectuer un calcul plus rigoureux, chaque stratégie joue contre tout le monde, y compris ses semblables, mais pas elle-même. Il faut donc au moment du calcul du fitness, et juste avant de multiplier par l'ensemble de la population, retirer pour chaque stratégie le score qu'elle obtient contre elle-même (donc sur la diagonale de la matrice obtenue).\n",
    "Le calcul est donc décomposé en \n",
    "\n",
    "\n",
    "$$\n",
    "fitnessI = (Scores * P_t) \\\\\n",
    "fitnessI = fitnessI - (scores[i,i]) \\\\\n",
    "fitnessF = P_t \\times fitnessI \\\\\n",
    "P_{t+1} = (base . fitnessF) // sum(fitnessF)\n",
    "$$\n",
    "\n",
    "\n",
    "**C'est ce calcul que nous faisons depuis 30 ans !**\n"
   ]
  },
  {
   "cell_type": "code",
   "execution_count": 4,
   "metadata": {},
   "outputs": [
    {
     "name": "stdout",
     "output_type": "stream",
     "text": [
      "[100 100 100 100 100 100]\n",
      "[114 113 111  97  86  76]\n",
      "[125 128 123  94  73  53]\n",
      "[132 144 135  91  61  34]\n",
      "[134 159 146  87  51  20]\n",
      "[133 174 156  82  42  11]\n",
      "[129 187 165  76  35   5]\n",
      "[123 200 173  71  29   2]\n",
      "[116 211 179  65  24   0]\n",
      "[110 222 185  60  20   0]\n"
     ]
    }
   ],
   "source": [
    "population=np.array([100]*nbstrats)\n",
    "base=sum(population)\n",
    "for i in range(10) :\n",
    "    print(population)\n",
    "    fitness = np.dot(scores,population)\n",
    "    # On enleve le score que j'ai obtenu contre moi-même\n",
    "    fitness -= np.diag(scores)\n",
    "    fitness = population * fitness\n",
    "    population = (base*fitness)//sum(fitness)"
   ]
  },
  {
   "cell_type": "markdown",
   "metadata": {},
   "source": [
    "On notera que même sur 10 générations, on n'obtient pas le même résultat qu'avec le calcul précédent. C'est \"quasi\" le même, mais ce n'est pas \"exactement le même.\"\n",
    "\n",
    "**Cette variante n'a pas vraiment de sens avec un calcul sur les \"pourcentages\" puisqu'on n'est plus au niveau de l'individu.**"
   ]
  },
  {
   "cell_type": "markdown",
   "metadata": {},
   "source": [
    "### 2 - On ne joue pas contre ses semblables.\n",
    "### 2 - You don't play against your own kind.\n",
    "\n",
    "Une autre position philosophique toute aussi rationnelle serait de considérer que non seulement on ne joue pas contre soi-même, mais qu'en plus on ne se bat pas avec ses semblables.\n",
    "\n",
    "Une manière élégante d'effectuer ce calcul consiste à annuler les scores que chaque stratégie fait contre elle même, et donc mettre à zero la diagonale de la matrice des scores.\n",
    "On peut alors garder le même processus de calcul que précédemment.\n",
    "\n",
    "**C'est ce que l'on appelle m2sr (ou modèle communautaire)**"
   ]
  },
  {
   "cell_type": "code",
   "execution_count": 5,
   "metadata": {},
   "outputs": [
    {
     "name": "stdout",
     "output_type": "stream",
     "text": [
      "[100 100 100 100 100 100]\n",
      "[125 108 105 105  75  80]\n",
      "[144 116 110 110  59  58]\n",
      "[157 123 114 115  48  39]\n",
      "[165 130 118 119  40  25]\n",
      "[169 135 121 123  34  15]\n",
      "[170 139 124 126  29   9]\n",
      "[170 143 126 128  26   5]\n",
      "[169 146 127 129  23   2]\n",
      "[168 148 129 131  21   1]\n"
     ]
    }
   ],
   "source": [
    "# We put zeros on the diagonal, score against myself.\n",
    "np.fill_diagonal(scores, 0)\n",
    "population=np.array([100]*nbstrats)\n",
    "base=sum(population)\n",
    "for i in range(10) :\n",
    "    print(population)\n",
    "    fitness = population*np.dot(scores,population)\n",
    "    population = (base*fitness)//sum(fitness)"
   ]
  },
  {
   "cell_type": "markdown",
   "metadata": {},
   "source": [
    "Là encore, on notera que même sur 10 générations, on n'obtient pas le même résultat qu'avec le calcul précédent ce qui était attendu. Cette fois on constate que les résultats sont clairement différents.\n",
    "\n",
    "On constate notamment qu'avec le calcul classique l'agorithme converge vers un point fixe qui dépend des pop de depart , tandis qu'avec **m2sr** il y a quasiment toujours un point fixe indépendamment des populations de départ. Ces propriétés seront étudiées statistiquement un peu plus loin dans cette feuille.\n",
    "\n",
    "Cette variante peut aussi bien être implémentée sur les populations entières que sur la version \"pourcentages\"."
   ]
  },
  {
   "cell_type": "markdown",
   "metadata": {},
   "source": [
    "### 3 - La résilience de l'ancienne population.\n",
    "### 3 - The resilience of the previous population.\n",
    "\n",
    "Dans les algorithmes précédents, la nouvelle population est directement issue des performances obtenues. Une position plus naturaliste consiste à considérer que les anciens individus ne disparaissent pas tous tout de suite pour faire place aux nouveaux, mais seulement dans une certaine proposition. Ce que nous appellerons la résilience de l'ancienne population.\n",
    "\n",
    "La prise en compte de cette résilience peut se faire simplement au moment du calcul de la nouvelle population par la règle de 3. Si on considère que resilience à 0 correspond au cas classique, et resilience à 1 correspond à une population qui ne change jamais, Cela devient\n",
    "\n",
    "- Pour la version *Pourcentages*\n",
    "\n",
    "``\n",
    "        population = (resilience*population) + (1-resilience)*(fitness/sum(fitness))\n",
    "``\n",
    "- Pour la version *Entiers*\n",
    "\n",
    "``\n",
    "        population = (resilience*population) + (1-resilience)*(base*fitness)//sum(fitness)\n",
    "``"
   ]
  },
  {
   "cell_type": "markdown",
   "metadata": {},
   "source": [
    "### Conclusion\n",
    "En conclusion, on a donc 5 algorithmes : \n",
    "- le cas général (clair, propre, mathématisé) sur les populations entieres ou sur les \"pourcentages\", \n",
    "- la variante \"pas contre moi-même\" (plus rationnelle mais moins mathématisée et code plus complexe) mais uniquement sur les populations entieres, \n",
    "- la variante \"pas contre mes semblables\" pouvant être faite sur des populations entieres ou des \"pourcentages\".\n",
    "\n",
    "On pourrait espérer un code unique pour ces 3 procédures (et 5 cas), mais cela nécessite du coup des IF (des tests) à chaque itération, ce qui ralentit fortement l'execution. Par ailleurs, les types de données utilisés ne sont pas les mêmes. On pourrait croire que le type `Reel` généralise l'ensemble, mais des entiers codés dans des variables `Reel` ne permettent pas d'aller aussi loin dans le calcul exact.\n",
    "Pour une execution rapide on préfèrera un code spécifique, pour faciliter la maintenance on privilégiera un code unique avec différents tests"
   ]
  },
  {
   "cell_type": "markdown",
   "metadata": {},
   "source": [
    "## Le calcul de la coopération\n",
    "\n",
    "La matrice de coopération contient le nombre de fois où une stratégie $s_i$ a coopéré avec une stratégie $s_j$.\n",
    "En effectuant le même calcul que sur les scores, on obtient le nombre de coopérations global.\n",
    "Ce calcul dépendant de la population, ces deux calculs doivent idéalement se faire simultanément. Par contre pour la coopération, il suffit de calculer le rapport avec le nombre de coups total effectués pour obtenir le taux de coopération.\n",
    "\n",
    "**Le calcul de la cooperation ne peut être fait que sur la version Entiere du calcul**"
   ]
  },
  {
   "cell_type": "code",
   "execution_count": 6,
   "metadata": {},
   "outputs": [
    {
     "name": "stdout",
     "output_type": "stream",
     "text": [
      "63.66349369693851\n",
      "67.47662937804601\n",
      "71.27322812035494\n",
      "74.4601988165282\n",
      "76.8397767733138\n",
      "78.40211947509744\n",
      "79.57560597756178\n",
      "80.49438088374397\n",
      "80.83630496303174\n",
      "81.13598141461074\n"
     ]
    }
   ],
   "source": [
    "population=np.array([100]*nbstrats)\n",
    "cooperationMatrix=m1.cooperations.iloc[0:nbstrats,0:nbstrats].values.copy()\n",
    "base=sum(population)\n",
    "for i in range(10) :\n",
    "    # print(population)\n",
    "    fitness = population*np.dot(scores,population)\n",
    "    population = (base*fitness)//sum(fitness)\n",
    "    #    \n",
    "    totalCooperations = sum(population*np.dot(cooperationMatrix,population))\n",
    "    effectifexact = population.sum()\n",
    "    # ATTENTION AUX VARIANTES ... La division n'est pas la même selon les variantes\n",
    "    # V1 : si on le joue pas contre soi-meme, il faut mettre un (effectifexact - 1)\n",
    "    pcoop = 100 * totalCooperations / (effectifexact * (effectifexact) * m1.length)\n",
    "    print(pcoop)"
   ]
  },
  {
   "cell_type": "markdown",
   "metadata": {},
   "source": [
    "## Le passage à l'objet\n",
    "## Transition to Object programming\n",
    "\n",
    "Si une seule expérience est souhaitée, une simple procedure suffit. C'est ce que j'ai fait jusqu'à présent. Si par contre, on souhaite plusieurs évolutions possibles qui coexistent (pour les comparer par exemple), le test des paramètres en entrée (différentes manières de fournir la population par exemple) et éventuellement des calculs spécifiques pour la sortie (avec ou sans graphique), il devient important d'encapsuler tout ça dans des objets.\n",
    "\n",
    "- **EvolDeterReal** qui effectue le calcul par pourcentage, avec les 2 versions **ind**(individualistic) ou **com**(munautary)\n",
    "- **EvolDeterInt** qui effectue le calcul par pourcentage, avec les 2 versions **ind**(individualistic) ou **com**(munautary)\n",
    "\n",
    "Paramètres : `algo`, `tournament`,`population`, `itermax`, `prefix`, `strict=True` , `resilience=0` , `diag=0`)\n",
    "- `algo`='ind' ou 'com'\n",
    "- `strict`=true ou False  ... strict n'a aucune influence avec m2sr. Il n'a pas de sens en Reel\n",
    "- `resilience` compris 0 et 1 (100%)\n",
    "- `strict` : on ne joue pas contre sois-même\n",
    "- `diag` : valeur mise sur la diag en mode com(munautary)"
   ]
  },
  {
   "cell_type": "code",
   "execution_count": 7,
   "metadata": {},
   "outputs": [
    {
     "data": {
      "image/png": "[encoded data removed]",
      "text/plain": [
       "<Figure size 432x288 with 1 Axes>"
      ]
     },
     "metadata": {
      "needs_background": "light"
     },
     "output_type": "display_data"
    },
    {
     "data": {
      "image/png": "[encoded data removed]",
      "text/plain": [
       "<Figure size 432x288 with 1 Axes>"
      ]
     },
     "metadata": {
      "needs_background": "light"
     },
     "output_type": "display_data"
    },
    {
     "data": {
      "image/png": "[encoded data removed]",
      "text/plain": [
       "<Figure size 432x288 with 1 Axes>"
      ]
     },
     "metadata": {
      "needs_background": "light"
     },
     "output_type": "display_data"
    },
    {
     "data": {
      "image/png": "[encoded data removed]",
      "text/plain": [
       "<Figure size 432x288 with 1 Axes>"
      ]
     },
     "metadata": {
      "needs_background": "light"
     },
     "output_type": "display_data"
    }
   ],
   "source": [
    "bag=bag6\n",
    "m1 = Tournament(g,bag,length=100)\n",
    "m1.run()\n",
    "\n",
    "m2 = EvolDeterReal('ind', m1 , np.array([1/6]*6), 300, '')\n",
    "m2.run()\n",
    "m2.drawPlot()\n",
    "\n",
    "m2 = EvolDeterInt('ind', m1, 100 , 100, '')\n",
    "m2.run()\n",
    "m2.drawPlot()\n",
    "\n",
    "m2sr = EvolDeterReal('com', m1, np.array([1/6]*6), 300, '')\n",
    "m2sr.run()\n",
    "m2sr.drawPlot()\n",
    "\n",
    "m2sr = EvolDeterInt('com', m1 , 100, 100, '')\n",
    "m2sr.run()\n",
    "m2sr.drawPlot()\n"
   ]
  },
  {
   "cell_type": "markdown",
   "metadata": {},
   "source": [
    "On note que la détection de la convergence dans le cas Reel n'est pas évidente. Il y a toujours un léger écart. Tandis que la version entiere assure un calcul parfait."
   ]
  },
  {
   "cell_type": "markdown",
   "metadata": {},
   "source": [
    "# Fréquence des points de convergence \n",
    "# Frequency of convergence points\n",
    "\n",
    "# Tableau 1  \n",
    "## Convergence vers la coopération généralisée du modèle évolutionnaire individualiste \n",
    "## Convergence to the generalized cooperation of the individualistic evolutionary model \n",
    "\n",
    "On prend 1000 fois de 4 à 10 stratégies au hasard dans le bag, et on évalue le nombre de fois où il y a convergence vers la coopération généralisée : TRES LONG A CHAQUE FOIS"
   ]
  },
  {
   "cell_type": "code",
   "execution_count": null,
   "metadata": {},
   "outputs": [],
   "source": [
    "synthese=[]\n",
    "# 4 familles étudiées, 1 ligne par famille\n",
    "for bagFamily in [bag20 , bag20+bagDyson, getMem(1,1), getMem(1,2), getMem(2,1)] :\n",
    "#for bagFamily in [getMem(1,2), getMem(2,1)] :\n",
    "    ligne=[]\n",
    "    # 7 tailles de bag étudiées, 1 par colonne\n",
    "    print('+' ,end='')\n",
    "    for nb in range(4,11):\n",
    "        nbCpcCooperations=0\n",
    "        print('.' , end='')\n",
    "        # 100 exp au hasard à chaque fois\n",
    "        for i in range(0, 1000):                  # <====   CHANGER ICI PAR 1000\n",
    "            bag =  random.sample(bagFamily, nb)\n",
    "            #if len(bagFamily)>31 :\n",
    "            #    bag=bag+ [Tft(),Gradual(),Spiteful()] \n",
    "            m1 = Tournament(g,bag,length=100)\n",
    "            m1.run()\n",
    "            m2 = EvolDeterInt('com',m1,[100]*len(bag),10000,'')\n",
    "            m2.run()\n",
    "            if  m2.cooperationList[-1] == 100.0 :\n",
    "                nbCpcCooperations=nbCpcCooperations+1\n",
    "            #else :\n",
    "                # on affiche le probleme\n",
    "                #print([s.name for s in bag],\"\\t\",str(m2.cooperationList[-1] ))\n",
    "        ligne.append(nbCpcCooperations)\n",
    "    synthese.append(ligne)\n",
    "print()\n",
    "df = pd.DataFrame(synthese , columns=list(range(4,11)) , index=['bag20','bag20+Dyson', 'mem11++','mem12++','mem21++'] )\n",
    "#pd.DataFrame(synthese , columns=list(range(4,11)) , index=['mem12','mem21'] )\n",
    "df['moy']=df.mean(axis=1)  # ajout d'une colonne\n",
    "#df.loc['moy'] = df.mean(axis=0) # ajout d'une ligne\n",
    "df\n"
   ]
  },
  {
   "cell_type": "markdown",
   "metadata": {},
   "source": [
    "# Tableau 2 :\n",
    "## Proportion d'attracteurs uniques pour le modèle évolutionnaire communautaire \n",
    "## Proportion of unique attractors for the community evolutionary model"
   ]
  },
  {
   "cell_type": "code",
   "execution_count": null,
   "metadata": {},
   "outputs": [],
   "source": [
    "def evolReels(population,scores,iter):\n",
    "    for i in range(iter):\n",
    "        # print([s.name for s in bag] , population)\n",
    "        fitness = population*np.dot(scores,population)\n",
    "        population = fitness/sum(fitness)\n",
    "    return population\n",
    "\n",
    "\n",
    "def testAttracteur(bag, algo='com'):\n",
    "    nbstrats = len(bag)\n",
    "    m1 = Tournament(g,bag,length=100)\n",
    "    m1.run()\n",
    "    scores = m1.matrix.iloc[0:nbstrats,0:nbstrats].values\n",
    "    if (algo=='com'):\n",
    "        for i in range(nbstrats) : scores[i,i]=0\n",
    "    #===== generer dans pops 4 points de depart différents\n",
    "    pops=[]\n",
    "    # 1000 et les autres à 100\n",
    "    for i in range(len(bag)) :\n",
    "        p1=[100]*len(bag)\n",
    "        p1[i]=1000\n",
    "        pops.append(p1)\n",
    "    # tous egaux,\n",
    "    #pops.append([100]*nbstrats)\n",
    "    # tous croissants,\n",
    "    #pops.append( [(i+1)*100 for i in range(nbstrats)] )\n",
    "    # tous décroissants\n",
    "    #pops.append( [i*100 for i in range(nbstrats,0,-1)] )\n",
    "    # aleatoire ... 10 fois\n",
    "    #for i in range(10) :\n",
    "    #    pops.append( [random.randint(1,10)*100 for i in range(nbstrats)] )\n",
    "    #=====  Pour tous ces cas, calculer le vecteur resultat de l'iteration de 1000 etapes\n",
    "    histo=[]\n",
    "    for pop in pops :\n",
    "        result = evolReels(np.array(pop)/sum(pop) ,scores, 100)\n",
    "        # A remplacer par \n",
    "        # evol = EvolDeterReal(algo,m1,np.array(pop)/sum(pop), 100,'')\n",
    "        # histo.append(evo.historic[-1])\n",
    "        histo.append(result)\n",
    "    #===== Calculer si convergence unique ou pas    \n",
    "    y = np.std(histo, axis=0)\n",
    "    if list(filter(lambda x : x >0.001 , y)) != [] :\n",
    "    #if sum(y) > 0.01 :   # somme des ecart-types > 1/100è => surement plusieurs attracteurs\n",
    "        # print(y, [s.name for s in bag] )\n",
    "        # print(histo)\n",
    "        return 0\n",
    "    else :\n",
    "        #return 1\n",
    "        # print(histo[-1], [s.name for s in bag] )\n",
    "        # Et si on veut cumuler les 2 calculs Convergence + 100% coop\n",
    "        m2 = EvolDeterInt(algo,m1,100,10000,'')\n",
    "        m2.run()\n",
    "        if (m2.cooperationList[-1] == 100.0) :\n",
    "            #print(histo[-1], [s.name for s in bag] )\n",
    "            return 1\n",
    "        else :\n",
    "            return 0\n",
    "        \n",
    "\n",
    "\n",
    "print(testAttracteur(bag6,'com') ) # -> 1  donc 1 seul attracteur\n",
    "testAttracteur([Mistrust(),Prober(),SpitefulCC(),HardTft()],'com')   # -> 0 # donc plusieurs attracteurs\n",
    "\n"
   ]
  },
  {
   "cell_type": "code",
   "execution_count": null,
   "metadata": {},
   "outputs": [],
   "source": [
    "synthese=[]\n",
    "# 5 familles étudiées, 1 ligne par famille\n",
    "for bagFamily in [bag20, bag20+bagDyson, getMem11() , getMem(1,2) , getMem(2,1)] :\n",
    "    ligne=[]\n",
    "    # 7 tailles de bag étudiées, 1 par colonne\n",
    "    print('+',end='')\n",
    "    for nb in range(4,11):\n",
    "        print('.',end='')\n",
    "        nbAttracteursUniques=0\n",
    "        # 1000 exp au hasard à chaque fois\n",
    "        for i in range(0, 1000):                 # <===== CHANGER ICI\n",
    "            bag =  random.sample(bagFamily, nb)\n",
    "            nbAttracteursUniques = nbAttracteursUniques + testAttracteur(bag,'ind')\n",
    "        ligne.append(nbAttracteursUniques)\n",
    "    synthese.append(ligne)\n",
    "print()\n",
    "df=pd.DataFrame(synthese , columns=list(range(4,11)) , index=['bag20', 'bag20+dyson','mem11','mem12','mem21'] )\n",
    "\n",
    "df['moy']=df.mean(axis=1)  # ajout d'une colonne\n",
    "# df.loc['moy'] = df.mean(axis=0) # ajout d'une ligne\n",
    "df"
   ]
  },
  {
   "cell_type": "markdown",
   "metadata": {},
   "source": [
    "# Tableau 3 : \n",
    "## Dissimilarité dans les classements\n",
    "## Dissimilarity in rankings"
   ]
  },
  {
   "cell_type": "code",
   "execution_count": null,
   "metadata": {},
   "outputs": [],
   "source": [
    "# compare les classements entre m2 et m2sr\n",
    "# plus la note est faible , plus les classements sont proches\n",
    "def testClassements(bag):\n",
    "    m1=Tournament(g,bag,100)\n",
    "    m1.run()\n",
    "    #\n",
    "    m2=EvolDeterInt('ind',m1, [100]*len(bag) ,10000,'', strict=True, resilience=0.0)\n",
    "    m2.run()\n",
    "    df1=pd.DataFrame(m2.historic[-1], index=m2.nomstrats,columns=['ind']).sort_values(by='ind',ascending=False)\n",
    "    df1['rank_ind'] = df1['ind'].rank(axis=0, ascending=False, method='average')\n",
    "    #\n",
    "    m2sr=EvolDeterInt('com', m1, [100]*len(bag) ,10000,'', strict=True, resilience=0.0)\n",
    "    m2sr.run()\n",
    "    df2=pd.DataFrame(m2sr.historic[-1], index=m2sr.nomstrats,columns=['com']).sort_values(by='com',ascending=False)\n",
    "    df2['rank_com'] = df2['com'].rank(axis=0, ascending=False , method='average')\n",
    "    #\n",
    "    result = pd.concat([df1,df2] , axis=1)\n",
    "    n = len(bag)\n",
    "    # calcul 1 : avec les valeurs absolues\n",
    "    #result['ecart1']=abs(result['rank_m2']-result['rank_m2sr'])\n",
    "    #norme = (2*n**2 + (-1)**n -1)/4\n",
    "    #note1 = result['ecart1'].sum()  / norme\n",
    "    # calcul 2 : carre des ecarts\n",
    "    result['ecart2']=(result['rank_ind']-result['rank_com'])**2\n",
    "    note2= 1-(6*sum(result['ecart2'])) / (n**3 - n)\n",
    "    # Calcul 3 : Spearman boite noire\n",
    "    #spearman = result['rank_m2'].corr(result['rank_m2sr'], method='spearman')  # ou pearson ou kendall\n",
    "    if np.isnan(note2) :  #  quand tous sont égaux, spearman n'est pas défini\n",
    "        print(result)\n",
    "    return note2\n",
    "    \n",
    "\n",
    "testClassements(bag4)"
   ]
  },
  {
   "cell_type": "code",
   "execution_count": null,
   "metadata": {},
   "outputs": [],
   "source": [
    "synthese=[]\n",
    "# 5 familles étudiées, 1 ligne par famille\n",
    "for bagFamily in [bag20, bag20+bagDyson, getMem11() , getMem(1,2) , getMem(2,1)] :\n",
    "    ligne=[]\n",
    "    # 7 tailles de bag étudiées, 1 par colonne\n",
    "    print('+',end='')\n",
    "    for nb in range(4,11):\n",
    "        print('.',end='')\n",
    "        notes=[]\n",
    "        # 1000 exp au hasard à chaque fois\n",
    "        for i in range(0, 2):                 # <===== CHANGER ICI\n",
    "            bag =  random.sample(bagFamily, nb)\n",
    "            #if len(bagFamily)>31 :\n",
    "            #    bag=bag+ [Tft(),Gradual(),Spiteful()] \n",
    "            notes.append(testClassements(bag))\n",
    "        ligne.append(np.mean(notes))   # quand tous sont égaux, spearman est non défini : on le saute\n",
    "    synthese.append(ligne)\n",
    "print()\n",
    "\n",
    "df= pd.DataFrame(synthese , columns=list(range(4,11)) , index=['bag20', 'bag20+dyson','mem11','mem12','mem21'] )\n",
    "df=50*(df+1)   # SIMI\n",
    "df['moy']=df.mean(axis=1)  # ajout d'une colonne\n",
    "df.loc['moy'] = df.mean(axis=0) # ajout d'une ligne\n",
    "df\n"
   ]
  },
  {
   "cell_type": "markdown",
   "metadata": {},
   "source": [
    "# Tableau 4 : \n",
    "## Comparaison basée sur le cumul des classements\n",
    "## Comparison based on cumulative rankings\n",
    "Comparaison des classements.\n",
    "Pour n bags différents, chacun sur une ligne, on affiche un tableau montrant pour 1000 sous-ensembles de 4 à 7 stratégies différents prises aléatoirement dans ces bags en colonne, le nombre de fois où une stratégie a été classée premiere."
   ]
  },
  {
   "cell_type": "code",
   "execution_count": null,
   "metadata": {},
   "outputs": [],
   "source": [
    "synthese=[]\n",
    "# 5 familles étudiées, 1 ligne par famille\n",
    "for bagFamily in [bag20]: #, bag20+bagDyson, getMem11() , getMem(1,2) , getMem(2,1)] :\n",
    "    result=pd.DataFrame(index=[s.name for s in bagFamily])\n",
    "    result['cumul']=0\n",
    "    result['rank']=0\n",
    "    # 7 tailles de bag étudiées, 1 par colonne\n",
    "    print('+',end='')\n",
    "    for nb in range(4,11):\n",
    "        print('.',end='')\n",
    "        # 1000 exp au hasard à chaque fois\n",
    "        for i in range(0, 1000):                 # <===== CHANGER ICI\n",
    "            bag =  random.sample(bagFamily, nb)\n",
    "            #if len(bagFamily)>31 :\n",
    "            #    bag=bag+ [Tft(),Gradual(),Spiteful()] \n",
    "            # on fait le tournoi\n",
    "            m1=Tournament(g,bag,100)\n",
    "            m1.run()\n",
    "            # on fait la compet ecolo\n",
    "            m2=EvolDeterInt('com',m1, [100]*len(bag) ,10000,'', strict=True, resilience=0.0)\n",
    "            m2.run()\n",
    "            # Je cree un Dataframe avec la derniere ligne\n",
    "            df=pd.DataFrame(m2.historic[-1], index=m2.nomstrats,columns=['pops']) # .sort_values(by='pops',ascending=False)\n",
    "            # je calcule le classement, et rajoute la colonne\n",
    "            df['rank'] = df['pops'].rank(axis=0, ascending=False, method='min')\n",
    "            # Soit on ne garde que les 1\n",
    "            df['rank'] = np.where(df['rank'] != 1, 0 , df['rank']) \n",
    "            # Soit on cumule les scores\n",
    "            #df['rank'] = nb+1-df['rank']\n",
    "            # on rajoute cette colonne au result pour pouvoir cumuler\n",
    "            result.drop('rank',axis=1, inplace=True)\n",
    "            result = result.join(df['rank'], how='left')\n",
    "            result['cumul'] = result.sum(axis=1)   #['cumul'] + result['rank']\n",
    "            \n",
    "    #result2 = pd.DataFrame(result.sum(axis=1), columns=['somme'])\n",
    "    #result2.sort_values(by='somme',ascending=False ,inplace=True)\n",
    "    result.drop('rank',axis=1, inplace=True)\n",
    "    result.sort_values(by='cumul',ascending=False ,inplace=True)\n",
    "    print(result)\n"
   ]
  },
  {
   "cell_type": "markdown",
   "metadata": {},
   "source": [
    "## Calcul du polygone de convergence\n",
    "## Computation of the polygon of convergence\n",
    "\n",
    "Pour mieux visualiser les convergences, nous proposons une méthode permettant de visualiser un certain nombre de trajectoires issues de populations initiales fournies à k stratégies.\n",
    "Nous plaçons k points sur un cercle aux sommets d’un polygone régulier à k sommets, chaque sommet représentant une stratégie. La répartition des effectifs d’une génération détermine un point à l’intérieur du polygone qui est le barycentre des k sommets affectés des effectifs respectifs des stratégies. En joignant les points successifs obtenus lors d’une simulation évolutionnaire, la variation des effectifs de l’arène produit une courbe à l’intérieur du polygone.\n",
    "\n",
    "La méthode `drawPolygon(bag,meth,algo,pops,name)`permet de réaliser ce tracé.\n",
    "- `meth` : the method to use (`DeterInt`, `Encounter`, `Moran`,`Fermi`)\n",
    "- `algo` : ind (individualistic) or com (communautarian)\n",
    "- `pops` : list of lists of pop starting points (of size=len(bag))"
   ]
  },
  {
   "cell_type": "code",
   "execution_count": 39,
   "metadata": {},
   "outputs": [
    {
     "name": "stdout",
     "output_type": "stream",
     "text": [
      "[[1000, 20, 20, 20], [20, 1000, 20, 20], [20, 20, 1000, 20], [20, 20, 20, 1000], [1000, 50, 50, 50], [50, 1000, 50, 50], [50, 50, 1000, 50], [50, 50, 50, 1000], [1000, 100, 100, 100], [100, 1000, 100, 100], [100, 100, 1000, 100], [100, 100, 100, 1000]]\n",
      "12  trajectories)\n",
      "per_ccd    257.000\n",
      "per_ddc    594.000\n",
      "mistrust   229.000\n",
      "prober     218.000\n",
      "abs          0.290\n",
      "ord          0.022\n",
      "Name: 90, dtype: float64\n",
      "figure sauvée : fig7_bag4_polyone_Entier\n"
     ]
    },
    {
     "data": {
      "image/png": "[encoded data removed]",
      "text/plain": [
       "<Figure size 720x720 with 1 Axes>"
      ]
     },
     "metadata": {
      "needs_background": "light"
     },
     "output_type": "display_data"
    }
   ],
   "source": [
    "def oneVsAll(size,oneAt,otherStarts) :\n",
    "    pops=[]\n",
    "    for n in otherStarts :\n",
    "        for i in range(size) :\n",
    "            p1=[n]*size\n",
    "            p1[i]=oneAt\n",
    "            pops.append(p1)\n",
    "    return pops\n",
    "\n",
    "\n",
    "bag = bag4\n",
    "pops=oneVsAll(len(bag),1000,[20,50,100])\n",
    "print(pops)\n",
    "print(len(pops),' trajectories)')            \n",
    "draw_polygon(bag, 'DeterInt', 'ind', pops, 'fig7_bag4_polyone_Entier')\n",
    "#draw_polygon([Periodic('C','allC'), Periodic('D','allD'), Prober(), SoftMajority(),Mistrust()], 'm2', [20], 'fig8_bagX')\n"
   ]
  },
  {
   "cell_type": "markdown",
   "metadata": {},
   "source": [
    "Attention : avec la version Entiere il y a (en général) plusieurs points de convergence, avec la version Reel il n'y en n'a (en général) qu'un seul."
   ]
  },
  {
   "cell_type": "markdown",
   "metadata": {},
   "source": [
    "## Nouveau graphique : les barres\n",
    "\n",
    "On enleve la meilleure à chaque fois puis on trace les évolutions de chacune."
   ]
  },
  {
   "cell_type": "code",
   "execution_count": null,
   "metadata": {},
   "outputs": [],
   "source": [
    "# plt.figure(figsize=(10,10))\n",
    "\n",
    "def draw_barres(bag,algo,prefix) :\n",
    "    m1=Tournament(g,bag,100)\n",
    "    m1.run()\n",
    "    l=[]   # liste des coeff finaux\n",
    "    popinit = np.array([100]*len(bag))\n",
    "    for i in (range(len(bag)-1)):\n",
    "        #print(\"etape\",i)\n",
    "        pop=popinit.copy()/sum(popinit)   # on recalcule le pourcentage à chaque fois\n",
    "        #print(pop)\n",
    "        m2=EvolDeterReal(algo,m1, pop,1000,'', resilience=0.0)\n",
    "        m2.run()\n",
    "        lig = m2.historic[-1].copy()\n",
    "        # print(lig)\n",
    "        l.append(lig) # on rajoute les coeffs à la liste\n",
    "        max=np.argmax(lig)    # on enleve le max\n",
    "        # pour le min, il faut utiliser un masked_array\n",
    "        #lig2 = np.ma.MaskedArray(lig, lig<=0)\n",
    "        #max=np.ma.argmin(lig2)\n",
    "        # print(max,'ème mis à zero')\n",
    "        #print()\n",
    "        popinit[max]=0\n",
    "    # traitement de la derniere famille restante\n",
    "    #lig=[0]*len(bag)\n",
    "    #lig[popinit.argmax()]=1\n",
    "    #print(\"dernier classement : \",lig)\n",
    "    #l.append(lig)\n",
    "    \n",
    "    result = pd.DataFrame(l, columns=m1.matrix.index.values)\n",
    "    result=result.replace(0.0,np.nan)\n",
    "    #print(result)\n",
    "    result.plot(style='o-', figsize=(10,6), ylim=(0,np.max(l)) )\n",
    "    plt.vlines(list(range(len(bag)-1)),ymin=0, ymax=1, colors='k')\n",
    "    \n",
    "    tmillis = int(round(time.time() * 1000))    \n",
    "    plt.savefig(prefix+'_barres_'+algo+'_'+str(tmillis) , dpi=500)\n",
    "    plt.show()\n",
    "    plt.close()\n",
    "\n",
    "\n",
    "# ======================================================================\n",
    "\n",
    "draw_barres(bag11, 'ind', 'bag11')"
   ]
  },
  {
   "cell_type": "markdown",
   "metadata": {},
   "source": [
    "## Refaire une ou plusieurs exp classiques"
   ]
  },
  {
   "cell_type": "code",
   "execution_count": null,
   "metadata": {},
   "outputs": [],
   "source": [
    "bag=bag5\n",
    "m1=Tournament(g,bag,100)\n",
    "m1.run()\n",
    "\n",
    "pops=[]\n",
    "# tous egaux,\n",
    "pops.append([100]*len(bag))\n",
    "# tous croissants,\n",
    "pops.append( [(i+1)*100 for i in range(len(bag))] )\n",
    "# tous décroissants\n",
    "pops.append( [i*100 for i in range(len(bag),0,-1)] )\n",
    "# aleatoire ... \n",
    "#pops.append( [random.randint(1,10)*100 for i in range(len(bag))] )\n",
    "#  A la main ...\n",
    "#pop=[10]*20\n",
    "#pop[0]=1000\n",
    "\n",
    "for pop in pops :\n",
    "    m2=EvolDeterInt('ind',m1,pop,1000,'', strict=True, resilience=0.0)\n",
    "    #m2=M2Reels(m1,'',np.array(pop)/sum(pop),10000,'m2', resilience=0)\n",
    "\n",
    "    m2.run()\n",
    "    m2.drawPlot()\n",
    "    #print(\"%coop :\", m2.cooperationList[-1])\n",
    "    print(\"stab at : \", len(m2.historic))\n",
    "    print(\"valeurs initiales : \",pop)\n",
    "    print(\"valeurs finales : \",m2.historic[-1])\n",
    "    # Classements\n",
    "    df = pd.DataFrame(m2.historic, columns=m2.nomstrats)\n",
    "    print(df.iloc[-1].sort_values(ascending=False))"
   ]
  },
  {
   "cell_type": "markdown",
   "metadata": {},
   "source": [
    "## Regenerer 96 courbes  représentatives"
   ]
  },
  {
   "cell_type": "code",
   "execution_count": null,
   "metadata": {},
   "outputs": [],
   "source": [
    "plt.figure(figsize=(10,10))\n",
    "\n",
    "names=['bag4', 'bag5', 'bag6', 'bag11', 'bag20', 'bag20Dyson', 'Mem11']\n",
    "for idx, bag in enumerate([bag4, bag5, bag6, bag11, bag20, bag20+bagDyson, getMem11()]) :\n",
    "    for algo in ('ind','com') :\n",
    "        m1=Tournament(g,bag,100)\n",
    "        m1.run()\n",
    "        m2=EvolDeterInt(algo,m1,names[idx]+'_constant_',[100]*len(bag),1000,'', strict=True, resilience=0)\n",
    "        m2.run()\n",
    "        m2.plot()\n",
    "        m2=EvolDeterInt(algo,m1,names[idx]+'_croissant_',[(i+1)*100 for i in range(len(bag))],1000,'', strict=True, resilience=0)\n",
    "        m2.run()\n",
    "        m2.plot()\n",
    "        m2=EvolDeterInt(algo,m1,names[idx]+'_decroissant_',[i*100 for i in range(len(bag),0,-1)],1000,'', strict=True, resilience=0)\n",
    "        m2.run()\n",
    "        m2.plot()\n",
    "        draw_polygon(bag, algo, [1], names[idx])\n",
    "        draw_polygon(bag, algo, [10], names[idx])\n",
    "        draw_polygon(bag, algo, [100], names[idx])\n",
    "        draw_barres(bag, algo, names[idx])"
   ]
  },
  {
   "cell_type": "markdown",
   "metadata": {},
   "source": [
    "## Comment regénérer les courbes de l'article ?\n",
    "## How to regenerate the drawings of the paper ?"
   ]
  },
  {
   "cell_type": "code",
   "execution_count": null,
   "metadata": {},
   "outputs": [],
   "source": [
    "# fig1\n",
    "bag = bag4\n",
    "m1=Tournament(g,bag,100)\n",
    "m1.run()\n",
    "ind=EvolDeterInt('ind',m1,[100]*len(bag),1000,'fig1_bag4', strict=True, resilience=0)\n",
    "ind.run()\n",
    "ind.plot()\n",
    "ind=EvolDeterInt('ind',m1,[100]*len(bag),1000,'fig1_bag4', strict=True, resilience=0.25)\n",
    "ind.run()\n",
    "ind.plot()\n",
    "ind=EvolDeterInt('ind',m1,[100]*len(bag),1000,'fig1_bag4' strict=True, resilience=0.5)\n",
    "ind.run()\n",
    "ind.plot()\n",
    "ind=EvolDeterInt('ind',m1,[100]*len(bag),1000,'fig1_bag4', strict=True, resilience=0.75)\n",
    "ind.run()\n",
    "ind.plot()\n",
    "\n",
    "# fig2\n",
    "bag = bag6\n",
    "m1=Tournament(g,bag,100)\n",
    "m1.run()\n",
    "ind=EvolDeterInt('ind',m1,[100]*len(bag),5000,'fig2_bag6', strict=True, resilience=0)\n",
    "ind.run()\n",
    "ind.plot()\n",
    "ind=EvolDeterInt('ind',m1,[100]*len(bag),5000,'fig2_bag6', strict=True, resilience=0.25)\n",
    "ind.run()\n",
    "ind.plot()\n",
    "ind=EvolDeterInt('ind',m1,[100]*len(bag),5000,'fig2_bag6', strict=True, resilience=0.5) # VERIFIER 1201\n",
    "ind.run()\n",
    "ind.plot()\n",
    "ind=EvolDeterInt('ind',m1,[100]*len(bag),5000,'fig2_bag6', strict=True, resilience=0.75)  # VERIFIER 2697\n",
    "ind.run()\n",
    "ind.plot()\n",
    "\n",
    "\n",
    "# fig3\n",
    "bag = bag6\n",
    "m1=Tournament(g,bag,100)\n",
    "m1.run()\n",
    "ind=EvolDeterInt('ind',m1,[100]*len(bag),1000,'fig3_bag6_constant', strict=True, resilience=0)\n",
    "ind.run()\n",
    "ind.plot()\n",
    "ind=EvolDeterInt('ind',m1,'fig3_bag6_croissant',[(i+1)*100 for i in range(len(bag))],1000,'fig3_bag6_constant', strict=True, resilience=0)\n",
    "ind.run()\n",
    "ind.plot()\n",
    "ind=EvolDeterInt('ind',m1,'fig3_bag6_decroissant',[i*100 for i in range(len(bag),0,-1)],1000,'fig3_bag6_constant', strict=True, resilience=0)\n",
    "ind.run()\n",
    "ind.plot()\n",
    "\n",
    "# fig4\n",
    "bag = bag6\n",
    "draw_polygon(bag, 'DeterInt','ind', oneVsAll(6,1000,[20,50,100]), 'fig4_bag6_polygon_m2_[20,50,100]')\n",
    "\n",
    "# fig5\n",
    "bag = bag20\n",
    "draw_polygon(bag, 'DeterInt','ind', oneVsAll(20,1000,[10]), 'fig5_bag20_polygon_m2_[10]')\n",
    "\n",
    "# fig6\n",
    "bag = bag4\n",
    "m1=Tournament(g,bag,100)\n",
    "m1.run()\n",
    "ind=EvolDeterInt('ind',m1,[100]*len(bag),1000,'fig6_bag4_constant', strict=True, resilience=0)\n",
    "ind.run()\n",
    "ind.plot()\n",
    "ind=EvolDeterInt('ind',m1,[(i+1)*100 for i in range(len(bag))],1000,'fig6_bag4_constant', strict=True, resilience=0)\n",
    "ind.run()\n",
    "ind.plot()\n",
    "ind=EvolDeterInt('ind',m1,[i*100 for i in range(len(bag),0,-1)],1000,'fig6_bag4_constant', strict=True, resilience=0)\n",
    "ind.run()\n",
    "ind.plot()\n",
    "\n",
    "# fig7\n",
    "bag = bag4\n",
    "draw_polygon(bag, 'DeterInt','ind', oneVsAll(4,1000,[20, 50,100]), 'fig7_bag4_polygon_m2_[20,50,100]')\n",
    "\n",
    "# fig8\n",
    "draw_polygon([Periodic('C','allC'), Periodic('D','allD'), Prober(), SoftMajority(),Mistrust()], 'DeterInt', 'ind', oneVsAll(5,1000,[20]), 'fig8_bagX_polygon_m2_[20]')\n",
    "\n",
    "# fig9\n",
    "bag = bag5\n",
    "m1=Tournament(g,bag,100)\n",
    "m1.run()\n",
    "ind=EvolDeterInt('ind',m1,[100]*len(bag),1000,'fig9_bag5_constant', strict=True, resilience=0)\n",
    "ind.run()\n",
    "ind.plot()\n",
    "ind=EvolDeterInt('ind',m1,[(i+1)*100 for i in range(len(bag))],1000,'fig9_bag5_constant', strict=True, resilience=0)\n",
    "ind.run()\n",
    "ind.plot()\n",
    "ind=EvolDeterInt('ind',m1,[i*100 for i in range(len(bag),0,-1)],1000,'fig9_bag5_constant', strict=True, resilience=0)\n",
    "ind.run()\n",
    "ind.plot()\n",
    "pop=[100]*len(bag)\n",
    "ind=EvolDeterReal('ind',m1,np.array(pop)/sum(pop),10000,'fig9_bag5_constant')   # pourquoi si j'ajoute resilience ça cree une ERR\n",
    "ind.run()\n",
    "ind.plot()\n",
    "pop=[(i+1)*100 for i in range(len(bag))]\n",
    "ind=EvolDeterReal('ind',m1,np.array(pop)/sum(pop),10000,'fig9_bag5_constant')   # pourquoi si j'ajoute resilience ça cree une ERR\n",
    "ind.run()\n",
    "ind.plot()\n",
    "pop=[i*100 for i in range(len(bag),0,-1)]\n",
    "ind=EvolDeterReal('ind',m1,np.array(pop)/sum(pop),10000,'fig9_bag5_constant')   # pourquoi si j'ajoute resilience ça cree une ERR\n",
    "ind.run()\n",
    "ind.plot()\n",
    "\n",
    "# fig10\n",
    "draw_polygon(bag, 'DeterInt', 'ind', oneVsAll(5,1000,[100]), 'fig10_bag5_Entier_polygon_m2_[100]')\n",
    "draw_polygon(bag, 'DeterReal','ind', oneVsAll(5,1000,[100]), 'fig10_bag5_Reel_polygon_m2_[100]')\n",
    "\n",
    "\n",
    "\n",
    "\n",
    "# fig11\n",
    "bag = bag11\n",
    "draw_barres(bag, 'ind', 'fig11_bag11')\n",
    "\n",
    "\n",
    "#====================   com ======================\n",
    "\n",
    "# fig12\n",
    "bag = bag6\n",
    "m1=Tournament(g,bag,100)\n",
    "m1.run()\n",
    "ind=EvolDeterInt('com',m1,[100]*len(bag),1000,'fig12_bag6_constant', strict=True, resilience=0)\n",
    "ind.run()\n",
    "ind.plot()\n",
    "ind=EvolDeterInt('com',m1,[(i+1)*100 for i in range(len(bag))],1000,'fig12_bag6_constant', strict=True, resilience=0)\n",
    "ind.run()\n",
    "ind.plot()\n",
    "ind=EvolDeterInt('com',m1,[i*100 for i in range(len(bag),0,-1)],1000,'fig12_bag6_constant', strict=True, resilience=0)\n",
    "ind.run()\n",
    "ind.plot()\n",
    "\n",
    "# Fig13\n",
    "draw_polygon(bag, 'DeterInt','com', oneVsAll(6,1000,[10,100]), 'fig13_bag6_Entier_[10,100]')\n",
    "\n",
    "\n",
    "# fig14\n",
    "bag = bag11\n",
    "draw_barres(bag, 'com', 'fig14_bag11')\n",
    "\n",
    "# fig15\n",
    "bag = bag6\n",
    "starts=[10,200,1000]\n",
    "pops=list( map(list, it.product(starts, repeat=6)))    \n",
    "draw_polygon(bag, 'DeterInt', 'com', pops,'fig15_bag11_prod[10,200,1000]')\n"
   ]
  }
 ],
 "metadata": {
  "kernelspec": {
   "display_name": "Python 3",
   "language": "python",
   "name": "python3"
  },
  "language_info": {
   "codemirror_mode": {
    "name": "ipython",
    "version": 3
   },
   "file_extension": ".py",
   "mimetype": "text/x-python",
   "name": "python",
   "nbconvert_exporter": "python",
   "pygments_lexer": "ipython3",
   "version": "3.8.5"
  }
 },
 "nbformat": 4,
 "nbformat_minor": 4
}
