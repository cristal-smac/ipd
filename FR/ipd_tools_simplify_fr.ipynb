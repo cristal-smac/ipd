{
 "cells": [
  {
   "cell_type": "markdown",
   "metadata": {},
   "source": [
    "# La simplification d'ensembles de stratégies\n",
    "\n",
    "Auteur : Philippe Mathieu, [CRISTAL Lab](http://www.cristal.univ-lille.fr), [SMAC team](https://www.cristal.univ-lille.fr/?rubrique27&eid=17), [Lille University](http://www.univ-lille.fr), email : philippe.mathieu@univ-lille.fr\n",
    "\n",
    "Contributeurs : Jean-Paul Delahaye (CRISTAL/SMAC), Céline Petitpré (CRISTAL/SMAC)\n",
    "\n",
    "Création : 10/11/2019"
   ]
  },
  {
   "cell_type": "code",
   "execution_count": null,
   "metadata": {},
   "outputs": [],
   "source": [
    "%run ../src/game.py\n",
    "%run ../src/ipd.py\n",
    "%run ../src/strategies.py\n",
    "%run ../src/tools.py\n",
    "g.prettyPrint()   # prisoner's dilemma"
   ]
  },
  {
   "cell_type": "markdown",
   "metadata": {},
   "source": [
    "Deux stratégies au dilemme itéré du prisonnier sont équivalentes si quel que soit l'adversaire et quelle que soit la durée de la partie, elles jouent les mêmes coups exactement. Les ensembles de stratégies que nous traitons sont donc parfois redondants : ils contiennent les mêmes stratégies écrites de différentes manières. Il semble donc interessant de pouvoir simplifier des ensembles de stratégies en suprimant les doublons qu'ils peuvent contenir. \n",
    "Malheureusement, chacun le sait depuis Turing, **l'équivalence de deux programmes est indécidable**. Il n'y a donc pas de test parfait. Il est néanmoins possible de fournir des outils permettant d'avancer dans ce problème de simplification. C'est ce que nous allons voir ici.\n"
   ]
  },
  {
   "cell_type": "markdown",
   "metadata": {},
   "source": [
    "## Tests approximatifs d'équivalences de stratégies\n",
    "\n",
    "Pour savoir si deux stratégies sont différentes, il suffit de les faire jouer contre une stratégie de référence et s'assurer qu'elles jouent différemment face à cet adversaire. Si elles jouent différemment, on a la preuve qu'elles sont différentes. Mais si elles jouent de manière identique on ne peut rien en conclure car c'est peut-etre que la stratégie de référence n'a pas sû révéler leur différence de comportement. L'équivalence de deux stratégies est donc semi-décidable. \n",
    "\n",
    "La fonction `testEquivUnit` réalise ce test. On lui passe un couple de stratégies à tester et une stratégie de référence `opponent`, et elle compare ces deux stratégies durant `length` tours d'un meeting. Elle renvoie un booléen : équivalent (avec doute) ou pas."
   ]
  },
  {
   "cell_type": "code",
   "execution_count": null,
   "metadata": {},
   "outputs": [],
   "source": [
    "def testEquivUnit(strategies, opponent, length):\n",
    "    sA,sB = strategies\n",
    "    rounds1 = []\n",
    "    rounds2  = []\n",
    "    m1 = Meeting(g, sA, opponent, length)\n",
    "    m1.run()\n",
    "    m2 = Meeting(g, sB, opponent, length)\n",
    "    m2.run()\n",
    "    if m1.s1_score == m2.s1_score :\n",
    "        if m1.s1_rounds == m2.s1_rounds :\n",
    "            return True\n",
    "    return False\n",
    "\n",
    "\n",
    "# example of use\n",
    "print(testEquivUnit((Tft(), Spiteful())  , Periodic(\"CCDCD\"), 100))     # False\n",
    "print(testEquivUnit((Tft(), Mem(0,1,\"cCD\")),  Periodic(\"CCDCD\"), 100))  # true"
   ]
  },
  {
   "cell_type": "markdown",
   "metadata": {},
   "source": [
    "Le choix de la stratégie de référence est capital. Si elle est trop \"faible\", elle ne permet pas aux deux stratégies comparées de se \"révéler\" et indique alors qu'elles sont équivalentes alors qu'elles ne le sont pas, comme ci-dessous : `Tft` et `Spiteful` sont clairement différentes, et pourtant, face  `All_C` elles ont le même comportement.\n"
   ]
  },
  {
   "cell_type": "code",
   "execution_count": null,
   "metadata": {},
   "outputs": [],
   "source": [
    "testEquivUnit((Tft(), Spiteful()), Periodic('C'), 100)   \n",
    "# says True, but it's False"
   ]
  },
  {
   "cell_type": "markdown",
   "metadata": {},
   "source": [
    "Un test plus robuste pourrait consister à faire jouer ces deux stratégies contre `Periodic('CCD')`. Cette dernière permet à `Tft` et `Spiteful` de révéler leur véritable comportement. On a cette fois ci la preuve que ces deux stratégies ne sont pas équivalentes."
   ]
  },
  {
   "cell_type": "code",
   "execution_count": null,
   "metadata": {},
   "outputs": [],
   "source": [
    "testEquivUnit((Tft(), Spiteful()), Periodic('CD'), 100)"
   ]
  },
  {
   "cell_type": "markdown",
   "metadata": {},
   "source": [
    "### Exercice 1\n",
    "\n",
    "Deux stratégies peuvent bien évidemment obtenir le même score face à un adversaire commun, tout en ayant joué des coups différents. Pouvez vous identifier un tel cas ? On pourra utiliser le package `itertools` et sa méthode `permutations` qui permet facilement de prendre 3 stratégies parmi `n` : deux pour les stratégies à identifier et une pour l'adversaire commun"
   ]
  },
  {
   "cell_type": "code",
   "execution_count": null,
   "metadata": {},
   "outputs": [],
   "source": [
    "def test2(strategies, opponent, length):\n",
    "    sA,sB = strategies\n",
    "    rounds1 = []\n",
    "    rounds2  = []\n",
    "    m1 = Meeting(g, sA, opponent, length)\n",
    "    m1.run()\n",
    "    m2 = Meeting(g, sB, opponent, length)\n",
    "    m2.run()\n",
    "    if m1.s1_score == m2.s1_score :\n",
    "        if m1.s1_rounds != m2.s1_rounds :  # THE TEST HAS CHANGED COMPARED TO testEquivUnit\n",
    "            return True\n",
    "    return False\n",
    "\n",
    "\n",
    "# example of use\n",
    "bag = getMem(1,1)\n",
    "bags = itertools.permutations(bag, 3)\n",
    "for b in bags : \n",
    "    if test2((b[0], b[1]), b[2], 10):\n",
    "        print(b[0].name + \" and \"+b[1].name+\" produce the same score but don't play the same rounds against : \"+b[2].name)            \n",
    "        break\n",
    "\n",
    "        \n",
    "        \n",
    "#sA = Mem(1,1,\"CCCCC\")\n",
    "#sB = Mem(1,1,\"CCDDC\")\n",
    "#opponent = Mem(1,1,\"DCDCC\")\n",
    "#m = Meeting(g,sA,opponent,10)\n",
    "#m.run()\n",
    "#m.prettyPrint()\n",
    "#m = Meeting(g,sB,opponent,10)\n",
    "#m.run()\n",
    "#m.prettyPrint()"
   ]
  },
  {
   "cell_type": "markdown",
   "metadata": {},
   "source": [
    "Afin d'améliorer cette comparaison de deux stratégies, il est préférable de les comparer non pas à une seule stratégie de référence, mais à un ensemble de stratégies de référence. On compare nos deux stratégies contre chaque élément de cet ensemble, ce qui constitue un test surement plus robuste. Bien évidemment dès que l'une de celles-ci indique une différence entre deux 2 stratégies, le test peut s'arrêter.\n",
    "La fonction `testEquivMultiple` fonctionne comme précédemment, mais cette fois en cherchant à trouver une différence de comportement grâce à une liste d'opposants. Comme précédemment elle renvoie un booléen : équivalent (avec doute) ou pas."
   ]
  },
  {
   "cell_type": "code",
   "execution_count": null,
   "metadata": {},
   "outputs": [],
   "source": [
    "def testEquivMultiple(strategies, opponents, length):\n",
    "    for opponent in opponents : \n",
    "        equiv = testEquivUnit(strategies, opponent, length)\n",
    "        if equiv == False :\n",
    "            return False\n",
    "    return True\n",
    "\n",
    "# example of use\n",
    "# Same test than previously, but this time, it says False\n",
    "testEquivMultiple((Tft(), Spiteful()),[Periodic('C'), Periodic('CDCCDDC'), Periodic('DDCDCDD')], 10)"
   ]
  },
  {
   "cell_type": "markdown",
   "metadata": {},
   "source": [
    "Pour simplifier un ensemble de stratégies, il suffit maintenant d'effectuer le test précédent sur tous les couples possibles. Les stratégies identifiées comme potentiellement équivalentes sont alors regroupées.\n",
    "la fonction `classesEquiv(l, opponents, length)` effectue ce test sur l'ensemble `l`. Elle renvoie dans un dictionnaire les classes d'équivalence identifiées.\n",
    "Par exemple si on a strat1 équivalente à strat2 ainsi que strat3 qui elle n'a pas d'équivalente, la fonction va alors renvoyer un dictionnaire à2 entrées : `{strat1 : [strat2] , strat3 : []}`\n",
    "\n",
    "L'ensemble des clés de ce dictionnaire constitue l'ensemble de stratégies simplifié, et chaque entrée du dictionnaire correspond à un ensemble de stratégies équivalentes. Pour des ensembles complets de stratégies `Mem(X,Y)`, pour des raisons de symétrie, le nombre de stratégies équivalentes à une stratégie fixée est toujours une puissance de 2 (0, 2, 4, 8, 16 ...)"
   ]
  },
  {
   "cell_type": "code",
   "execution_count": null,
   "metadata": {},
   "outputs": [],
   "source": [
    "def classesEquiv(l, opponents, length):\n",
    "    m = dict()\n",
    "    while len(l) > 0 :\n",
    "        m[l[0]] = []\n",
    "        ind = [0]\n",
    "        for j in range(len(l[1:])):\n",
    "            if testEquivMultiple([l[0], l[j + 1]], opponents, length):\n",
    "                m[l[0]] += [l[j + 1]]\n",
    "                ind += [j + 1]\n",
    "        ltmp = []\n",
    "        for i in range(len(l)):\n",
    "            if i not in ind :\n",
    "                ltmp += [l[i]]\n",
    "        l = ltmp\n",
    "    return m\n",
    "\n",
    "\n",
    "# This function allows you to display the names of the strategies instead of the instance number.\n",
    "def printDict(ce):\n",
    "    for key in ce.keys() :\n",
    "        if len(ce[key]) > 0:\n",
    "            print(\"\\n\" + key.name + \" : \" , end =\" \" )\n",
    "        else :\n",
    "            print(\"\\n\"+ key.name + \": []\"  , end =\" \")\n",
    "        for value in ce[key]:\n",
    "            print(value.name , end =\" \")\n",
    "    print(\" \")\n",
    "    \n",
    "\n",
    "# example of use\n",
    "# There is one Mem equivalent to Tft and one Mem equivalent to Spiteful. This lead 3 classes\n",
    "L = [Tft(), Spiteful(), Mem(0,1,\"cCD\"),  Mem(1,1,\"cCDDD\"), Periodic(\"CDC\") ]\n",
    "ce = classesEquiv(L, [Periodic('CDCCDDC'), Periodic('DDCDCDD')], 10)\n",
    "printDict(ce)\n",
    "print(\"Simplified set size : \" + str(len(ce.keys())))"
   ]
  },
  {
   "cell_type": "markdown",
   "metadata": {},
   "source": [
    "Cette méthode de simplification fonctionne avec des stratégies quelconques (type Memory ou autres). c'est sont gros avantage.\n",
    "\n",
    "On rappelle que la qualité de cette simplification dépend très fortement de la qualité de la liste de référence. On le constate aisément en tentant de simplifier `mem(1,2)` face à une liste de plus en plus grande de stratégies de référence.\n"
   ]
  },
  {
   "cell_type": "code",
   "execution_count": null,
   "metadata": {},
   "outputs": [],
   "source": [
    "# Mem(1,2) contains 1024 strategies\n",
    "\n",
    "# Without any opponent, they are all considered equivalent.\n",
    "ce = classesEquiv(getMem(1,2), [], 10)\n",
    "print(len(ce.keys()))\n",
    "\n",
    "# Comparing with simply ALL_C , only 9 different strategies are available\n",
    "ce = classesEquiv(getMem(1,2), [Periodic('C')], 10)\n",
    "print(len(ce.keys()))\n",
    "\n",
    "# We're gradually strengthening the test\n",
    "ce = classesEquiv(getMem(1,2), [Periodic('C'), Periodic('CDCCDDC'), Periodic('DDCDCDD')], 10)\n",
    "print(len(ce.keys()))\n",
    "\n",
    "ce = classesEquiv(getMem(1,2), [Periodic('C'), Periodic('CDCCDDC'), Periodic('DDCDCDD'),Gradual()], 10)\n",
    "print(len(ce.keys()))\n",
    "\n",
    "# So? How large is this simplified set really?\n"
   ]
  },
  {
   "cell_type": "markdown",
   "metadata": {},
   "source": [
    "On peut encore renforcer le test en commençant par faire jouer toutes les stratégies de l'ensemble à tester entre elles. Bien évidemment si des stratégies sont identiques, elles doivent avoir le même score dans ce tournoi. On effectue d'abord un tournoi de toutes les stratégies entre-elles, puis on teste\n",
    "les équivalences sur les ensembles de stratégies qui obtiennent un score identique. Inutile de tester les autres. Rajouter cette équivalence des scores renforce encore un peu plus notre test.\n",
    "Bien évidemment ceci se fait au détriment du temps de calcul.\n",
    "\n",
    "La fonction `simplifyWithTournament` effectue ce travail. Elle fonctionne comme précédemment mais démarre par un tournoi afin d'identifier les paquets de stratégies ayant le même score. On concatène ensuite chacun des dictionnaires"
   ]
  },
  {
   "cell_type": "code",
   "execution_count": null,
   "metadata": {
    "scrolled": true
   },
   "outputs": [],
   "source": [
    "def simplifyWithTournament(l, opponents, length):\n",
    "    scores = dict()\n",
    "    t = Tournament(g, opponents + l, length)\n",
    "    t.run()\n",
    "    res = t.matrix['Total']\n",
    "    for strat in l : \n",
    "        score = res[strat.name]\n",
    "        if score not in scores :\n",
    "            scores[score] = [strat]\n",
    "        else : \n",
    "            scores[score] += [strat]\n",
    "    \n",
    "    d = dict()\n",
    "    for item in scores.values():\n",
    "        # if more than one strategy have the same score, test classesEquiv\n",
    "        if len(item) > 1 :\n",
    "            res = classesEquiv(item, opponents, length)\n",
    "            for it in res.keys():\n",
    "                d[it] = res[it]\n",
    "        else : \n",
    "            d[item[0]] = []\n",
    "    return d\n",
    "\n",
    "        \n",
    "    \n",
    "# example of use        \n",
    "#strats = simplifyWithTournament(getMem(1,2) , [Periodic('CDCCDDC'), Periodic('DDCDCDD')], 10)\n",
    "#print(\"Simplified set size : \" + str(len(strats)))\n",
    "\n",
    "# RECORD BROKEN! 820... but this test remains undecidable, it is nevertheless subject to a doubt...       \n",
    "# printDict(strats)  "
   ]
  },
  {
   "cell_type": "markdown",
   "metadata": {},
   "source": [
    "### Tableau de synthèse\n",
    "\n",
    "Etant donnée une base de comparaison, il est facile d'afficher un tableau contenant pour chacune des classes de Memory classiques, la synthèse des tailles obtenues après simplication via `ClassesEquiv` et via `SimplifyWithTournament` afin de voir la différence."
   ]
  },
  {
   "cell_type": "code",
   "execution_count": null,
   "metadata": {
    "scrolled": true
   },
   "outputs": [],
   "source": [
    "base  = [Periodic('CDCCDDC'), Periodic('DDCDCDD'),Gradual()]\n",
    "\n",
    "Mem01 = getMem(0,1)\n",
    "Mem10 = getMem(1,0)\n",
    "Mem11 = getMem(1,1)\n",
    "Mem12 = getMem(1,2)\n",
    "Mem21 = getMem(2,1)\n",
    "\n",
    "ce01 = classesEquiv(Mem01, base, 10)\n",
    "ce10 = classesEquiv(Mem10, base, 10)\n",
    "ce11 = classesEquiv(Mem11, base, 10)\n",
    "ce12 = classesEquiv(Mem12, base, 10)\n",
    "ce21 = classesEquiv(Mem21, base, 10)\n",
    "\n",
    "simp01 = simplifyWithTournament(Mem01, base, 10)\n",
    "simp10 = simplifyWithTournament(Mem10, base, 10)\n",
    "simp11 = simplifyWithTournament(Mem11, base, 10)\n",
    "simp12 = simplifyWithTournament(Mem12, base, 10)\n",
    "simp21 = simplifyWithTournament(Mem21, base, 10)\n",
    "\n",
    "# idem avec simplify\n",
    "\n",
    "tab = pd.DataFrame(\n",
    "        np.nan, [\"Mem 0 1\",\"Mem 1 0\",\"Mem 1 1\", \"Mem 1 2\", \"Mem 2 1\"], [\"All strategies\", \"After classesEquiv\",\"After simplifyWithTournament\"]\n",
    "    )\n",
    "tab.at[\"Mem 0 1\", \"All strategies\" ] = len(Mem01)\n",
    "tab.at[\"Mem 1 0\", \"All strategies\" ] = len(Mem10)\n",
    "tab.at[\"Mem 1 1\", \"All strategies\" ] = len(Mem11)\n",
    "tab.at[\"Mem 1 2\", \"All strategies\" ] = len(Mem12)\n",
    "tab.at[\"Mem 2 1\", \"All strategies\" ] = len(Mem21)\n",
    "tab.at[\"Mem 0 1\", \"After classesEquiv\" ] = len(ce01.keys())\n",
    "tab.at[\"Mem 1 0\", \"After classesEquiv\" ] = len(ce10.keys())\n",
    "tab.at[\"Mem 1 1\", \"After classesEquiv\" ] = len(ce11.keys())\n",
    "tab.at[\"Mem 1 2\", \"After classesEquiv\" ] = len(ce12.keys())\n",
    "tab.at[\"Mem 2 1\", \"After classesEquiv\" ] = len(ce21.keys())\n",
    "tab.at[\"Mem 0 1\", \"After simplifyWithTournament\" ] = len(simp01.keys())\n",
    "tab.at[\"Mem 1 0\", \"After simplifyWithTournament\" ] = len(simp10.keys())\n",
    "tab.at[\"Mem 1 1\", \"After simplifyWithTournament\" ] = len(simp11.keys())\n",
    "tab.at[\"Mem 1 2\", \"After simplifyWithTournament\" ] = len(simp12.keys())\n",
    "tab.at[\"Mem 2 1\", \"After simplifyWithTournament\" ] = len(simp21.keys())\n",
    "tab"
   ]
  },
  {
   "cell_type": "markdown",
   "metadata": {},
   "source": [
    "### Améliorer l'affichage des stratégies\n",
    "\n",
    "Les classes d'équivalence permettent de mettre en évidence des ensembles de stratégies qui jouent de manière identique. Dans le cas des `Mem(X,Y)`, par construction, ces stratégies identiques ont une partie de leur génotype en commun.\n",
    "Il est alors interessant d'afficher les ensembles de stratégies équivalentes par une seule et même représentation en remplaçant les coups qui ne sont pas impactant par des * . On passe à cette méthode un ensemble de stratégies identifiées comme équivalentes, la méthode fusionne ces noms pour fournir une notation avec * . Attention : cette méthode ne fonctionne que pour des `Mem(X,Y)`, ne calcule pas et ne vérifie pas l'équivalence, elle suppose que les stratégies fournies sont équivalentes."
   ]
  },
  {
   "cell_type": "code",
   "execution_count": null,
   "metadata": {},
   "outputs": [],
   "source": [
    "def computeStar(strategies):\n",
    "    l = math.log2(len(strategies))\n",
    "    assert l == int(l)\n",
    "    ind_stars = []\n",
    "    len_genome = len(strategies[0].genome)\n",
    "    amorce = max(strategies[0].x, strategies[0].y)\n",
    "    for i in range(amorce, len_genome):\n",
    "        letter = strategies[0].genome[i]\n",
    "        for j in range(1, len(strategies)):\n",
    "            if letter != strategies[j].genome[i]:\n",
    "                ind_stars += [i]\n",
    "                break\n",
    "    #assert len(ind_stars) == l\n",
    "    new_genome = strategies[0].genome[0 : amorce ]\n",
    "    for i in range(amorce, len_genome):\n",
    "        if i not in ind_stars:\n",
    "            new_genome += strategies[0].genome[i]\n",
    "        else :\n",
    "            new_genome += \"*\"\n",
    "    #print(new_genome)\n",
    "    return new_genome\n",
    "\n",
    "\n",
    "# example of use\n",
    "print(computeStar([Mem(1,1,\"cCDCD\"),Mem(1,1,\"cCDCC\")]))\n",
    "print(computeStar([Mem(1,2,\"CDCCDDDCDC\"),Mem(1,2,\"CDCDDDDCDC\"),Mem(1,2,\"CDDCDDDCDC\"),Mem(1,2,\"CDDDDDDCDC\")]))\n",
    "print(computeStar([Mem(1,2,\"DDDDCCCDCD\"),Mem(1,2,\"DDDDCDCDCD\"),Mem(1,2,\"DDDDDCCDCD\"),Mem(1,2,\"DDDDDDCDCD\")]))\n",
    "\n",
    "print(computeStar([Mem(1,2,\"ccCDCDCCDD\"),Mem(1,2,\"ccDDDDCDDC\")])) "
   ]
  },
  {
   "cell_type": "markdown",
   "metadata": {},
   "source": [
    "## Evolution d'une classe complète, évolution de cette classe une fois simplifiée\n",
    "\n",
    "Nous avons maintenant tous les outils permettant, non seulement de simplifier une classe, de rejouer cette classe simplifiée, et de comparer les résultats.\n",
    "Prenons l'exemple des `Mem(1,1)`. Cette classe contient 32 stratégies. Une fois simplifiée il en reste 26. Grâce à `computeStar`on peut maintenant mettre le nom générique dans la légende. On constate que les deux compétitions écologiques donnent les mêmes 4 premiers. On note que dans la classe simplifiée les All_C survivent, alors qu'elles disparaissent dans la classe complète."
   ]
  },
  {
   "cell_type": "code",
   "execution_count": null,
   "metadata": {},
   "outputs": [],
   "source": [
    "# Calcul de la classe simplifiée\n",
    "mem11 = getMem(1,1)\n",
    "simpl = simplifyWithTournament(mem11, [Periodic('CDCCDDC'), Periodic('DDCDCDD'), Gradual()], 10)\n",
    "print(len(simpl))\n",
    "\n",
    "# Remplacement des noms par des noms génériques\n",
    "bag = []\n",
    "for key in simpl.keys():\n",
    "    if len(simpl[key]) > 0:\n",
    "        name = computeStar([key]+simpl[key])\n",
    "        bag += [key.clone(name)]\n",
    "    else :\n",
    "        bag += [key]\n",
    "\n",
    "# Evolution de la classe initiale\n",
    "e1 = Ecological(Tournament(g, mem11))\n",
    "e1.run()\n",
    "\n",
    "evol=e1.historic\n",
    "nbSurvivors = len(evol.iloc[-1][evol.iloc[-1]>0])\n",
    "e1.drawPlot(None,nbSurvivors)\n",
    "\n",
    "# Evolution de la classe simplifiée avec ses noms génériques\n",
    "e2 = Ecological(Tournament(g, bag))\n",
    "e2.run()\n",
    "\n",
    "evol=e2.historic\n",
    "nbSurvivors = len(evol.iloc[-1][evol.iloc[-1]>0])\n",
    "e2.drawPlot(None,10)\n"
   ]
  },
  {
   "cell_type": "markdown",
   "metadata": {},
   "source": [
    "## Une simplification progressive\n",
    "\n",
    "Dans le cas des grandes classes il est impossible de faire fonctionner le tournoi et donc la méthode de simplification par le tournoi ne peut pas fonctionner. Néanmoins, on peut ne prendre qu'une partie raisonnable de la classe à laquelle on s'interesse, la simplifier par le tournoi. On ajoute un certain nombre de stratégies à cet ensemble simplifié sans dépasser la taille maximum raisonnable que l'on s'est fixé, et on recommence. Si à un moment donné aucune simplification n'est possible, cette méthode échoue dans la simplification. Il faut éventuellement changer l'ordre dans lequel on prend les stratégies (en espérant que cet ordre favorisera les simplifications), ou alors si c'est possible, augmenter la taille maximale que l'on s'est fixé. Il est évident que cette méthode ne fonctionne que si la taille que l'on s'est fixé dépasse la taille de l'ensemble simplifié à obtenir (820 minimum pour `Mem(1,2)` par exemple)."
   ]
  },
  {
   "cell_type": "code",
   "execution_count": null,
   "metadata": {},
   "outputs": [],
   "source": [
    "def simplifyStepByStep(l, opponents, length, maxSize):\n",
    "    size = len(l)\n",
    "    strats = []\n",
    "    simplified = dict()\n",
    "    end = False\n",
    "    current = 0\n",
    "    while not end:\n",
    "        if current + maxSize > size :\n",
    "            end = True\n",
    "            strats += l[current :]\n",
    "        else : \n",
    "            strats += l[current  : current +  maxSize]\n",
    "            current = current + maxSize\n",
    "        res = simplifyWithTournament(strats, opponents, length)\n",
    "        print(\"{} strategies deleted\".format(len(strats) - len(res)))\n",
    "        for strat in res.keys() :\n",
    "            if strat not in simplified : \n",
    "                simplified[strat] = res[strat]\n",
    "            else : \n",
    "                simplified[strat] += res[strat]\n",
    "        if (len(simplified) > maxSize):\n",
    "            print(\"Impossible to continue\")\n",
    "            return simplified\n",
    "        strats = list(simplified.keys())\n",
    "    \n",
    "    return simplified\n",
    "\n",
    "\n",
    "        \n",
    "printDict(simplifyStepByStep([Tft(), Spiteful(), Mem(0,1,\"cCD\"),  Mem(1,1,\"cCDDD\"), Periodic(\"CDC\"), Periodic('C') ], [Periodic('CCD'), Periodic('DDC')] , 10, 4))"
   ]
  },
  {
   "cell_type": "markdown",
   "metadata": {},
   "source": [
    "On peut bien évidemment vérifier pour des classes relativement simples que la simplification globale est équivalente à la simplification pas à pas."
   ]
  },
  {
   "cell_type": "code",
   "execution_count": null,
   "metadata": {
    "scrolled": true
   },
   "outputs": [],
   "source": [
    "res_sbs = simplifyStepByStep(getMem(1,2)[0:300], [Periodic('CCD'), Periodic('DDC')] , 10, 250) # At least 232\n",
    "res = simplifyWithTournament(getMem(1,2)[0:300], [Periodic('CCD'), Periodic('DDC')], 10)\n",
    "print(len(res_sbs) == len(res))\n",
    "print(len(res_sbs))\n",
    "print(len(res))\n"
   ]
  },
  {
   "cell_type": "code",
   "execution_count": null,
   "metadata": {},
   "outputs": [],
   "source": [
    "res_sbs = simplifyStepByStep(getMem(1,1), [Periodic('CCD'), Periodic('DDC')] , 10, 30) # at least 26\n",
    "res = simplifyWithTournament(getMem(1,1), [Periodic('CCD'), Periodic('DDC')], 10)\n",
    "print(len(res_sbs) == len(res))"
   ]
  },
  {
   "cell_type": "markdown",
   "metadata": {},
   "source": [
    "Bien évidemment, cette simlplification progressive dépend de l'ordre dans lequel les stratégies sont amenées. Un ordre peut donc favoriser plus la simplification qu'un autre. Il est donc interessant d'en tester plusieurs"
   ]
  },
  {
   "cell_type": "code",
   "execution_count": null,
   "metadata": {},
   "outputs": [],
   "source": [
    "def sort1_Mem(strategies):\n",
    "    strategies.sort(key=lambda x: x.genome)\n",
    "    return strategies\n",
    "\n",
    "def sort2_Mem(strategies):\n",
    "    strategies.sort(key=lambda x: x.genome, reverse=True)\n",
    "    return strategies\n",
    "\n",
    "def sort3_Mem(strategies):\n",
    "    strategies.sort(key=lambda x: ''.join(reversed(x.genome)))\n",
    "    return strategies\n",
    "\n",
    "def sort4_Mem(strategies):\n",
    "    strategies.sort(key=lambda x: ''.join(reversed(x.genome)), reverse=True)\n",
    "    return strategies\n",
    "\n",
    "\n",
    "sortMem11 = sort4_Mem(getMem(1,1))"
   ]
  },
  {
   "cell_type": "markdown",
   "metadata": {},
   "source": [
    "## Une méthode de simplification exacte pour Mem(X,Y)\n",
    "\n",
    "Dans le cas d'une stratégie de type `mem(X,Y)`, pour savoir si cette stratégie peut être notée avec des étoiles, il faut savoir si elle utilise tous les éléments de son code. Si ce n'est pas le cas on repère ces éléments et on les remplace par des étoiles. Une étoile indique que ce gène peut être remplacé par n'importe quelle valeur puisqu'il ne sert pas.\n",
    "La fonction `getGenericName` prend pour argument un génotype de stratégie et renvoie ce génotype éventuellement réécrit avec des * .\n",
    "L'idée générale de l'algorithme utilisé consiste à construire peu à peu la liste de tous les passés possibles (en partant des passés possibles que l'amorce permet), et donc, de mettre des étoiles pour les passés qui n'apparaissent pas dans cette liste.C'est le cas par exemple de `Mem(1,2,\"ccCCCCCCCC\")` qui peut donc être réécrit en `(1,2,\"ccCCCC****\")`"
   ]
  },
  {
   "cell_type": "code",
   "execution_count": null,
   "metadata": {},
   "outputs": [],
   "source": [
    "def setGenericName(strat):\n",
    "    X = strat.x\n",
    "    Y = strat.y\n",
    "    genotype = strat.genome\n",
    "    me = list(genotype[ max(X,Y) - X :  max(X,Y) ].upper())\n",
    "    opponent=\"\"\n",
    "    L = [x for x in itertools.product(['C', 'D'],repeat=Y)]\n",
    "    L = [list(elem) for elem in L]\n",
    "    \n",
    "    L1 = [x for x in itertools.product(['C', 'D'],repeat=X+Y)]\n",
    "    L1 = [list(elem) for elem in L1]\n",
    "  \n",
    "    possiblePast = []\n",
    "    tmp = []\n",
    "    for elem in L :\n",
    "        possiblePast += [me+elem] \n",
    "        tmp += [me+elem] \n",
    "    while(len(tmp)> 0):\n",
    "        if Y > 0 : \n",
    "            hisPast = tmp[0][X + 1 : X + Y ]\n",
    "        else : \n",
    "            hisPast = []\n",
    "        myPast = []\n",
    "        if X > 1: \n",
    "            myPast += tmp[0][1 : X]\n",
    "        if X > 0 : \n",
    "            myPast += list(genotype[L1.index(tmp[0])+max(X,Y)].upper())\n",
    "        if Y > 0 :\n",
    "            past1 = myPast + hisPast + ['C']\n",
    "            past2 = myPast + hisPast + ['D']\n",
    "            #print(myPast)\n",
    "            #print(hisPast)\n",
    "        if Y == 0:\n",
    "            past1 = myPast\n",
    "            past2 = myPast \n",
    "            \n",
    "        if past1 not in possiblePast :\n",
    "            possiblePast += [past1]\n",
    "            tmp += [past1]\n",
    "        if past2 not in possiblePast :\n",
    "            possiblePast += [past2]\n",
    "            tmp += [past2]\n",
    "        tmp.remove(tmp[0])\n",
    "   \n",
    "    # Recreate the genome\n",
    "   \n",
    "    ind=[]\n",
    "    for i in range(len(L1)):\n",
    "        if L1[i] not in possiblePast:\n",
    "            ind += [i]\n",
    "    \n",
    "    genotypeStar = genotype[0 : max(X,Y)]\n",
    "    for i in range(len(L1)):\n",
    "        if i not in ind : \n",
    "            genotypeStar += genotype[max(X,Y) + i]\n",
    "        else :\n",
    "            genotypeStar += \"*\"\n",
    "    return strat.clone(name = genotypeStar)\n",
    "\n",
    "\n",
    "\n",
    "# example of use\n",
    "print(setGenericName(Mem(1,2,\"ccCCCCCCCC\")).name)\n",
    "# ccCCCC****\n",
    "\n",
    "print(setGenericName(Mem(1,2,\"cdCCCCDDDD\")).name)\n",
    "# ccCCDDCCDD\n",
    "\n",
    "print(setGenericName(Mem(1,2,\"ccCCCDCCDC\")).name)\n",
    "# ccCCCDCCDC\n",
    "\n",
    "print(setGenericName(Mem(0,1,\"cDD\")).name)\n",
    "\n",
    "print(setGenericName(Mem(1,0,\"cCC\")).name)"
   ]
  },
  {
   "cell_type": "markdown",
   "metadata": {},
   "source": [
    "Ce résultat est important : il montre que, bien que la comparaison de 2 programmes soit indécidable dans le cas général, elle est néamoins décidable dans le cas des `Mem(X,Y)`.\n",
    "\n",
    "Pour tester si deux stratégies de type `Mem(X,Y)` sont identiques il suffit maintenant de leur appliquer `getGenericName` et vérifier que les noms obtenus sont identiques :\n"
   ]
  },
  {
   "cell_type": "code",
   "execution_count": null,
   "metadata": {},
   "outputs": [],
   "source": [
    "s1 = Mem(2,2,'ccCCDDDCCDCDDDDDDD')\n",
    "s2 = Mem(2,2,'ccCCDDDDDCDDDDDDCD') \n",
    "\n",
    "if (setGenericName(s1).name==setGenericName(s2).name) :\n",
    "    print (\"These two strategies are identical\")\n",
    "else: print (\"These two strategies are different\")"
   ]
  },
  {
   "cell_type": "markdown",
   "metadata": {},
   "source": [
    "### Verification générale\n",
    "Afin de vérifier le bon fonctionnement de nos différents algorithmes, nous avons tous les outils pour comparer le résultat obtenu avec l'approche exacte (`setGenericName`) et avec l'approche approximative (`simplifyWithTournament` ou `classesEquiv`, suivi de `computeStar`).\n",
    "\n",
    "Pour cela on prend une classe (`Mem(1,2)` par exemple), on calcule ensuite ses classes d'équivalence. Pour chaque classe non vide, on vérifie que `setGenericName` sur la clé correspond bien à l'ensemble des stratégies de cette classe d'équivalence (en nombre en comptant les étoiles, ou en qualité en appliquant `computeStar` à l'ensemble de la classe)."
   ]
  },
  {
   "cell_type": "code",
   "execution_count": null,
   "metadata": {},
   "outputs": [],
   "source": [
    "# simpl = simplifyWithTournament(getMem(1,2), [Periodic(\"CDC\")], 20)\n",
    "simpl = simplifyWithTournament(getMem(1,1), [Periodic('CDCCDDC'), Periodic('DDCDCDD'),Gradual()], 20)\n",
    "for key in simpl:\n",
    "    if len(simpl[key]) > 0 : \n",
    "        #print(key.name)\n",
    "        #for strat in simpl[key]:\n",
    "            #print(strat.name)\n",
    "        name1 = computeStar([key] + simpl[key])\n",
    "        nbStars = name1.count(\"*\")\n",
    "        # print(\"Check numbers of stars\")\n",
    "        if nbStars**2 != len(simpl[key])+1 :\n",
    "            print(\"Stars problem with \"+ name1)\n",
    "            exit()\n",
    "        # print(\"Check class\")\n",
    "        name2 = setGenericName(key).name\n",
    "        for strat in simpl[key]:\n",
    "            if name2 != setGenericName(strat).name :\n",
    "                print(\"Key \"+ name2 + \" problem with its set \"+ simpl[key])\n",
    "                exit()\n",
    "        # print(\"Check equivalence\")\n",
    "        if name1 != name2 :\n",
    "            print(name1 +\" different of \" + name2)\n",
    "            exit()\n",
    "print(\"All is perfect\")\n",
    "\n",
    "# If we test with [Periodic(\"CDC\"),Periodic(\"DCD\")]  the result will be different\n"
   ]
  },
  {
   "cell_type": "markdown",
   "metadata": {},
   "source": [
    "### Exercice 2\n",
    "\n",
    "Ecrire `allC` et `allD` dans le formalisme `Mem(1,2)`. Calculez leur nom avec * . \n",
    "Expliquez pourquoi ces étoiles ne sont pas au même endroit ?"
   ]
  },
  {
   "cell_type": "code",
   "execution_count": null,
   "metadata": {},
   "outputs": [],
   "source": [
    "allC = Mem(1,2,\"ccCCCCCCCC\")\n",
    "allD = Mem(1,2,\"ddDDDDDDDD\")\n",
    "print(setGenericName(allC).name)\n",
    "print(setGenericName(allD).name)"
   ]
  },
  {
   "cell_type": "markdown",
   "metadata": {},
   "source": [
    "### Simplification d'un ensemble Memory par la méthode exacte\n",
    "\n",
    "Il reste maintenant à utiliser cette fonction pour simplifier un ensemble de stratégies de type Memory: on prend l'ensemble de tous les noms possibles, on parcourt la liste nom par nom, on remplace chaque nom par son nom générique et, s'il est déjà présent dans le futur résultat, on ne l'ajoute pas. \n",
    "\n",
    "On note qu'aucun tournoi ni aucune rencontre n'est nécessaire pour simplifier une classe avec cette méthode ! Il est du coup possible de s'attaquer à des ensembles nettement plus grands."
   ]
  },
  {
   "cell_type": "code",
   "execution_count": null,
   "metadata": {},
   "outputs": [],
   "source": [
    "def simplifyExact(bag):\n",
    "    res = set()\n",
    "    simplified = []\n",
    "    for strat in bag : \n",
    "        gName = setGenericName(strat).name\n",
    "        if gName not in res:\n",
    "            res.add(gName)\n",
    "            simplified += [strat]\n",
    "    return simplified"
   ]
  },
  {
   "cell_type": "code",
   "execution_count": null,
   "metadata": {},
   "outputs": [],
   "source": [
    "simplified = simplifyExact(getMem(1,2))\n",
    "print(\"Lenght of bag simplified : {}\".format(len(simplified)))"
   ]
  },
  {
   "cell_type": "markdown",
   "metadata": {},
   "source": [
    "### Synthèse des simplications obtennues"
   ]
  },
  {
   "cell_type": "code",
   "execution_count": null,
   "metadata": {},
   "outputs": [],
   "source": [
    "tab = pd.DataFrame(\n",
    "        np.nan, [\"Mem(0,1)\",\"Mem(1,0)\",\"Mem(1,1)\", \"Mem(0,2)\", \"Mem(2,0)\",\"Mem(2,1)\",\"Mem(1,2)\",\"Mem(2,2)\",\"Mem(3,0)\"], [\"size\",\"simplif\"]\n",
    "    )\n",
    "l = getMem(0,1)\n",
    "tab.at[\"Mem(0,1)\",\"size\"] = len(l)\n",
    "tab.at[\"Mem(0,1)\",\"simplif\"] = len(simplifyExact(l))\n",
    "l = getMem(1,0)\n",
    "tab.at[\"Mem(1,0)\",\"size\"] = len(l)\n",
    "tab.at[\"Mem(1,0)\",\"simplif\"] = len(simplifyExact(l))\n",
    "l = getMem(1,1)\n",
    "tab.at[\"Mem(1,1)\",\"size\"] = len(l)\n",
    "tab.at[\"Mem(1,1)\",\"simplif\"] = len(simplifyExact(l))\n",
    "l = getMem(0,2)\n",
    "tab.at[\"Mem(0,2)\",\"size\"] = len(l)\n",
    "tab.at[\"Mem(0,2)\",\"simplif\"] = len(simplifyExact(l))\n",
    "l = getMem(2,0)\n",
    "tab.at[\"Mem(2,0)\",\"size\"] = len(l)\n",
    "tab.at[\"Mem(2,0)\",\"simplif\"] = len(simplifyExact(l))\n",
    "l = getMem(2,1)\n",
    "tab.at[\"Mem(2,1)\",\"size\"] = len(l)\n",
    "tab.at[\"Mem(2,1)\",\"simplif\"] = len(simplifyExact(l))\n",
    "l = getMem(1,2)\n",
    "tab.at[\"Mem(1,2)\",\"size\"] = len(l)\n",
    "tab.at[\"Mem(1,2)\",\"simplif\"] = len(simplifyExact(l))\n",
    "l = getMem(2,2)\n",
    "tab.at[\"Mem(2,2)\",\"size\"] = len(l)\n",
    "tab.at[\"Mem(2,2)\",\"simplif\"] = len(simplifyExact(l))\n",
    "l = getMem(3,0)\n",
    "tab.at[\"Mem(3,0)\",\"size\"] = len(l)\n",
    "tab.at[\"Mem(3,0)\",\"simplif\"] = len(simplifyExact(l))\n",
    "l = getMem(0,3)\n",
    "tab.at[\"Mem(0,3)\",\"size\"] = len(l)\n",
    "tab.at[\"Mem(0,3)\",\"simplif\"] = len(simplifyExact(l))\n",
    "l = getMem(3,1)\n",
    "tab.at[\"Mem(3,1)\",\"size\"] = len(l)\n",
    "tab.at[\"Mem(3,1)\",\"simplif\"] = len(simplifyExact(l))\n",
    "l = getMem(1,3)\n",
    "tab.at[\"Mem(1,3)\",\"size\"] = len(l)\n",
    "tab.at[\"Mem(1,3)\",\"simplif\"] = len(simplifyExact(l))\n",
    "\n",
    "\n",
    "tab"
   ]
  },
  {
   "cell_type": "markdown",
   "metadata": {},
   "source": [
    "## Nouvelle méthode pour comparer une classe complète et sa classe simplifiée\n",
    "\n",
    "La comparaison entre une classe et sa classe simplifiée avait déjà été montrée précédemment, en utilisant les méthodes approximatives. Nous refaisons exactement la même chose, mais cette fois en utilisant la méthode exacte. Rappelons que cette méthode exacte ne fonctionne que pour les Memory.\n"
   ]
  },
  {
   "cell_type": "code",
   "execution_count": null,
   "metadata": {},
   "outputs": [],
   "source": [
    "# Calcul de la classe simplifiée\n",
    "mem11 = getMem(1,1)\n",
    "simpl = simplifyExact(mem11)\n",
    "print(len(simpl))\n",
    "\n",
    "# Remplacement des noms par des noms génériques\n",
    "bag = []\n",
    "for strat in simpl:\n",
    "    bag += [setGenericName(strat)]\n",
    "\n",
    "\n",
    "# Evolution de la classe initiale\n",
    "e1 = Ecological(Tournament(g, mem11))\n",
    "e1.run()\n",
    "\n",
    "evol=e1.historic\n",
    "nbSurvivors = len(evol.iloc[-1][evol.iloc[-1]>0])\n",
    "e1.drawPlot(None,nbSurvivors)\n",
    "\n",
    "# Evolution de la classe simplifiée avec ses noms génériques\n",
    "e2 = Ecological(Tournament(g, bag))\n",
    "e2.run()\n",
    "\n",
    "evol=e2.historic\n",
    "nbSurvivors = len(evol.iloc[-1][evol.iloc[-1]>0])\n",
    "e2.drawPlot(None,10)\n"
   ]
  },
  {
   "cell_type": "markdown",
   "metadata": {},
   "source": [
    "# Bibliographie\n",
    "\n",
    "- A. M. Turing. *On Computable Numbers, with an Application to the Entscheidungsproblem*. Proceedings of the London Mathematical Society, vol. s2-42, no 1, 1er janvier 1937, p. 230–265\n",
    "- H. G. Rice. *Classes of Recursively Enumerable Sets and Their Decision Problems*. Transactions of the American Mathematical Society, volume 74, numéro 2, mars 1953 (see [Wikipedia](https://fr.wikipedia.org/wiki/Théorème_de_Rice))\n",
    "- Bruno Beaufils, Jean-Paul Delahaye, Philippe Mathieu. *Complete classes of strategies for the Classical Iterated Prisoner's Dilemma*. Evolutionary Programming VII, 1998, Volume 1447. ISBN : 978-3-540-64891-8\n",
    "- Stefan Ciobaca, Dorel Lucanu, Vlad Rusu, Grigore Rosu. *A Language-Independent Proof System for Full Program Equivalence*. Formal Aspects of Computing, Springer Verlag, 2016, 28 (3), pp.469–497.\n"
   ]
  }
 ],
 "metadata": {
  "kernelspec": {
   "display_name": "Python 3.9.12 ('base')",
   "language": "python",
   "name": "python3"
  },
  "language_info": {
   "codemirror_mode": {
    "name": "ipython",
    "version": 3
   },
   "file_extension": ".py",
   "mimetype": "text/x-python",
   "name": "python",
   "nbconvert_exporter": "python",
   "pygments_lexer": "ipython3",
   "version": "3.9.12"
  },
  "vscode": {
   "interpreter": {
    "hash": "40d3a090f54c6569ab1632332b64b2c03c39dcf918b08424e98f38b5ae0af88f"
   }
  }
 },
 "nbformat": 4,
 "nbformat_minor": 2
}
