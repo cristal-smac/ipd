{
 "cells": [
  {
   "cell_type": "markdown",
   "metadata": {
    "collapsed": true
   },
   "source": [
    "# Game theory\n",
    "\n",
    "Author : Philippe Mathieu, [CRISTAL Lab](http://www.cristal.univ-lille.fr), [SMAC team](https://www.cristal.univ-lille.fr/?rubrique27&eid=17), [Lille University](http://www.univ-lille.fr), email : philippe.mathieu@univ-lille.fr\n",
    "\n",
    "Contributors : Louisa Fodil (CRISTAL/SMAC), Céline Petitpré (CRISTAL/SMAC)\n",
    "\n",
    "Creation : 2018-01-18\n",
    "\n",
    "\n",
    "## Introduction\n",
    "\n",
    "Game theory is the discipline that formally studies the interactions that can occur between several individuals in a strategic situation. The term \"game\" is not a priori a playful term, Von Neumann having developed it for the modelling of conflict interactions. In particular, it has been used to model and simplify many problems ranging from trade relations to armed conflicts. Game theory decomposes games according to the number of players (usually 2), then mainly into two main families: simultaneous games, in which players play simultaneously and therefore do not know when playing what the opponent is playing (for example, Rock Paper Scissors) and non-concurrent games where everyone plays in turn (chess for example). \n",
    "\n",
    "We are here in the context of the **two-player, simultaneous** games. This kind of game is usually represented by a payoff matrix. The moves of one of the two players are on the abscissa and those of the other on the ordinate. The intersection of each square characterizes a game situation. It contains the points that will be distributed to each of the two players. For information, game theory further decomposes these games into two other families: zero-sum games in which everything lost by one is won by the other, and non-zero-sum games in which the winner can win more points than what is lost by the loser.\n",
    "\n",
    "This sheet aims to show how to represent and generate games, then how to calculate the different equilibriums of a game.\n",
    "\n",
    "## A payoff matrix\n",
    "\n",
    "First of all, it is necessary to be able to code a payoff matrix. A `Game` class will allow us to store the winnings of both players for a given situation. \n",
    "A Game object takes as parameter an array of pairs of integers corresponding to the scores of each outcome of the game, as well as a table of the names of the corresponding actions.\n",
    "Internally, the *numpy* package offers an ideal `Array` object to store and manipulate this. For a game with `n` choice options for each player, we create a `n*n` array of pairs of values `(x,y)` with `x` the win of player 1 and `y` the win of player 2.\n"
   ]
  },
  {
   "cell_type": "code",
   "execution_count": null,
   "metadata": {},
   "outputs": [],
   "source": [
    "import numpy as np\n",
    "import math\n",
    "import pandas as pd\n",
    "\n",
    "\n",
    "class Game:\n",
    "    def __init__(self, tab, actions):\n",
    "        self.actions = actions\n",
    "        m = np.array(tab, dtype=[(\"x\", object), (\"y\", object)])\n",
    "        self.size = int(math.sqrt(len(tab)))\n",
    "        self.scores = m.reshape(self.size, self.size)\n",
    "\n",
    "    def prettyPrint(self):\n",
    "        game = pd.DataFrame(np.nan, self.actions, self.actions, dtype=object)\n",
    "        for i in range(self.size):\n",
    "            for j in range(self.size):\n",
    "                game.iat[i, j] = self.scores[i][j]\n",
    "        print(game)\n",
    "\n",
    "\n",
    "print(\"All is ok\")"
   ]
  },
  {
   "cell_type": "code",
   "execution_count": null,
   "metadata": {},
   "outputs": [],
   "source": [
    "# Some famous games\n",
    "\n",
    "# battle of the sexes\n",
    "gs=[(3,2),(1,1),(0,0),(2,3)]     \n",
    "\n",
    "# chicken game\n",
    "cg=[(-100,-100),(2,-2),(-2,2),(0,0)]     \n",
    "\n",
    "# matching pennies\n",
    "mp=[(1,-1),(-1,1),(-1,1),(1,-1)] \n",
    "\n",
    "# rock-paper-scissors\n",
    "rpc=[(0,0),(-1,1),(1,-1),(1,-1),(0,0),(-1,1),(-1,1),(1,-1),(0,0)] \n",
    "\n",
    "# prisoner's dilemma\n",
    "dp =[(3,3),(0,5),(5,0),(1,1)]\n",
    "g = Game(dp,['C','D'])\n",
    "g.prettyPrint()"
   ]
  },
  {
   "cell_type": "markdown",
   "metadata": {},
   "source": [
    "# The equilibrium notion\n",
    "\n",
    "Economists very quickly took advantage of these models to study different economic problems. In order to identify the best way to play a fixed game, they based themselves on the abstract notion of player rationality. Assuming that, in the worst case scenario, the opponent is also rational, the reasoning I apply must therefore also be applied to my opponent. Very quickly, several definitions of rationality appeared, thus defining one (or possibly several) fixed point of a game, point towards which rationally, if everyone thinks in the same way, we will reach:\n",
    "1. *The Nash equilibrium*, from the name of its inventor, [John Forbes Nash](https://fr.wikipedia.org/wiki/John_Forbes_Nash). Nash equilibrium is a situation of no regret for each of the players. *\"we played simultaneously, but now that I know what the other one played, I have no regrets \"*\n",
    "2. *The Pareto optimum*, from the name of its inventor, [Vilfredo Pareto](https://fr.wikipedia.org/wiki/Vilfredo_Pareto). The Pareto Optimum is a situation where no situation is superior for both players, and therefore they have no collective interest in changing.\n",
    "3. *The dominant strategy equilibrium*. A \"rational\" player will never play one of his strategies if it is dominated by another of his strategies. We can therefore \"simplify\" a game by iteratively eliminating the dominated strategies.\n",
    "\n"
   ]
  },
  {
   "cell_type": "markdown",
   "metadata": {},
   "source": [
    "## The Nash equilibrium\n",
    "\n",
    "To compute the \"no regret\" situation corresponding to the Nash equilibrium, it is sufficient to note the answers of player 1 most adapted to the possible choices of player 2 (therefore calculate the max(x) in each column), then calculate the best answers of player 2 to the possible choices of player 1 (therefore calculate the max(y) in each line). If an issue has 2 max, then it is a Nash equilibrium. Depending on the games, there may of course be 1, several or none at all. \n",
    "The use of a `np.Array` makes things much easier since it is possible to have the max value vectors in line or in column. It is therefore sufficient to create Boolean matrices in each case and compute a `or` logical on them."
   ]
  },
  {
   "cell_type": "code",
   "execution_count": null,
   "metadata": {},
   "outputs": [],
   "source": [
    "def getNash(self):\n",
    "    max_x = np.matrix(self.scores[\"x\"].max(0)).repeat(self.size, axis=0)\n",
    "    bool_x = self.scores[\"x\"] == max_x\n",
    "    max_y = np.matrix(self.scores[\"y\"].max(1)).transpose().repeat(self.size, axis=1)\n",
    "    bool_y = self.scores[\"y\"] == max_y\n",
    "    bool_x_y = bool_x & bool_y\n",
    "    result = np.where(bool_x_y == True)\n",
    "    listOfCoordinates = list(zip(result[0], result[1]))\n",
    "    return listOfCoordinates\n",
    "\n",
    "\n",
    "print(\"All is ok\")"
   ]
  },
  {
   "cell_type": "markdown",
   "metadata": {},
   "source": [
    "#### Application to the battle of sexes\n",
    "In [the battle of sexes](https://en.wikipedia.org/wiki/Battle_of_the_sexes_(game_theory)) a couple has made an appointment for the evening, but none of them can remember whether it is to attend a football match or go to the opera. \n",
    "The husband would rather go to see football, the wife would like to go to the opera. \n",
    "However, they both prefer to go to the same place rather than be alone.\n",
    "If the man goes to the stadium and his wife is there, he gets 3.\n",
    "If he is alone at the stadium, he gets 1.\n",
    "If he goes to the opera and his wife is at the stadium, he gets 0.\n",
    "If he goes to the opera and his wife is also in the opera, he gets 2.\n",
    "(Same thing for the woman by reversing opera and stadium)\n",
    "We thus obtain the following matrix `gs` on which we can test the Nash equilibrium."
   ]
  },
  {
   "cell_type": "code",
   "execution_count": null,
   "metadata": {},
   "outputs": [],
   "source": [
    "gs = [(3, 2), (1, 1), (0, 0), (2, 3)]\n",
    "g = Game(gs, [\"Opera\", \"Stadium\"])\n",
    "\n",
    "# We recover the indexes of the Nash equilibrium(s)\n",
    "listOfCoordinates = getNash(g)\n",
    "print(\"The indexes of Nash's equilibrium : \")\n",
    "print(listOfCoordinates)\n",
    "\n",
    "# We print the moves corresponding to these equilibrium\n",
    "print(\"The corresponding rounds : \")\n",
    "for cor in listOfCoordinates:\n",
    "    print(g.actions[cor[0]], g.actions[cor[1]])\n",
    "\n",
    "# We print the corresponding scores\n",
    "print(\"The corresponding scores : \")\n",
    "for cor in listOfCoordinates:\n",
    "    print(g.scores[cor[0]][cor[1]])"
   ]
  },
  {
   "cell_type": "markdown",
   "metadata": {},
   "source": [
    "We notice here that the game has two Nash equilibria that correspond to situations where the couple is together at the same place."
   ]
  },
  {
   "cell_type": "markdown",
   "metadata": {},
   "source": [
    "## Exercise 1"
   ]
  },
  {
   "cell_type": "code",
   "execution_count": null,
   "metadata": {},
   "outputs": [],
   "source": [
    "# Find find Nash's equilibrium(s) (if any exist) for the rock-paper-scissors game \n",
    "\n",
    "rpc=[(0,0),(-1,1),(1,-1),(1,-1),(0,0),(-1,1),(-1,1),(1,-1),(0,0)]\n",
    "g = Game(rpc,['R','P','C'])\n",
    "\n",
    "# Same for the iterated prisoner's dilemma"
   ]
  },
  {
   "cell_type": "markdown",
   "metadata": {},
   "source": [
    "## The Pareto optimum\n",
    "The Pareto Optimum corresponds to issues where both players have no collective interest in changing. For each of the game issues, it is ensured that no other issue increases both Player 1's and Player 2's scores."
   ]
  },
  {
   "cell_type": "code",
   "execution_count": null,
   "metadata": {},
   "outputs": [],
   "source": [
    "def isPareto(self, t, s):\n",
    "    return (\n",
    "        True\n",
    "        if (len(s) == 0)\n",
    "        else (s[0][0] <= t[0] or s[0][1] <= t[1]) and isPareto(self, t, s[1:])\n",
    "    )\n",
    "\n",
    "\n",
    "def getPareto(self):\n",
    "    x = 0\n",
    "    y = 0\n",
    "    res = list()\n",
    "    liste = self.scores.flatten()\n",
    "    for s in liste:\n",
    "        if x == self.size:\n",
    "            x = 0\n",
    "            y = y + 1\n",
    "        if isPareto(self, s, liste):\n",
    "            res.append((x, y))\n",
    "        x = x + 1\n",
    "    return res\n",
    "\n",
    "\n",
    "print(\"All is ok\")"
   ]
  },
  {
   "cell_type": "markdown",
   "metadata": {},
   "source": [
    "#### Let's continue the battle of sexes game"
   ]
  },
  {
   "cell_type": "code",
   "execution_count": null,
   "metadata": {},
   "outputs": [],
   "source": [
    "gs=[(3,2),(1,1),(0,0),(2,3)]\n",
    "g = Game(gs,['Opera','Stadium'])\n",
    "\n",
    "# We recover the indexes of the pareto optimum(s)\n",
    "listOfCoordinates = getPareto(g)\n",
    "print(\"The indexes of Pareto's optimums : \")\n",
    "print(listOfCoordinates)\n",
    "\n",
    "# We print the moves corresponding to these optimums\n",
    "print(\"The corresponding rounds : \")\n",
    "for cor in listOfCoordinates : \n",
    "    print(g.actions[cor[0]], g.actions[cor[1]])\n",
    "\n",
    "# We print the corresponding scores\n",
    "print(\"The corresponding scores : \")\n",
    "for cor in listOfCoordinates : \n",
    "    print(g.scores[cor[0]][cor[1]])\n"
   ]
  },
  {
   "cell_type": "markdown",
   "metadata": {},
   "source": [
    "We notice that there are two Pareto optima for the battle of sexes that are the same as for Nash's equilibria."
   ]
  },
  {
   "cell_type": "markdown",
   "metadata": {},
   "source": [
    "## Exercise 2"
   ]
  },
  {
   "cell_type": "code",
   "execution_count": null,
   "metadata": {},
   "outputs": [],
   "source": [
    "# Find find Pareto's equilibrium(s) (if any exist) for the rock-paper-scissors game \n",
    "\n",
    "rpc=[(0,0),(-1,1),(1,-1),(1,-1),(0,0),(-1,1),(-1,1),(1,-1),(0,0)]\n",
    "g = Game(rpc,['R','P','C'])\n",
    "\n",
    "# Same for the iterated prisoner's dilemma"
   ]
  },
  {
   "cell_type": "markdown",
   "metadata": {},
   "source": [
    "## The dominant strategy equilibrium\n",
    "\n",
    "For a rational player, if one of his strategies is dominated by another for all the opponent's responses, then it has no interest. The game can therefore be simplified by eliminating these different strategies in turn (EISD). If there is only one issue left after this process, this issue is called the equilibrium in dominant strategy. An equilibrium in dominant strategies is always a Nash equilibrium but the opposite is not true.\n",
    "\n",
    "If we have eliminated the *weakly* dominated strategies and there is only one strategy left for each player, then it is a Nash equilibrium, but there may be others (and depending on the order of elimination we find one or another)"
   ]
  },
  {
   "cell_type": "code",
   "execution_count": null,
   "metadata": {},
   "outputs": [],
   "source": [
    "def getDominantStrategies(self, strict=\"True\"):\n",
    "    dominatedLines = []\n",
    "    dominatedColumns = []\n",
    "    findDominated = True\n",
    "    while (\n",
    "        findDominated\n",
    "        and (len(dominatedLines) != self.size - 1)\n",
    "        and (len(dominatedColumns) != self.size - 1)\n",
    "    ):\n",
    "        findDominated = False\n",
    "        # We look at dominated lines\n",
    "        for i in range(self.size - 1):\n",
    "            line1 = self.scores[\"x\"][i]\n",
    "            line2 = self.scores[\"x\"][i + 1]\n",
    "            if compare(self, line1, line2, dominatedColumns, strict):\n",
    "                if i not in dominatedLines:\n",
    "                    dominatedLines += [i]\n",
    "                    findDominated = True\n",
    "            if compare(self, line2, line1, dominatedColumns, strict):\n",
    "                if i + 1 not in dominatedLines:\n",
    "                    dominatedLines += [i + 1]\n",
    "                    findDominated = True\n",
    "        # We look at dominated columns\n",
    "        for i in range(self.size - 1):\n",
    "            c1 = self.scores[\"y\"].transpose()[i]\n",
    "            c2 = self.scores[\"y\"].transpose()[i + 1]\n",
    "            if compare(self, c1, c2, dominatedLines, strict):\n",
    "                if i not in dominatedColumns:\n",
    "                    dominatedColumns += [i]\n",
    "                    findDominated = True\n",
    "            if compare(self, c2, c1, dominatedLines, strict):\n",
    "                if i + 1 not in dominatedColumns:\n",
    "                    dominatedColumns += [i + 1]\n",
    "                    findDominated = True\n",
    "    return result(self, dominatedLines, dominatedColumns)\n",
    "\n",
    "\n",
    "def compare(self, l1, l2, tab, strict):\n",
    "    dominated = True\n",
    "    for i in range(self.size):\n",
    "        if strict:\n",
    "            if (l1[i] < l2[i] and i not in tab) or i in tab:\n",
    "                dominated = dominated and True\n",
    "            else:\n",
    "                dominated = dominated and False\n",
    "        else:\n",
    "            if (l1[i] <= l2[i] and i not in tab) or i in tab:\n",
    "                dominated = dominated and True\n",
    "            else:\n",
    "                dominated = dominated and False\n",
    "    return dominated\n",
    "\n",
    "\n",
    "def result(self, dominatedLines, dominatedColumns):\n",
    "    x = list()\n",
    "    y = list()\n",
    "    res = list()\n",
    "\n",
    "    for i in range(self.size):\n",
    "        if i not in dominatedLines:\n",
    "            x.append(i)\n",
    "        if i not in dominatedColumns:\n",
    "            y.append(i)\n",
    "\n",
    "    for indX in x:\n",
    "        for indY in y:\n",
    "            res.append((indX, indY))\n",
    "\n",
    "    return res\n",
    "\n",
    "\n",
    "print(\"All is ok\")"
   ]
  },
  {
   "cell_type": "markdown",
   "metadata": {},
   "source": [
    "#### Let's continue with the battle of sexes game. \n",
    "Strictly and weakly dominated strategies are tested here."
   ]
  },
  {
   "cell_type": "code",
   "execution_count": null,
   "metadata": {},
   "outputs": [],
   "source": [
    "gs=[(3,2),(1,1),(0,0),(2,3)]     \n",
    "g = Game(gs,['Opera','Stadium'])\n",
    "\n",
    "\n",
    "# We recover the indexes of the non-dominated strategy(ies):\n",
    "print(\"Strongly dominated strategies method\")\n",
    "listOfCoordinates = getDominantStrategies(g)\n",
    "print(\"Non-dominated strategies indexes : \")\n",
    "print(listOfCoordinates)\n",
    "\n",
    "# We print the moves corresponding to these strategies\n",
    "print(\"The corresponding rounds : \")\n",
    "for cor in listOfCoordinates : \n",
    "    print(g.actions[cor[0]], g.actions[cor[1]])\n",
    "\n",
    "# We print the corresponding scores\n",
    "print(\"The corresponding scores : \")\n",
    "for cor in listOfCoordinates : \n",
    "    print(g.scores[cor[0]][cor[1]])\n",
    "\n",
    "print(\" \")\n",
    "\n",
    "# We recover the indexes of the non-dominated strategy(ies)::\n",
    "print(\"Weakly dominated strategies method\")\n",
    "listOfCoordinates = getDominantStrategies(g, strict=\"False\")\n",
    "print(\"Non-dominated strategies indexes : \")\n",
    "print(listOfCoordinates)\n",
    "\n",
    "# We print the moves corresponding to these strategies\n",
    "print(\"The corresponding rounds : \")\n",
    "for cor in listOfCoordinates : \n",
    "    print(g.actions[cor[0]], g.actions[cor[1]])\n",
    "\n",
    "# We print the corresponding scores\n",
    "print(\"The corresponding scores : \")\n",
    "for cor in listOfCoordinates : \n",
    "    print(g.scores[cor[0]][cor[1]])"
   ]
  },
  {
   "cell_type": "markdown",
   "metadata": {},
   "source": [
    "## Exercise 3"
   ]
  },
  {
   "cell_type": "code",
   "execution_count": null,
   "metadata": {},
   "outputs": [],
   "source": [
    "# Simplify the following abstract game. Is there an equilibrium in dominant strategies?\n",
    "exo=[(3,6),(7,1),(4,8),(5,1),(8,2),(6,1),(6,0),(6,2),(3,2)]\n",
    "g = Game(exo,['A','B','C'])\n",
    "\n",
    "# the answer must be a single issue (B,B)->(8,2)\n",
    "listOfCoordinates = getDominantStrategies(g)\n",
    "print(listOfCoordinates)\n"
   ]
  },
  {
   "cell_type": "markdown",
   "metadata": {},
   "source": [
    "## Integration in the class Game\n",
    "All these methods can of course be integrated into the Game class.\n",
    "\n",
    "\n",
    "### Game(tab, actions)\n",
    "- `tab` : the list of score pairs\n",
    "- `actions` : the list of possible choices\n",
    "\n",
    "\n",
    "#### Methods\n",
    "- `getDominantStrategies(self, strict='True')` which prints a list of indexes of non-dominated choices and returns a new Game with this new matrix\n",
    "- `getNash(self)` which returns a list of Nash equilibrium indexes.\n",
    "- `getPareto(self)` which returns a list of indexes of Pareto's equilibria"
   ]
  },
  {
   "cell_type": "code",
   "execution_count": null,
   "metadata": {},
   "outputs": [],
   "source": [
    "%run ../src/game.py\n",
    "\n",
    "print(\"All is ok\")"
   ]
  },
  {
   "cell_type": "markdown",
   "metadata": {},
   "source": [
    "### The prisoner's dilemma\n",
    "\n",
    "The Prisoner's Dilemma, identified by M. Flood and M. Dresher of the Rand Corporation in 1950, is a game theory model specially created to show that Nash's equilibrium is not always a good idea.\n",
    "\n",
    "\n",
    "#### Let's test the Nash and Pareto equilibriums, and the elimination of strictly dominated strategies for this game.\n"
   ]
  },
  {
   "cell_type": "code",
   "execution_count": null,
   "metadata": {},
   "outputs": [],
   "source": [
    "g = Game(dp,['C','D'])\n",
    "\n",
    "\n",
    "print(\"There is one Nash balance for the prisonner's dilemma\")\n",
    "listOfCoordinates = g.getNash()\n",
    "for cor in listOfCoordinates : \n",
    "    print(g.actions[cor[0]], g.actions[cor[1]])\n",
    "print(\" \")\n",
    "\n",
    "print(\"There are three Pareto optimas for the prisoner's dilemma\")\n",
    "listOfCoordinates = g.getPareto()\n",
    "for cor in listOfCoordinates : \n",
    "    print(g.actions[cor[0]], g.actions[cor[1]])\n",
    "print(\" \")\n",
    "\n",
    "print(\"The strictly dominant strategy for the prisoner's dilemma is the strategy where both players choose to Defect.\")\n",
    "listOfCoordinates = getDominantStrategies(g)\n",
    "for cor in listOfCoordinates : \n",
    "    print(g.actions[cor[0]], g.actions[cor[1]])\n",
    "print(\" \")\n"
   ]
  },
  {
   "cell_type": "markdown",
   "metadata": {},
   "source": [
    "## Let's have fun\n",
    "\n",
    "### Create a random game matrix"
   ]
  },
  {
   "cell_type": "code",
   "execution_count": null,
   "metadata": {},
   "outputs": [],
   "source": [
    "x = np.random.randint(0, 5, (3,3))\n",
    "y = np.random.randint(0, 5, (3,3))\n",
    "couples = [(a,b) for a,b in zip(x.flatten(),y.flatten())]\n",
    "g = Game(couples, None)\n",
    "print(g.scores)"
   ]
  },
  {
   "cell_type": "markdown",
   "metadata": {},
   "source": [
    "## Exercise 4"
   ]
  },
  {
   "cell_type": "code",
   "execution_count": null,
   "metadata": {},
   "outputs": [],
   "source": [
    "# Find the Nash equilibrium, Pareto optimum and the dominated strategy for this game\n"
   ]
  },
  {
   "cell_type": "markdown",
   "metadata": {},
   "source": [
    "### Generate all possible matrices\n",
    "\n",
    "In Python it is easy to list all the games with 2 rounds from fixed values. For example, all the games that can be built with the values 1 and 2.\n",
    "The `Itertools` Library provides many efficient iterators, especially for combinations, permutations and Cartesian products. Here it is the Cartesian product of values that interests us.\n",
    "We can then count for example how many games have 0, 1 or more Nash equilibria.\n"
   ]
  },
  {
   "cell_type": "code",
   "execution_count": null,
   "metadata": {},
   "outputs": [],
   "source": [
    "import itertools;\n",
    "import random;\n",
    "\n",
    "def numberOfGames(valeurs, nbCoups):\n",
    "    return len(valeurs)**((nbCoups**2)*2)\n",
    "\n",
    "print(\"Number of games : \", numberOfGames([1,2],2))\n",
    "\n",
    "def enumAllGames(valeurs, nbCoups):\n",
    "    res = [q for q in itertools.product([p for p in itertools.product(list(valeurs), repeat=2)], repeat=nbCoups**2)]\n",
    "    return [[res[j][k] for k in range(nbCoups**2)] for j in range(len(res))]\n",
    "\n",
    "n = enumAllGames([1,2],2)\n",
    "print(\"Printing of 10 possible random sets in this set\")\n",
    "for i in range (10):\n",
    "    print(random.choice(n))\n"
   ]
  },
  {
   "cell_type": "markdown",
   "metadata": {},
   "source": [
    "# Find games with particular constraints\n",
    "It is now easy to search for games that have particular constraints. For example, how many 2-choices games built on (1, 2) have x Nash equilibria?"
   ]
  },
  {
   "cell_type": "code",
   "execution_count": null,
   "metadata": {},
   "outputs": [],
   "source": [
    "def countNashEquilibria(valeurs, coups):\n",
    "    results = [len(Game(i, None).getNash()) for i in enumAllGames(valeurs, coups)]\n",
    "    return dict((i, results.count(i)) for i in set(results))\n",
    "\n",
    "\n",
    "# How many 2-choices games built with (1, 2) have x Nash equilibria?\n",
    "countNashEquilibria([1, 2], 2)"
   ]
  },
  {
   "cell_type": "markdown",
   "metadata": {},
   "source": [
    "What are the two-choices games whose values are taken in (1, 2) and which have exactly the same nash and pareto equilibria?"
   ]
  },
  {
   "cell_type": "code",
   "execution_count": null,
   "metadata": {},
   "outputs": [],
   "source": [
    "nbCoups=2\n",
    "res = [q for q in itertools.combinations([p for p in itertools.product([0,1,3,5], repeat=2)], nbCoups**2)]\n",
    "games = [[res[j][k] for k in range(nbCoups**2)] for j in range(len(res))]\n",
    "print(str(len(games))+\" games studied.\")\n",
    "r = []\n",
    "for g in games:\n",
    "    if ((sorted(Game(g,None).getPareto()) == sorted(Game(g,None).getNash())) and (len(set(g)) == len(g))):\n",
    "        r.append(g)\n",
    "r"
   ]
  },
  {
   "cell_type": "markdown",
   "metadata": {},
   "source": [
    "## Exercise 5"
   ]
  },
  {
   "cell_type": "code",
   "execution_count": null,
   "metadata": {},
   "outputs": [],
   "source": [
    "# Identify a game that has 1 pareto optimum, 2 Nash equilibria, but no equilibrium in dominant strategy\n",
    "\n"
   ]
  },
  {
   "cell_type": "markdown",
   "metadata": {},
   "source": [
    "# Bibliographie\n",
    "\n",
    "- John Von Neumann and Oscar Mogenstern. *Theory of Games and Economic Behavior*. Princeton Classic Editions\n",
    "- Ken Binmore. *La Théorie des jeux, Une introduction.* Les éditions Arkhé\n",
    "- Bernard Guerrien. *La théorie des jeux*. Economica\n",
    "- Jean-Louis Boursin. *Initiation à la théorie des jeux*.  MontChretien\n",
    "- [Wikipedia:GameTheory](https://en.wikipedia.org/wiki/Game_theory)"
   ]
  }
 ],
 "metadata": {
  "kernelspec": {
   "display_name": "Python 3 (ipykernel)",
   "language": "python",
   "name": "python3"
  },
  "language_info": {
   "codemirror_mode": {
    "name": "ipython",
    "version": 3
   },
   "file_extension": ".py",
   "mimetype": "text/x-python",
   "name": "python",
   "nbconvert_exporter": "python",
   "pygments_lexer": "ipython3",
   "version": "3.9.18"
  }
 },
 "nbformat": 4,
 "nbformat_minor": 2
}
